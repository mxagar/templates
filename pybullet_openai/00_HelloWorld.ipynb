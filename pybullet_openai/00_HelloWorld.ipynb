{
 "cells": [
  {
   "cell_type": "markdown",
   "metadata": {},
   "source": [
    "# PyBullet\n",
    "\n",
    "This is a series of notebooks related to PyBullet, created after following the official guide."
   ]
  },
  {
   "cell_type": "markdown",
   "metadata": {},
   "source": [
    "## 1. Introduction"
   ]
  },
  {
   "cell_type": "markdown",
   "metadata": {},
   "source": [
    "Official page: [PyBullet](https://pybullet.org/wordpress/)\n",
    "Guide: [Quickstart](https://docs.google.com/document/d/10sXEhzFRSnvFcl3XxNGhnD4N2SedqwdAvK3dsihxVUA/)\n",
    "\n",
    "Features:\n",
    "- Robotics simulation and machine learning\n",
    "- Robot models (URDF, etc.) can be loaded\n",
    "- Forward & inverse kinematics + dynamics available\n",
    "- Collision detection\n",
    "- Visualization\n",
    "- Shared memory, TCP, UDP communication\n",
    "\n",
    "Installation:\n",
    "```bash\n",
    "# conda environment\n",
    "source/conda activate 3d\n",
    "# install\n",
    "pip3 install pybullet --upgrade --user\n",
    "python3 -m pybullet_envs.examples.enjoy_TF_AntBulletEnv_v0_2017may\n",
    "python3 -m pybullet_envs.examples.enjoy_TF_HumanoidFlagrunHarderBulletEnv_v1_2017jul\n",
    "python3 -m pybullet_envs.deep_mimic.testrl --arg_file run_humanoid3d_backflip_args.txt\n",
    "```"
   ]
  },
  {
   "cell_type": "markdown",
   "metadata": {},
   "source": [
    "### 1.1 Hello World"
   ]
  },
  {
   "cell_type": "code",
   "execution_count": 3,
   "metadata": {},
   "outputs": [],
   "source": [
    "# PyBullet\n",
    "import pybullet as p\n",
    "import time\n",
    "# Sample loader: off-the-shelf samples accessible\n",
    "import pybullet_data"
   ]
  },
  {
   "cell_type": "markdown",
   "metadata": {},
   "source": [
    "PyBullet has a Client-Server Architecture: The Physics is the server that serves data requested by a client. Several servers or connection modes are available; the two most common ones are:\n",
    "- `DIRECT`: only simulation, no graphics nor GUI displayed, but rendered images can be obtained\n",
    "- `GUI`: simulation + graphics (with GUI)\n",
    "\n",
    "The graphics run in a separate thread for `GUI` on Windows/Linux, in the same for OSX.\n",
    "\n",
    "The other connection modes refer to cases where we connect to a server in another process or even on another machine and require additional arguments (such as `hostName` and `port`):\n",
    "- `SHARED_MEMORY`\n",
    "- `UDP`\n",
    "- `TCP_GUI_SERVER`\n",
    "- `SHARED_MEMORY_SERVER`\n",
    "- `SHARED_MEMORY_GUI`\n"
   ]
  },
  {
   "cell_type": "code",
   "execution_count": 4,
   "metadata": {},
   "outputs": [
    {
     "name": "stdout",
     "output_type": "stream",
     "text": [
      "(1.5117627740528593e-08, 1.4889593646656074e-06, 0.47099230897457317) (-3.379035448734749e-08, 3.997113849372463e-09, 9.265643796039036e-08, 0.9999999999999951)\n"
     ]
    }
   ],
   "source": [
    "# Select client connection mode to physics server: DIRECT, GUI, ...\n",
    "# On Mac, if GUI selected, the OpenGL visualization is in the same thread...\n",
    "#physicsClient = p.connect(p.GUI)\n",
    "physicsClient = p.connect(p.DIRECT)\n",
    "# Set search path for off-the-shelf samples or set own path with models\n",
    "p.setAdditionalSearchPath(pybullet_data.getDataPath())\n",
    "# physicsClientId is optional, for when we connect to several servers\n",
    "p.setGravity(0,0,-10)\n",
    "# Loaded from the path added above\n",
    "# For each object we get an Id handle\n",
    "# We can add several arguments:\n",
    "# basePosition, baseOrientation, ...\n",
    "# IMPORTANT parameter: useMaximalCoordinates:\n",
    "# links are defined as 6DoF rigid bodies\n",
    "planeId = p.loadURDF(\"plane.urdf\")\n",
    "startPos = [0,0,1]\n",
    "startOrientation = p.getQuaternionFromEuler([0,0,0])\n",
    "boxId = p.loadURDF(\"r2d2.urdf\", startPos, startOrientation)\n",
    "# Set the center of mass frame (loadURDF sets base link frame)\n",
    "startPosOrn = p.resetBasePositionAndOrientation(boxId, startPos, startOrientation)\n",
    "for i in range (100): # 10000\n",
    "    p.stepSimulation()\n",
    "    time.sleep(1./240.)\n",
    "# Get pose of an object wit its id: Translation + Quaternion\n",
    "cubePos, cubeOrn = p.getBasePositionAndOrientation(boxId)\n",
    "print(cubePos,cubeOrn)"
   ]
  },
  {
   "cell_type": "code",
   "execution_count": 5,
   "metadata": {},
   "outputs": [],
   "source": [
    "# Disconnect client from server\n",
    "p.disconnect()"
   ]
  },
  {
   "cell_type": "code",
   "execution_count": 6,
   "metadata": {},
   "outputs": [
    {
     "data": {
      "text/plain": [
       "'/Users/mxagar/.local/lib/python3.8/site-packages/pybullet_data'"
      ]
     },
     "execution_count": 6,
     "metadata": {},
     "output_type": "execute_result"
    }
   ],
   "source": [
    "# Check where the sample models are located\n",
    "pybullet_data.getDataPath()"
   ]
  },
  {
   "cell_type": "code",
   "execution_count": 7,
   "metadata": {},
   "outputs": [
    {
     "data": {
      "text/plain": [
       "1"
      ]
     },
     "execution_count": 7,
     "metadata": {},
     "output_type": "execute_result"
    }
   ],
   "source": [
    "# Object ID\n",
    "boxId"
   ]
  },
  {
   "cell_type": "code",
   "execution_count": 8,
   "metadata": {},
   "outputs": [
    {
     "data": {
      "text/plain": [
       "0"
      ]
     },
     "execution_count": 8,
     "metadata": {},
     "output_type": "execute_result"
    }
   ],
   "source": [
    "# Physics client\n",
    "physicsClient"
   ]
  },
  {
   "cell_type": "code",
   "execution_count": 9,
   "metadata": {},
   "outputs": [
    {
     "data": {
      "text/plain": [
       "(0.9999999999999828,\n",
       " -1.853128761909076e-07,\n",
       " 7.994221436957118e-09,\n",
       " 1.8531287565065205e-07,\n",
       " 0.9999999999999806,\n",
       " 6.758070971541131e-08,\n",
       " -7.994233960532654e-09,\n",
       " -6.758070823397798e-08,\n",
       " 0.9999999999999977)"
      ]
     },
     "execution_count": 9,
     "metadata": {},
     "output_type": "execute_result"
    }
   ],
   "source": [
    "# Convert Quaternion -> Rotation matrix (row-major)\n",
    "p.getMatrixFromQuaternion(cubeOrn)"
   ]
  },
  {
   "cell_type": "code",
   "execution_count": 10,
   "metadata": {},
   "outputs": [
    {
     "data": {
      "text/plain": [
       "{'isConnected': 0, 'connectionMethod': 0}"
      ]
     },
     "execution_count": 10,
     "metadata": {},
     "output_type": "execute_result"
    }
   ],
   "source": [
    "# Get information of the physics client\n",
    "p.getConnectionInfo(physicsClient)"
   ]
  },
  {
   "cell_type": "markdown",
   "metadata": {},
   "source": [
    "#### Connecting several clients"
   ]
  },
  {
   "cell_type": "markdown",
   "metadata": {},
   "source": [
    "We can start several parallel simulations with `pybullet_utils.bullet_client`.\n",
    "Examples in:\n",
    "- [env_bases.py](https://github.com/bulletphysics/bullet3/blob/master/examples/pybullet/gym/pybullet_envs/env_bases.py)\n",
    "- [multipleScenes.py](\n",
    "https://github.com/bulletphysics/bullet3/blob/master/examples/pybullet/gym/pybullet_utils/examples/multipleScenes.py)"
   ]
  },
  {
   "cell_type": "code",
   "execution_count": 11,
   "metadata": {},
   "outputs": [],
   "source": [
    "from pybullet_utils import bullet_client"
   ]
  },
  {
   "cell_type": "code",
   "execution_count": 12,
   "metadata": {},
   "outputs": [],
   "source": [
    "c = bullet_client.BulletClient(p.GUI)"
   ]
  },
  {
   "cell_type": "code",
   "execution_count": 14,
   "metadata": {},
   "outputs": [],
   "source": [
    "c.disconnect()"
   ]
  },
  {
   "cell_type": "markdown",
   "metadata": {},
   "source": [
    "#### URDF files"
   ]
  },
  {
   "cell_type": "markdown",
   "metadata": {},
   "source": [
    "We define robot systems with them.\n",
    "\n",
    "[URDF Tutorials](http://wiki.ros.org/urdf/Tutorials)"
   ]
  },
  {
   "cell_type": "code",
   "execution_count": null,
   "metadata": {},
   "outputs": [],
   "source": []
  }
 ],
 "metadata": {
  "kernelspec": {
   "display_name": "Python 3",
   "language": "python",
   "name": "python3"
  },
  "language_info": {
   "codemirror_mode": {
    "name": "ipython",
    "version": 3
   },
   "file_extension": ".py",
   "mimetype": "text/x-python",
   "name": "python",
   "nbconvert_exporter": "python",
   "pygments_lexer": "ipython3",
   "version": "3.8.6"
  }
 },
 "nbformat": 4,
 "nbformat_minor": 4
}
