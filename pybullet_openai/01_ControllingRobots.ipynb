{
 "cells": [
  {
   "cell_type": "markdown",
   "metadata": {},
   "source": [
    "# PyBullet\n",
    "\n",
    "This is a series of notebooks related to PyBullet, created after following the official guide.\n",
    "\n",
    "Overview\n",
    "\n",
    "1. Introduction\n",
    "    1.1 Hello World\n",
    "        - Client-server architecture and connection mode\n",
    "        - Most important functions\n",
    "        - URDF files\n",
    "        - GUI control\n",
    "    1.2 Shapes: Visual & Collision\n",
    "    1.3 Simulation: `stepSimulation()`, `performCollisionDetection()`\n",
    "    1.4 Pose Transformations\n",
    "2. Controlling Robots"
   ]
  },
  {
   "cell_type": "markdown",
   "metadata": {},
   "source": [
    "## 2. Controlling Robots"
   ]
  },
  {
   "cell_type": "code",
   "execution_count": null,
   "metadata": {},
   "outputs": [],
   "source": []
  }
 ],
 "metadata": {
  "kernelspec": {
   "display_name": "Python 3",
   "language": "python",
   "name": "python3"
  },
  "language_info": {
   "codemirror_mode": {
    "name": "ipython",
    "version": 3
   },
   "file_extension": ".py",
   "mimetype": "text/x-python",
   "name": "python",
   "nbconvert_exporter": "python",
   "pygments_lexer": "ipython3",
   "version": "3.7.9"
  }
 },
 "nbformat": 4,
 "nbformat_minor": 4
}
