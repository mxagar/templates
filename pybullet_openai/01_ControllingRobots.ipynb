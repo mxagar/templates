{
 "cells": [
  {
   "cell_type": "markdown",
   "metadata": {},
   "source": [
    "# PyBullet\n",
    "\n",
    "This is a series of notebooks related to PyBullet, created after following the official guide.\n",
    "\n",
    "Overview\n",
    "\n",
    "1. Introduction\n",
    "    1.1 Hello World\n",
    "        - Client-server architecture and connection mode\n",
    "        - Most important functions\n",
    "        - URDF files\n",
    "        - GUI control\n",
    "    1.2 Shapes: Visual & Collision\n",
    "    1.3 Simulation: `stepSimulation()`, `performCollisionDetection()`\n",
    "    1.4 Pose Transformations\n",
    "2. Controlling Robots"
   ]
  },
  {
   "cell_type": "markdown",
   "metadata": {},
   "source": [
    "## 2. Controlling Robots"
   ]
  },
  {
   "cell_type": "markdown",
   "metadata": {},
   "source": [
    "A robot described with a URDF has\n",
    "- a base, which can be fully fixed (0 DoF) or free (6 DoF),\n",
    "- and, optionally, links, connected by joints\n",
    "\n",
    "Links and joints have have indices [0-(n-1)] and frames, expressed wrt. the parent links. By convention, base link index is -1."
   ]
  },
  {
   "cell_type": "markdown",
   "metadata": {},
   "source": [
    "<img src=\"pics/robot_link_joint_convention.png\">"
   ]
  },
  {
   "cell_type": "code",
   "execution_count": 5,
   "metadata": {},
   "outputs": [],
   "source": [
    "import pybullet as p\n",
    "import time\n",
    "import pybullet_data"
   ]
  },
  {
   "cell_type": "code",
   "execution_count": 6,
   "metadata": {},
   "outputs": [
    {
     "data": {
      "text/plain": [
       "'C:\\\\Users\\\\msagardia\\\\AppData\\\\Roaming\\\\Python\\\\Python37\\\\site-packages\\\\pybullet_data'"
      ]
     },
     "execution_count": 6,
     "metadata": {},
     "output_type": "execute_result"
    }
   ],
   "source": [
    "pybullet_data.getDataPath()"
   ]
  },
  {
   "cell_type": "code",
   "execution_count": 14,
   "metadata": {},
   "outputs": [
    {
     "name": "stdout",
     "output_type": "stream",
     "text": [
      "(1.5117627740528593e-08, 1.4889593646656074e-06, 0.47099230897457317) (-3.379035448734749e-08, 3.997113849372463e-09, 9.265643796039036e-08, 0.9999999999999951)\n"
     ]
    }
   ],
   "source": [
    "physicsClient = p.connect(p.DIRECT)\n",
    "p.setAdditionalSearchPath(pybullet_data.getDataPath())\n",
    "p.setGravity(0,0,-10)\n",
    "planeId = p.loadURDF(\"plane.urdf\")\n",
    "startPos = [0,0,1]\n",
    "startOrientation = p.getQuaternionFromEuler([0,0,0])\n",
    "boxId = p.loadURDF(\"r2d2.urdf\", startPos, startOrientation)\n",
    "startPosOrn = p.resetBasePositionAndOrientation(boxId, startPos, startOrientation)\n",
    "for i in range (100): # 10000\n",
    "    p.stepSimulation() # optional: physicsClientId\n",
    "    time.sleep(1./240.)\n",
    "cubePos, cubeOrn = p.getBasePositionAndOrientation(boxId)\n",
    "print(cubePos,cubeOrn)"
   ]
  },
  {
   "cell_type": "code",
   "execution_count": 12,
   "metadata": {},
   "outputs": [],
   "source": [
    "#p.disconnect()"
   ]
  },
  {
   "cell_type": "code",
   "execution_count": 15,
   "metadata": {},
   "outputs": [
    {
     "data": {
      "text/plain": [
       "15"
      ]
     },
     "execution_count": 15,
     "metadata": {},
     "output_type": "execute_result"
    }
   ],
   "source": [
    "# Get number of joints\n",
    "p.getNumJoints(boxId)"
   ]
  },
  {
   "cell_type": "code",
   "execution_count": 21,
   "metadata": {},
   "outputs": [
    {
     "data": {
      "text/plain": [
       "(14,\n",
       " b'tobox',\n",
       " 4,\n",
       " -1,\n",
       " -1,\n",
       " 0,\n",
       " 0.0,\n",
       " 0.0,\n",
       " 0.0,\n",
       " -1.0,\n",
       " 0.0,\n",
       " 0.0,\n",
       " b'box',\n",
       " (0.0, 0.0, 0.0),\n",
       " (0.0, 0.1214, 0.1214),\n",
       " (0.0, 0.0, 0.0, 1.0),\n",
       " 13)"
      ]
     },
     "execution_count": 21,
     "metadata": {},
     "output_type": "execute_result"
    }
   ],
   "source": [
    "# Get joint information: returned list:\n",
    "# jointIndex\n",
    "# jointName\n",
    "# jointType\n",
    "# qIndex\n",
    "# uIndex\n",
    "# flags\n",
    "# Some values defined in the URDF:\n",
    "# damping, friction, lower limit, upper limit, max force, max velocity,\n",
    "# link name, joint axis, parent frame pos, parent frame ordientation, parent index\n",
    "p.getJointInfo(boxId,14)"
   ]
  },
  {
   "cell_type": "markdown",
   "metadata": {},
   "source": [
    "### 2.1 Joint Control"
   ]
  },
  {
   "cell_type": "markdown",
   "metadata": {},
   "source": [
    "We select a control mode; each mode has its parameters:\n",
    "- `POSITION_CONTROL`: `positionGain`, `maxVelocity`, `velocityGain`: constraint error minimized = positionGain * (desired_position-actual_position) + velocityGain * (desired_velocity-actual_velocity)\n",
    "- `VELOCITY_CONTROL`: `velocityGain`: desired_velocity-actual_velocity\n",
    "- `TORQUE_CONTROL`: torque applied instantly, effective only when calling `stepSimulation()`; generally it is better to use the prior two first\n",
    "- `PD_CONTROL`\n",
    "\n",
    "Example call with `setJointMotorControl2()`:\n",
    "```python\n",
    "maxForce = 500\n",
    "mode = p.VELOCITY_CONTROL\n",
    "p.setJointMotorControl2(bodyUniqueId=objUid, # returned by loadURDF\n",
    "                        jointIndex=0, # jointIndex = linkIndex\n",
    "                        controlMode=mode,\n",
    "                        targetVelocity = targetVel,\n",
    "                        force = maxForce)\n",
    "```\n",
    "\n",
    "\n",
    "\n",
    "Notes:\n",
    "- Use `setJointMotorControl2()` or `setJointMotorControlArray()`, not `setJointMotorControl()`.\n",
    "- `setJointMotorControlArray()` takes the same parameters as `setJointMotorControl2()` but in an array of `ints`.\n",
    "- `setJointMotorControlMultiDof()` and `setJointMotorControlMultiDofArray()` support spherical joints."
   ]
  },
  {
   "cell_type": "markdown",
   "metadata": {},
   "source": [
    "### 2.2 Joint States"
   ]
  },
  {
   "cell_type": "code",
   "execution_count": 23,
   "metadata": {},
   "outputs": [
    {
     "data": {
      "text/plain": [
       "(0.0, 0.0, (0.0, 0.0, 0.0, 0.0, 0.0, 0.0), 0.0)"
      ]
     },
     "execution_count": 23,
     "metadata": {},
     "output_type": "execute_result"
    }
   ],
   "source": [
    "# Get joint state:\n",
    "# postion (1)\n",
    "# velocity (1)\n",
    "# reaction forces (fx, fy, fz, tx. ty. tz) = 0 if no sensor\n",
    "# appliedJointMotorTorque (1): applied during setpSimulation()\n",
    "p.getJointState(boxId,14)"
   ]
  },
  {
   "cell_type": "code",
   "execution_count": null,
   "metadata": {},
   "outputs": [],
   "source": []
  }
 ],
 "metadata": {
  "kernelspec": {
   "display_name": "Python 3",
   "language": "python",
   "name": "python3"
  },
  "language_info": {
   "codemirror_mode": {
    "name": "ipython",
    "version": 3
   },
   "file_extension": ".py",
   "mimetype": "text/x-python",
   "name": "python",
   "nbconvert_exporter": "python",
   "pygments_lexer": "ipython3",
   "version": "3.7.9"
  }
 },
 "nbformat": 4,
 "nbformat_minor": 4
}
