{
 "cells": [
  {
   "cell_type": "markdown",
   "metadata": {},
   "source": [
    "# PyBullet\n",
    "\n",
    "This is a series of notebooks related to PyBullet, created after following the official guide.\n",
    "\n",
    "Overview\n",
    "\n",
    "1. Introduction\n",
    "    1.1 Hello World\n",
    "        - Client-server architecture and connection mode\n",
    "        - Most important functions\n",
    "        - URDF files\n",
    "        - GUI control\n",
    "    1.2 Shapes: Visual & Collision\n",
    "    1.3 Simulation: `stepSimulation()`, `performCollisionDetection()`\n",
    "    1.4 Pose Transformations\n",
    "2. Controlling Robots"
   ]
  },
  {
   "cell_type": "markdown",
   "metadata": {},
   "source": [
    "## 1. Introduction"
   ]
  },
  {
   "cell_type": "markdown",
   "metadata": {},
   "source": [
    "Official page: [PyBullet](https://pybullet.org/wordpress/)\n",
    "Guide: [Quickstart](https://docs.google.com/document/d/10sXEhzFRSnvFcl3XxNGhnD4N2SedqwdAvK3dsihxVUA/)\n",
    "\n",
    "Features:\n",
    "- Robotics simulation and machine learning\n",
    "- Robot models (URDF, etc.) can be loaded\n",
    "- Forward & inverse kinematics + dynamics available\n",
    "- Collision detection\n",
    "- Visualization\n",
    "- Shared memory, TCP, UDP communication\n",
    "\n",
    "Installation:\n",
    "```bash\n",
    "# conda environment\n",
    "source/conda activate 3d\n",
    "# install\n",
    "pip3 install pybullet --upgrade --user\n",
    "python3 -m pybullet_envs.examples.enjoy_TF_AntBulletEnv_v0_2017may\n",
    "python3 -m pybullet_envs.examples.enjoy_TF_HumanoidFlagrunHarderBulletEnv_v1_2017jul\n",
    "python3 -m pybullet_envs.deep_mimic.testrl --arg_file run_humanoid3d_backflip_args.txt\n",
    "```\n",
    "\n",
    "In addition to the python library, I cloned the Bullet repositories, because they contain many examples referenced in the Quickstart guide:\n",
    "\n",
    "```bash\n",
    "browser https://github.com/bulletphysics\n",
    "cd ~/play/git_repositories/foreign\n",
    "git clone https://github.com/bulletphysics/bullet3.git\n",
    "git clone https://github.com/bulletphysics/pybullet_robots.git\n",
    "```\n",
    "\n",
    "Many examples are available and ready to be executed (open VS Code + select conda:3d + click on play) on:\n",
    "```bash\n",
    "~/play/git_repositories/foreign/bullet3/examples/pybullet/examples\n",
    "```"
   ]
  },
  {
   "cell_type": "markdown",
   "metadata": {},
   "source": [
    "### 1.1 Hello World"
   ]
  },
  {
   "cell_type": "code",
   "execution_count": 1,
   "metadata": {},
   "outputs": [],
   "source": [
    "# PyBullet\n",
    "import pybullet as p\n",
    "import time\n",
    "# Sample loader: off-the-shelf samples accessible\n",
    "import pybullet_data"
   ]
  },
  {
   "cell_type": "markdown",
   "metadata": {},
   "source": [
    "PyBullet has a Client-Server Architecture: The Physics is the server that serves data requested by a client. Several servers or connection modes are available; the two most common ones are:\n",
    "- `DIRECT`: only simulation, no graphics nor GUI displayed, but rendered images can be obtained\n",
    "- `GUI`: simulation + graphics (with GUI)\n",
    "\n",
    "The graphics run in a separate thread for `GUI` on Windows/Linux, in the same for OSX.\n",
    "\n",
    "The other connection modes refer to cases where we connect to a server in another process or even on another machine and require additional arguments (such as `hostName` and `port`):\n",
    "- `SHARED_MEMORY`\n",
    "- `UDP`\n",
    "- `TCP_GUI_SERVER`\n",
    "- `SHARED_MEMORY_SERVER`\n",
    "- `SHARED_MEMORY_GUI`\n"
   ]
  },
  {
   "cell_type": "code",
   "execution_count": 11,
   "metadata": {},
   "outputs": [
    {
     "name": "stdout",
     "output_type": "stream",
     "text": [
      "(-0.2899307775179597, -0.8812266213889578, 0.9091515263323624) (-0.601940773233314, 0.7518043232060332, -0.07672059866830999, -0.25801456328659933)\n"
     ]
    }
   ],
   "source": [
    "# Select client connection mode to physics server: DIRECT, GUI, ...\n",
    "# On Mac, if GUI selected, the OpenGL visualization is in the same thread...\n",
    "#physicsClient = p.connect(p.GUI)\n",
    "physicsClient = p.connect(p.DIRECT)\n",
    "# Set search path for off-the-shelf samples or set own path with models\n",
    "p.setAdditionalSearchPath(pybullet_data.getDataPath())\n",
    "# physicsClientId is optional, for when we connect to several servers\n",
    "p.setGravity(0,0,-10)\n",
    "# Loaded from the path added above\n",
    "# For each object we get an Id handle\n",
    "# We can add several arguments:\n",
    "# basePosition, baseOrientation, flags (many options)...\n",
    "# IMPORTANT parameter: useMaximalCoordinates:\n",
    "# links are defined as 6DoF rigid bodies\n",
    "# and constraints defined between them using btMultiBody\n",
    "# There are also other load interfaces:\n",
    "# - loadSDF: Simulation Description Format, native Gazebo\n",
    "# - loadMJCF: MuJoCo, used in OpenAI\n",
    "planeId = p.loadURDF(\"plane.urdf\")\n",
    "startPos = [0,0,1]\n",
    "startOrientation = p.getQuaternionFromEuler([0,0,0])\n",
    "boxId = p.loadURDF(\"r2d2.urdf\", startPos, startOrientation)\n",
    "# Set the center of mass frame (loadURDF sets base link frame)\n",
    "startPosOrn = p.resetBasePositionAndOrientation(boxId, startPos, startOrientation)\n",
    "for i in range (100): # 10000\n",
    "    # Forward dynamics simulation:\n",
    "    # collision detection + constraint solving + integration\n",
    "    # Default time step is 1/240 seconds\n",
    "    p.stepSimulation() # optional: physicsClientId\n",
    "    time.sleep(1./240.)\n",
    "# Get pose of an object wit its id: Translation + Quaternion\n",
    "cubePos, cubeOrn = p.getBasePositionAndOrientation(boxId)\n",
    "print(cubePos,cubeOrn)"
   ]
  },
  {
   "cell_type": "code",
   "execution_count": null,
   "metadata": {},
   "outputs": [],
   "source": [
    "# We can save the state on memory (saveState) and on disk (saveBullet)\n",
    "# and then restore it with restoreState.\n",
    "# Anothe roption is saveWorld, but the complete state is not saved\n",
    "stateId = p.saveState()\n",
    "p.restoreState(stateId)\n",
    "p.removeState(stateId)\n",
    "p.saveBullet(\"state.bullet\")\n",
    "p.restoreState(fileName=\"state.bullet\")"
   ]
  },
  {
   "cell_type": "code",
   "execution_count": 9,
   "metadata": {},
   "outputs": [],
   "source": [
    "# Disconnect client from server\n",
    "# Always run it to clear server & client\n",
    "p.disconnect()"
   ]
  },
  {
   "cell_type": "code",
   "execution_count": 15,
   "metadata": {},
   "outputs": [
    {
     "data": {
      "text/plain": [
       "'C:\\\\Users\\\\msagardia\\\\AppData\\\\Roaming\\\\Python\\\\Python37\\\\site-packages\\\\pybullet_data'"
      ]
     },
     "execution_count": 15,
     "metadata": {},
     "output_type": "execute_result"
    }
   ],
   "source": [
    "# Check where the sample models are located\n",
    "pybullet_data.getDataPath()"
   ]
  },
  {
   "cell_type": "code",
   "execution_count": 16,
   "metadata": {},
   "outputs": [
    {
     "data": {
      "text/plain": [
       "1"
      ]
     },
     "execution_count": 16,
     "metadata": {},
     "output_type": "execute_result"
    }
   ],
   "source": [
    "# Object ID\n",
    "boxId"
   ]
  },
  {
   "cell_type": "code",
   "execution_count": 17,
   "metadata": {},
   "outputs": [
    {
     "data": {
      "text/plain": [
       "0"
      ]
     },
     "execution_count": 17,
     "metadata": {},
     "output_type": "execute_result"
    }
   ],
   "source": [
    "# Physics client\n",
    "physicsClient"
   ]
  },
  {
   "cell_type": "code",
   "execution_count": 18,
   "metadata": {},
   "outputs": [
    {
     "data": {
      "text/plain": [
       "(0.9999999999999828,\n",
       " -1.853128761909076e-07,\n",
       " 7.994221436957118e-09,\n",
       " 1.8531287565065205e-07,\n",
       " 0.9999999999999806,\n",
       " 6.758070971541131e-08,\n",
       " -7.994233960532654e-09,\n",
       " -6.758070823397798e-08,\n",
       " 0.9999999999999977)"
      ]
     },
     "execution_count": 18,
     "metadata": {},
     "output_type": "execute_result"
    }
   ],
   "source": [
    "# Convert Quaternion -> Rotation matrix (row-major)\n",
    "p.getMatrixFromQuaternion(cubeOrn)"
   ]
  },
  {
   "cell_type": "code",
   "execution_count": 19,
   "metadata": {},
   "outputs": [
    {
     "data": {
      "text/plain": [
       "{'isConnected': 0, 'connectionMethod': 0}"
      ]
     },
     "execution_count": 19,
     "metadata": {},
     "output_type": "execute_result"
    }
   ],
   "source": [
    "# Get information of the physics client\n",
    "p.getConnectionInfo(physicsClient)"
   ]
  },
  {
   "cell_type": "markdown",
   "metadata": {},
   "source": [
    "#### Connecting several clients"
   ]
  },
  {
   "cell_type": "markdown",
   "metadata": {},
   "source": [
    "We can start several parallel simulations with `pybullet_utils.bullet_client`.\n",
    "Examples in:\n",
    "- [env_bases.py](https://github.com/bulletphysics/bullet3/blob/master/examples/pybullet/gym/pybullet_envs/env_bases.py)\n",
    "- [multipleScenes.py](\n",
    "https://github.com/bulletphysics/bullet3/blob/master/examples/pybullet/gym/pybullet_utils/examples/multipleScenes.py)"
   ]
  },
  {
   "cell_type": "code",
   "execution_count": 20,
   "metadata": {},
   "outputs": [],
   "source": [
    "from pybullet_utils import bullet_client"
   ]
  },
  {
   "cell_type": "code",
   "execution_count": 21,
   "metadata": {},
   "outputs": [],
   "source": [
    "c = bullet_client.BulletClient(p.GUI)"
   ]
  },
  {
   "cell_type": "code",
   "execution_count": 22,
   "metadata": {},
   "outputs": [],
   "source": [
    "c.disconnect()"
   ]
  },
  {
   "cell_type": "markdown",
   "metadata": {},
   "source": [
    "#### URDF files"
   ]
  },
  {
   "cell_type": "markdown",
   "metadata": {},
   "source": [
    "We define robot systems with them, consisting of **links** and **joints**:\n",
    "- Each link can be defined as a shape or COLLADA `.dae` mesh file; link pose can be defined too, as well as different properties: visual object, collision object, inertia, etc.\n",
    "- Each joint can be of a different type: `fixed`, `continuous`, `revolute`, `prismatic`, etc.; each type has its parameters, as well as proerties (e.g., friction, damping).\n",
    "\n",
    "For concrete examples: [URDF Tutorials](http://wiki.ros.org/urdf/Tutorials)\n",
    "\n",
    "Simple example: a cylinder and a box, `multipleshapes.urdf`: \n",
    "\n",
    "```xml\n",
    "<?xml version=\"1.0\"?>\n",
    "<robot name=\"multipleshapes\">\n",
    "  <link name=\"base_link\">\n",
    "    <visual>\n",
    "      <geometry>\n",
    "        <cylinder length=\"0.6\" radius=\"0.2\"/>\n",
    "      </geometry>\n",
    "    </visual>\n",
    "  </link>\n",
    "\n",
    "  <link name=\"right_leg\">\n",
    "    <visual>\n",
    "      <geometry>\n",
    "        <box size=\"0.6 0.1 0.2\"/>\n",
    "      </geometry>\n",
    "    </visual>\n",
    "  </link>\n",
    "\n",
    "  <joint name=\"base_to_right_leg\" type=\"fixed\">\n",
    "    <parent link=\"base_link\"/>\n",
    "    <child link=\"right_leg\"/>\n",
    "  </joint>\n",
    "\n",
    "</robot>\n",
    "```"
   ]
  },
  {
   "cell_type": "markdown",
   "metadata": {},
   "source": [
    "#### GUI\n",
    "\n",
    "Mouse control:\n",
    "- Ctrl/Alt + Left Click = Rotate\n",
    "- Ctrl/Alt + Middel Click = Translate\n",
    "- Ctrl/Alt + Right Click = Zoom in/out\n",
    "- Left Click: grab and move an object\n",
    "\n",
    "Pannels:"
   ]
  },
  {
   "cell_type": "markdown",
   "metadata": {},
   "source": [
    "### 1.2 Shapes: Visual & Collision"
   ]
  },
  {
   "cell_type": "markdown",
   "metadata": {},
   "source": [
    "We can create collision and visual shapes with `p.createCollisionShape()` and `p.createVisualShape()`. Then, an object is created with `p.createMultiBody()`. Predefined collision shapes are available:\n",
    "\n",
    "```bash\n",
    "p.GEOM_SPHERE\n",
    "p.GEOM_BOX\n",
    "p.GEOM_CAPSULE\n",
    "p.GEOM_CYLINDER\n",
    "p.GEOM_PLANE\n",
    "p.GEOM_MESH\n",
    "p.GEOM_HEIGHTFIELD\n",
    "```\n",
    "\n",
    "Shape-specific parameters can be passed to each collision shape: `radius`, `halfExtens`, etc.\n",
    "\n",
    "We can create an array of collision shapes using `p.createCollisionShapeArray()`.\n",
    "\n",
    "We can remove an existing collision shape passing its id to `p.removeCollisionShape()`.\n",
    "\n",
    "The interface `p.createMultiBody()` can be used to create multi-body structures (bodies + constraints/links) or single objects. See more in [createMultiBodyLinks.py](https://github.com/bulletphysics/bullet3/blob/master/examples/pybullet/examples/createMultiBodyLinks.py)."
   ]
  },
  {
   "cell_type": "code",
   "execution_count": 28,
   "metadata": {},
   "outputs": [],
   "source": [
    "import pybullet as p\n",
    "import time\n",
    "import pybullet_data\n",
    "\n",
    "p.connect(p.GUI)\n",
    "p.setAdditionalSearchPath(pybullet_data.getDataPath())\n",
    "p.createCollisionShape(p.GEOM_PLANE)\n",
    "\n",
    "sphereRadius = 0.05\n",
    "shift = [0, -0.02, 0]\n",
    "meshScale = [0.5, 0.5, 0.5]\n",
    "# Visual shapes are often meshes\n",
    "# We pass them color an material (.mtl for OBJ) properties\n",
    "visualShapeId = p.createVisualShape(shapeType=p.GEOM_MESH,\n",
    "                                    fileName=\"duck.obj\",\n",
    "                                    rgbaColor=[1, 1, 1, 1],\n",
    "                                    specularColor=[0.4, .4, 0],\n",
    "                                    visualFramePosition=shift,\n",
    "                                    meshScale=meshScale)\n",
    "#collisionShapeId = p.createCollisionShape(shapeType=p.GEOM_MESH,\n",
    "#                                          fileName=\"duck_vhacd.obj\",\n",
    "#                                          collisionFramePosition=shift,\n",
    "#                                          meshScale=meshScale)\n",
    "collisionShapeId = p.createCollisionShape(shapeType=p.GEOM_SPHERE,\n",
    "                                          radius=sphereRadius,\n",
    "                                          collisionFramePosition=shift)\n",
    "\n",
    "rangex = 1\n",
    "rangey = 1\n",
    "for i in range(rangex):\n",
    "    for j in range(rangey):\n",
    "        p.createMultiBody(baseMass=1,\n",
    "                          baseInertialFramePosition=[0, 0, 0],\n",
    "                          baseCollisionShapeIndex=collisionShapeId,\n",
    "                          baseVisualShapeIndex=visualShapeId,\n",
    "                          basePosition=[((-rangex / 2) + i) * meshScale[0] * 2,\n",
    "                                        (-rangey / 2 + j) * meshScale[1] * 2, 1],\n",
    "                          useMaximalCoordinates=True)\n",
    "\n",
    "p.setGravity(0,0,-10)\n",
    "startPosOrnSphere = p.resetBasePositionAndOrientation(colSphereId, [0,0,0], [1,0,0,0])\n",
    "startPosOrnBox = p.resetBasePositionAndOrientation(colSphereId, [0.5,0,0], [1,0,0,0])\n",
    "for i in range (100): # 10000\n",
    "    p.stepSimulation()\n",
    "    time.sleep(1./240.)"
   ]
  },
  {
   "cell_type": "code",
   "execution_count": 29,
   "metadata": {},
   "outputs": [],
   "source": [
    "# Disconnect client from server\n",
    "# Always run it to clear server & client\n",
    "p.disconnect()"
   ]
  },
  {
   "cell_type": "markdown",
   "metadata": {},
   "source": [
    "#### getMeshData()\n",
    "\n",
    "There is an experimental function for obtaining mesh information (vertices & co.), but here it seems it's not working?"
   ]
  },
  {
   "cell_type": "code",
   "execution_count": 25,
   "metadata": {},
   "outputs": [
    {
     "name": "stdout",
     "output_type": "stream",
     "text": [
      "meshData= (0, ())\n"
     ]
    }
   ],
   "source": [
    "import pybullet as p\n",
    "import time\n",
    "import pybullet_data\n",
    "\n",
    "p.connect(p.GUI)\n",
    "boxId = p.loadURDF(\"cube.urdf\", [0,3,2],useMaximalCoordinates = True)\n",
    "meshData = p.getMeshData(boxId)\n",
    "print(\"meshData=\",meshData)"
   ]
  },
  {
   "cell_type": "code",
   "execution_count": 26,
   "metadata": {},
   "outputs": [],
   "source": [
    "p.disconnect()"
   ]
  },
  {
   "cell_type": "markdown",
   "metadata": {},
   "source": [
    "### 1.3 Simulation: `stepSimulation()`, `performCollisionDetection()`"
   ]
  },
  {
   "cell_type": "markdown",
   "metadata": {},
   "source": [
    "Important API functions for the forward dynamics.\n",
    "\n",
    "`p.stepSimulartion()`: Collision detection + Constraint solving + Motion equation integration.\n",
    "\n",
    "\n",
    "`p.performCollisionDetection()`: If called instead of `p.stepSimulartion()`, only collisition detection is performed. Then, we can use `p.getContactPoints()`.\n",
    "\n",
    "\n",
    "`p.setRealTimeSimulation()`: Usually, we need to actively call `p.stepSimulartion()` to make a forward step in the dynamics calculation. If we do `p.setRealTimeSimulation()`, the server itself decides when to make the step using the real-time clock (RTC), and `p.stepSimulartion()` is no longer necessary. That does not work in `p.DIRECT` mode (because the server and the client are in the same thread), but in all others."
   ]
  },
  {
   "cell_type": "markdown",
   "metadata": {},
   "source": [
    "### 1.4 Pose Transformations"
   ]
  },
  {
   "cell_type": "markdown",
   "metadata": {},
   "source": [
    "List of interfaces:\n",
    "\n",
    "- `p.resetBasePositionAndOrientation()`\n",
    "- `p.getBasePositionAndOrientation()` \n",
    "- `p.getQuaternionFromEuler()` \n",
    "- `p.getEulerFromQuaternion()` \n",
    "- `p.getMatrixFromQuaternion()` \n",
    "- `p.getAxisAngleFromQuaternion()` \n",
    "- `p.getDifferenceQuaternion()`\n",
    "- `p.multiplyTransforms()`\n",
    "- `p.invertTransform()`\n"
   ]
  },
  {
   "cell_type": "code",
   "execution_count": 57,
   "metadata": {},
   "outputs": [],
   "source": [
    "import pybullet as p\n",
    "import time\n",
    "import pybullet_data\n",
    "import math"
   ]
  },
  {
   "cell_type": "code",
   "execution_count": 58,
   "metadata": {},
   "outputs": [],
   "source": [
    "physicsClient = p.connect(p.DIRECT)\n",
    "p.setAdditionalSearchPath(pybullet_data.getDataPath())\n",
    "p.setGravity(0,0,-10)\n",
    "planeId = p.loadURDF(\"plane.urdf\")\n",
    "startPos = [0,0,1]\n",
    "startOrientation = p.getQuaternionFromEuler([0,0,0])\n",
    "boxId = p.loadURDF(\"r2d2.urdf\", startPos, startOrientation)\n",
    "startPosOrn = p.resetBasePositionAndOrientation(boxId, startPos, startOrientation)\n",
    "for i in range (100): # 10000\n",
    "    p.stepSimulation()\n",
    "    time.sleep(1./240.)"
   ]
  },
  {
   "cell_type": "code",
   "execution_count": 59,
   "metadata": {},
   "outputs": [
    {
     "name": "stdout",
     "output_type": "stream",
     "text": [
      "(0.01743355299305741, -0.026064609592711174, 1.9707092784097282) (0.08780611449535611, 0.03839278492313803, -0.02730737376471416, 0.9950228076085232)\n"
     ]
    }
   ],
   "source": [
    "# Get Position and Orientation of an Object\n",
    "# Position = [x,y,z]\n",
    "# Orientation: by default it is a Quaternion = [x,y,z,w]\n",
    "# However, we can use other representations for the orientation\n",
    "# - Euler angles = [yaw, pitch, roll]: getQuaternionFromEuler(), getEulerFromQuaternion()\n",
    "# - Rotation matrix = [r11, r12, r13, r21, r22, r23, r31, r32, r33]: getMatrixFromQuaternion()\n",
    "# - Axis & Angle = [ax, ax, az, alpha]: getAxisAngleFromQuaternion\n",
    "cubePos1, cubeOrn1 = p.getBasePositionAndOrientation(boxId)\n",
    "print(cubePos1,cubeOrn1)"
   ]
  },
  {
   "cell_type": "code",
   "execution_count": 62,
   "metadata": {},
   "outputs": [
    {
     "name": "stdout",
     "output_type": "stream",
     "text": [
      "(0.0, 0.0, 0.7071067811865476, 0.7071067811865476)\n"
     ]
    }
   ],
   "source": [
    "# Reset Position and Orientation of an Object\n",
    "# Use \n",
    "newOrientation = p.getQuaternionFromEuler([0,0,0.5*math.pi])\n",
    "print(newOrientation)\n",
    "p.resetBasePositionAndOrientation(boxId, [0,0,0],newOrientation)"
   ]
  },
  {
   "cell_type": "code",
   "execution_count": 63,
   "metadata": {},
   "outputs": [
    {
     "name": "stdout",
     "output_type": "stream",
     "text": [
      "(0.0, 0.0, 0.0) (0.0, 0.0, 0.7071067811865475, 0.7071067811865476)\n"
     ]
    }
   ],
   "source": [
    "# Check that the pose is now 0\n",
    "cubePos2, cubeOrn2 = p.getBasePositionAndOrientation(boxId)\n",
    "print(cubePos2,cubeOrn2)"
   ]
  },
  {
   "cell_type": "code",
   "execution_count": 72,
   "metadata": {},
   "outputs": [
    {
     "name": "stdout",
     "output_type": "stream",
     "text": [
      "Euler =  (0.0, -0.0, 1.5707963267948963)\n",
      "Quaternion =  (0.0, 0.0, 0.7071067811865475, 0.7071067811865477)\n",
      "RotMat =  (2.220446049250313e-16, -1.0000000000000002, 0.0, 1.0000000000000002, 2.220446049250313e-16, 0.0, 0.0, 0.0, 1.0)\n",
      "AxisAngle =  ((0.0, 0.0, 0.9999999403953552), 1.5707963705062866)\n"
     ]
    }
   ],
   "source": [
    "# Get different orientation representations\n",
    "eulerOrn = p.getEulerFromQuaternion(cubeOrn2)\n",
    "print(\"Euler = \",eulerOrn)\n",
    "quatOrn = p.getQuaternionFromEuler(eulerOrn)\n",
    "print(\"Quaternion = \",quatOrn)\n",
    "rotMat = p.getMatrixFromQuaternion(quatOrn)\n",
    "print(\"RotMat = \",rotMat)\n",
    "axisAngle = p.getAxisAngleFromQuaternion(quatOrn)\n",
    "print(\"AxisAngle = \",axisAngle)"
   ]
  },
  {
   "cell_type": "code",
   "execution_count": null,
   "metadata": {},
   "outputs": [],
   "source": [
    "# Transformations\n",
    "# multiplyTransforms: compose transformation poses\n",
    "# invertTransform: invert transformation poses\n",
    "# getDifferenceQuaternion: get rotation step from start to end orientation"
   ]
  },
  {
   "cell_type": "code",
   "execution_count": 92,
   "metadata": {},
   "outputs": [],
   "source": [
    "pos1 = [0,0,0]\n",
    "rot1 = p.getQuaternionFromEuler([0,0,0.25*math.pi]) # pi/4 = 45\n",
    "pos2 = [1,1,1]\n",
    "rot2 = p.getQuaternionFromEuler([0,0,0.5*math.pi]) # pi/2 = 90"
   ]
  },
  {
   "cell_type": "code",
   "execution_count": 93,
   "metadata": {},
   "outputs": [
    {
     "name": "stdout",
     "output_type": "stream",
     "text": [
      "(0.0, 0.0, 0.3826833963394165, 0.9238795042037964)\n",
      "45.00000808242825\n"
     ]
    }
   ],
   "source": [
    "rotDiff = p.getDifferenceQuaternion(rot1,rot2)\n",
    "print(rotDiff)\n",
    "print(p.getAxisAngleFromQuaternion(rotDiff)[1]*180/math.pi)"
   ]
  },
  {
   "cell_type": "code",
   "execution_count": 94,
   "metadata": {},
   "outputs": [
    {
     "name": "stdout",
     "output_type": "stream",
     "text": [
      "(-0.0, 0.0, -0.0) (0.0, 0.0, -0.3826834559440613, 0.9238795042037964)\n"
     ]
    }
   ],
   "source": [
    "# Now we simulate getDifferenceQuaternion by using invertTransform and multiplyTransforms\n",
    "# NOTE: it seems the translation vector is not correct...?\n",
    "pos1_inv, rot1_inv = p.invertTransform(pos1,rot1)\n",
    "print(pos1_inv,rot1_inv)"
   ]
  },
  {
   "cell_type": "code",
   "execution_count": 97,
   "metadata": {},
   "outputs": [
    {
     "name": "stdout",
     "output_type": "stream",
     "text": [
      "(1.4142135381698608, -1.1920928955078125e-07, 1.0) (0.0, 0.0, 0.3826833963394165, 0.9238795638084412)\n",
      "44.99999100695533\n"
     ]
    }
   ],
   "source": [
    "posStep, rotStep = p.multiplyTransforms(pos1_inv, rot1_inv, pos2, rot2)\n",
    "print(posStep, rotStep)\n",
    "print(p.getAxisAngleFromQuaternion(rotStep)[1]*180/math.pi)"
   ]
  },
  {
   "cell_type": "code",
   "execution_count": 98,
   "metadata": {},
   "outputs": [],
   "source": [
    "p.disconnect()"
   ]
  },
  {
   "cell_type": "code",
   "execution_count": null,
   "metadata": {},
   "outputs": [],
   "source": []
  },
  {
   "cell_type": "code",
   "execution_count": null,
   "metadata": {},
   "outputs": [],
   "source": []
  },
  {
   "cell_type": "code",
   "execution_count": null,
   "metadata": {},
   "outputs": [],
   "source": []
  }
 ],
 "metadata": {
  "kernelspec": {
   "display_name": "Python 3",
   "language": "python",
   "name": "python3"
  },
  "language_info": {
   "codemirror_mode": {
    "name": "ipython",
    "version": 3
   },
   "file_extension": ".py",
   "mimetype": "text/x-python",
   "name": "python",
   "nbconvert_exporter": "python",
   "pygments_lexer": "ipython3",
   "version": "3.7.9"
  }
 },
 "nbformat": 4,
 "nbformat_minor": 4
}
