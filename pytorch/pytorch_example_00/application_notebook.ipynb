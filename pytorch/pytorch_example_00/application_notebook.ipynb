{
 "cells": [
  {
   "cell_type": "markdown",
   "metadata": {},
   "source": [
    "# Neural Networks with Pytorch\n",
    "\n",
    "This notebook implements the utilities from `fullyconnected_neuralnetwork.py` in an easy example.\n",
    "All in all, the basic use of Pytorch is showcased: dataset loading, model definition, model training, image inferece & visualization.\n",
    "The notebook is divided in 4 sections:\n",
    "\n",
    "1. Tensors: basic usage of the tensor structure is explained\n",
    "2. Main Exemplary Application: `fullyconnected_neuralnetwork.py` is employed in an easy application\n",
    "3. Custom datasets: how to prepare our images to generate a dataset\n",
    "4. Additional features: manually defined networks, weight & bias access"
   ]
  },
  {
   "cell_type": "markdown",
   "metadata": {},
   "source": [
    "## 1. Tensors"
   ]
  },
  {
   "cell_type": "markdown",
   "metadata": {},
   "source": [
    "To have an idea of the concept of tensor structures, see `tensors.py`."
   ]
  },
  {
   "cell_type": "markdown",
   "metadata": {},
   "source": [
    "## 2. Main Exemplary Application\n",
    "In this section, the generic utility script for neural network training and use `fullyconnected_neuralnetwork.py` is employed in an easy application in which the Fashion-MNIST dataset is used. What is done:\n",
    "- Dataset is loaded and briefly checked\n",
    "- Network is created\n",
    "- Network is trained\n",
    "- Network is saved and loaded again\n",
    "- Network is inferred\n"
   ]
  },
  {
   "cell_type": "code",
   "execution_count": 1,
   "metadata": {},
   "outputs": [],
   "source": [
    "# IMPORTS\n",
    "import matplotlib.pyplot as plt\n",
    "import numpy as np\n",
    "import torch\n",
    "from torch import nn\n",
    "from torch import optim\n",
    "import torch.nn.functional as F\n",
    "from torchvision import datasets, transforms\n",
    "import helper_nn as hnn\n",
    "import fullyconnected_neuralnetwork as fc_nn\n",
    "\n",
    "%matplotlib inline\n",
    "%config InlineBackend.figure_format = 'retina'"
   ]
  },
  {
   "cell_type": "code",
   "execution_count": 2,
   "metadata": {},
   "outputs": [],
   "source": [
    "# LOAD DATASET: example, Fashion-MNIST (28x28 pixels, 1 channel, 10 classes)\n",
    "transform = transforms.Compose([transforms.ToTensor(),\n",
    "                                transforms.Normalize((0.5,), (0.5,))])\n",
    "trainset = datasets.FashionMNIST('../../../DL_PyTorch/F_MNIST_data/', download=True, train=True, transform=transform)\n",
    "trainloader = torch.utils.data.DataLoader(trainset, batch_size=64, shuffle=True)\n",
    "testset = datasets.FashionMNIST('../../../DL_PyTorch/F_MNIST_data/', download=True, train=False, transform=transform)\n",
    "testloader = torch.utils.data.DataLoader(testset, batch_size=64, shuffle=True)"
   ]
  },
  {
   "cell_type": "code",
   "execution_count": 3,
   "metadata": {},
   "outputs": [
    {
     "name": "stdout",
     "output_type": "stream",
     "text": [
      "['T-shirt/top', 'Trouser', 'Pullover', 'Dress', 'Coat', 'Sandal', 'Shirt', 'Sneaker', 'Bag', 'Ankle boot']\n"
     ]
    },
    {
     "data": {
      "text/plain": [
       "<matplotlib.axes._subplots.AxesSubplot at 0x1abe64d1c88>"
      ]
     },
     "execution_count": 3,
     "metadata": {},
     "output_type": "execute_result"
    },
    {
     "data": {
      "image/png": "[encoded data removed]",
      "text/plain": [
       "<Figure size 432x288 with 1 Axes>"
      ]
     },
     "metadata": {
      "image/png": {
       "height": 231,
       "width": 231
      },
      "needs_background": "light"
     },
     "output_type": "display_data"
    }
   ],
   "source": [
    "# CHECK DATSET\n",
    "image, label = next(iter(trainloader))\n",
    "print(trainset.classes)\n",
    "hnn.imshow(image[0,:])"
   ]
  },
  {
   "cell_type": "code",
   "execution_count": 4,
   "metadata": {},
   "outputs": [
    {
     "data": {
      "text/plain": [
       "torch.Size([64, 1, 28, 28])"
      ]
     },
     "execution_count": 4,
     "metadata": {},
     "output_type": "execute_result"
    }
   ],
   "source": [
    "# Have a clear idea of the image tensor shape\n",
    "# [Batch size, channels, width, height]\n",
    "image.shape"
   ]
  },
  {
   "cell_type": "code",
   "execution_count": 5,
   "metadata": {},
   "outputs": [],
   "source": [
    "# CREATE NETWORK\n",
    "#input_size = 1*28*28 = 728\n",
    "input_size = image.size()[1]*image.shape[2]*image.shape[3]\n",
    "#output_size = 10\n",
    "output_size = len(trainset.classes)\n",
    "# Select desired number of hidden layers and their sizes\n",
    "hidden_sizes = [512, 256, 128]\n",
    "model = fc_nn.Network(input_size, output_size, hidden_sizes)\n",
    "criterion = nn.NLLLoss() # Alternatives: nn.CrossEntropyLoss(), nn.MSELoss()\n",
    "optimizer = optim.Adam(model.parameters(), lr=0.001) # Alternatives: optim.SGD()"
   ]
  },
  {
   "cell_type": "code",
   "execution_count": 7,
   "metadata": {
    "scrolled": true
   },
   "outputs": [
    {
     "name": "stdout",
     "output_type": "stream",
     "text": [
      "Training on cpu\n",
      "Epoch: 1/2..  Training Loss: 0.465..  Test Loss: 0.442..  Test Accuracy: 0.838\n",
      "Epoch: 1/2..  Training Loss: 0.484..  Test Loss: 0.433..  Test Accuracy: 0.843\n",
      "Epoch: 1/2..  Training Loss: 0.488..  Test Loss: 0.460..  Test Accuracy: 0.833\n",
      "Epoch: 1/2..  Training Loss: 0.524..  Test Loss: 0.438..  Test Accuracy: 0.837\n",
      "Epoch: 1/2..  Training Loss: 0.488..  Test Loss: 0.432..  Test Accuracy: 0.848\n",
      "Epoch: 1/2..  Training Loss: 0.544..  Test Loss: 0.429..  Test Accuracy: 0.841\n",
      "Epoch: 1/2..  Training Loss: 0.511..  Test Loss: 0.440..  Test Accuracy: 0.835\n",
      "Epoch: 1/2..  Training Loss: 0.473..  Test Loss: 0.440..  Test Accuracy: 0.833\n",
      "Epoch: 1/2..  Training Loss: 0.528..  Test Loss: 0.434..  Test Accuracy: 0.845\n",
      "Epoch: 1/2..  Training Loss: 0.474..  Test Loss: 0.428..  Test Accuracy: 0.841\n",
      "Epoch: 1/2..  Training Loss: 0.490..  Test Loss: 0.419..  Test Accuracy: 0.847\n",
      "Epoch: 1/2..  Training Loss: 0.501..  Test Loss: 0.430..  Test Accuracy: 0.840\n",
      "Epoch: 1/2..  Training Loss: 0.500..  Test Loss: 0.433..  Test Accuracy: 0.840\n",
      "Epoch: 1/2..  Training Loss: 0.503..  Test Loss: 0.434..  Test Accuracy: 0.837\n",
      "Epoch: 1/2..  Training Loss: 0.486..  Test Loss: 0.415..  Test Accuracy: 0.847\n",
      "Epoch: 1/2..  Training Loss: 0.484..  Test Loss: 0.430..  Test Accuracy: 0.843\n",
      "Epoch: 1/2..  Training Loss: 0.475..  Test Loss: 0.436..  Test Accuracy: 0.839\n",
      "Epoch: 1/2..  Training Loss: 0.509..  Test Loss: 0.431..  Test Accuracy: 0.845\n",
      "Epoch: 1/2..  Training Loss: 0.467..  Test Loss: 0.415..  Test Accuracy: 0.847\n",
      "Epoch: 1/2..  Training Loss: 0.509..  Test Loss: 0.416..  Test Accuracy: 0.847\n",
      "Epoch: 1/2..  Training Loss: 0.441..  Test Loss: 0.423..  Test Accuracy: 0.848\n",
      "Epoch: 1/2..  Training Loss: 0.492..  Test Loss: 0.430..  Test Accuracy: 0.843\n",
      "Epoch: 1/2..  Training Loss: 0.508..  Test Loss: 0.414..  Test Accuracy: 0.847\n",
      "Epoch: 2/2..  Training Loss: 0.467..  Test Loss: 0.425..  Test Accuracy: 0.851\n",
      "Epoch: 2/2..  Training Loss: 0.478..  Test Loss: 0.420..  Test Accuracy: 0.849\n",
      "Epoch: 2/2..  Training Loss: 0.494..  Test Loss: 0.413..  Test Accuracy: 0.855\n",
      "Epoch: 2/2..  Training Loss: 0.491..  Test Loss: 0.429..  Test Accuracy: 0.844\n",
      "Epoch: 2/2..  Training Loss: 0.460..  Test Loss: 0.418..  Test Accuracy: 0.848\n",
      "Epoch: 2/2..  Training Loss: 0.459..  Test Loss: 0.410..  Test Accuracy: 0.851\n",
      "Epoch: 2/2..  Training Loss: 0.473..  Test Loss: 0.423..  Test Accuracy: 0.847\n",
      "Epoch: 2/2..  Training Loss: 0.439..  Test Loss: 0.408..  Test Accuracy: 0.850\n",
      "Epoch: 2/2..  Training Loss: 0.446..  Test Loss: 0.414..  Test Accuracy: 0.848\n",
      "Epoch: 2/2..  Training Loss: 0.474..  Test Loss: 0.412..  Test Accuracy: 0.855\n",
      "Epoch: 2/2..  Training Loss: 0.462..  Test Loss: 0.414..  Test Accuracy: 0.850\n",
      "Epoch: 2/2..  Training Loss: 0.445..  Test Loss: 0.418..  Test Accuracy: 0.847\n",
      "Epoch: 2/2..  Training Loss: 0.473..  Test Loss: 0.401..  Test Accuracy: 0.854\n",
      "Epoch: 2/2..  Training Loss: 0.465..  Test Loss: 0.412..  Test Accuracy: 0.852\n",
      "Epoch: 2/2..  Training Loss: 0.486..  Test Loss: 0.409..  Test Accuracy: 0.854\n",
      "Epoch: 2/2..  Training Loss: 0.477..  Test Loss: 0.405..  Test Accuracy: 0.853\n",
      "Epoch: 2/2..  Training Loss: 0.475..  Test Loss: 0.409..  Test Accuracy: 0.849\n",
      "Epoch: 2/2..  Training Loss: 0.509..  Test Loss: 0.422..  Test Accuracy: 0.847\n",
      "Epoch: 2/2..  Training Loss: 0.459..  Test Loss: 0.413..  Test Accuracy: 0.852\n",
      "Epoch: 2/2..  Training Loss: 0.458..  Test Loss: 0.415..  Test Accuracy: 0.850\n",
      "Epoch: 2/2..  Training Loss: 0.475..  Test Loss: 0.408..  Test Accuracy: 0.851\n",
      "Epoch: 2/2..  Training Loss: 0.459..  Test Loss: 0.407..  Test Accuracy: 0.849\n",
      "Epoch: 2/2..  Training Loss: 0.449..  Test Loss: 0.403..  Test Accuracy: 0.849\n"
     ]
    }
   ],
   "source": [
    "# TRAIN\n",
    "fc_nn.train(model, trainloader, testloader, criterion, optimizer, epochs=2)"
   ]
  },
  {
   "cell_type": "code",
   "execution_count": 8,
   "metadata": {},
   "outputs": [],
   "source": [
    "# SAVE\n",
    "filename = 'my_model_checkpoint.pth'\n",
    "fc_nn.save_model(filename, model, input_size, output_size, hidden_sizes)"
   ]
  },
  {
   "cell_type": "code",
   "execution_count": 9,
   "metadata": {},
   "outputs": [
    {
     "name": "stdout",
     "output_type": "stream",
     "text": [
      "Network(\n",
      "  (hidden_layers): ModuleList(\n",
      "    (0): Linear(in_features=784, out_features=512, bias=True)\n",
      "    (1): Linear(in_features=512, out_features=256, bias=True)\n",
      "    (2): Linear(in_features=256, out_features=128, bias=True)\n",
      "  )\n",
      "  (output): Linear(in_features=128, out_features=10, bias=True)\n",
      "  (dropout): Dropout(p=0.5, inplace=False)\n",
      ")\n"
     ]
    }
   ],
   "source": [
    "# LOAD\n",
    "filename = 'my_model_checkpoint.pth'\n",
    "model = fc_nn.load_model(filename)\n",
    "print(model)"
   ]
  },
  {
   "cell_type": "code",
   "execution_count": 10,
   "metadata": {},
   "outputs": [
    {
     "data": {
      "image/png": "[encoded data removed]",
      "text/plain": [
       "<Figure size 432x648 with 2 Axes>"
      ]
     },
     "metadata": {
      "image/png": {
       "height": 212,
       "width": 424
      },
      "needs_background": "light"
     },
     "output_type": "display_data"
    }
   ],
   "source": [
    "# INFER & VISUALIZE\n",
    "model.eval()\n",
    "images, labels = next(iter(testloader))\n",
    "img = images[0]\n",
    "#img = img.view(1, 28*28)\n",
    "img = img.view(1, images.shape[2]*images.shape[3]) # Note: visualization for one channel\n",
    "with torch.no_grad():\n",
    "    output = model.forward(img)\n",
    "ps = torch.exp(output)\n",
    "hnn.view_classify(img.view(1, images.shape[2], images.shape[3]), ps, trainset.classes)"
   ]
  },
  {
   "cell_type": "code",
   "execution_count": null,
   "metadata": {},
   "outputs": [],
   "source": []
  },
  {
   "cell_type": "markdown",
   "metadata": {},
   "source": [
    "## 3. Custom Datasets\n",
    "\n",
    "We might want to create our own dataset from images. This section shows how this works. There are 3 elements to take into account:\n",
    "- The folder which contains the images from which the **dataset** is constructed: `datasets.ImageFolder()`\n",
    "- The preprocessing **transformations** we apply to the images of the dataset: `transforms.Compose()`\n",
    "- The **dataset loader** which delivers the transformed and preprocessed batch from the dataset: `torch.utils.data.DataLoader()`\n",
    "\n",
    "Additionally, note that `datasets.ImageFolder()` expects the images to be structured class folders:\n",
    "```bash\n",
    "    dataset/\n",
    "        train/\n",
    "            cats/\n",
    "                cat_01.jpeg\n",
    "                cat_02.jpeg\n",
    "                ...\n",
    "            dogs/\n",
    "        test\n",
    "            cats/\n",
    "            dogs/\n",
    "```\n",
    "If not, we might have an Excel sheet or similar that annotates the classes of each images instead; in that case, we need to write a script that re-organizes the images into that folder structure. See file `organize_dataset.py` from `../pytorch_example_01/`"
   ]
  },
  {
   "cell_type": "code",
   "execution_count": 11,
   "metadata": {},
   "outputs": [],
   "source": [
    "import torch\n",
    "from torchvision import datasets, transforms\n",
    "import helper_nn as hnn"
   ]
  },
  {
   "cell_type": "code",
   "execution_count": 16,
   "metadata": {},
   "outputs": [],
   "source": [
    "# Define image folder: inside data_dir, each class should have a subfolder, eg\n",
    "# path/train/dog, path/train/cat...\n",
    "data_dir = '../../../DL_PyTorch/Cat_Dog_data/train'\n",
    "# Compose transforms: Select transformations to squentially apply to dataset\n",
    "# Resize: w (x h)\n",
    "# CenterCrop: center crop with w (x h) - many pre-trained models accept 224x224 inputs\n",
    "# Grayscale: convert to one channel\n",
    "# We can also apply transformations for data augmentation: RandomRotation, RandomResizedCrop, RandomHorizontalFlip\n",
    "# ToTensor: convert into a pytorch tensor\n",
    "# Normalize: list of means & list of stds passed, so that\n",
    "#   input[channel] = (input[channel] - mean[channel]) / std[channel]\n",
    "#   a very typical normalization is:\n",
    "#   transforms.Normalize([0.485, 0.456, 0.406], [0.229, 0.224, 0.225])\n",
    "transform = transforms.Compose([transforms.Resize(125),\n",
    "                                 transforms.CenterCrop(124),\n",
    "                                 transforms.Grayscale(num_output_channels=3),                                \n",
    "                                 transforms.ToTensor()\n",
    "                               ])\n",
    "# Specify the ImageFolder object\n",
    "dataset = datasets.ImageFolder(data_dir, transform=transform)\n",
    "# Create the DataLoader from ImageFolder: DataLoader is an iterator of the dataset\n",
    "dataloader = torch.utils.data.DataLoader(dataset, batch_size=64, shuffle=True)"
   ]
  },
  {
   "cell_type": "code",
   "execution_count": 17,
   "metadata": {},
   "outputs": [],
   "source": [
    "# Images from dataset can be extracted in two main ways:\n",
    "# 1) Looping through it, get a batch on each loop \n",
    "for images, labels in dataloader:\n",
    "    break\n",
    "# 2) # Get one batch\n",
    "images, labels = next(iter(dataloader))"
   ]
  },
  {
   "cell_type": "code",
   "execution_count": 18,
   "metadata": {},
   "outputs": [
    {
     "data": {
      "text/plain": [
       "torch.Size([64, 3, 124, 124])"
      ]
     },
     "execution_count": 18,
     "metadata": {},
     "output_type": "execute_result"
    }
   ],
   "source": [
    "# Have clear size of images\n",
    "images.size()"
   ]
  },
  {
   "cell_type": "code",
   "execution_count": 19,
   "metadata": {},
   "outputs": [
    {
     "data": {
      "text/plain": [
       "torch.Size([64])"
      ]
     },
     "execution_count": 19,
     "metadata": {},
     "output_type": "execute_result"
    }
   ],
   "source": [
    "labels.size()"
   ]
  },
  {
   "cell_type": "code",
   "execution_count": 20,
   "metadata": {},
   "outputs": [
    {
     "data": {
      "text/plain": [
       "<matplotlib.axes._subplots.AxesSubplot at 0x1abef5c33c8>"
      ]
     },
     "execution_count": 20,
     "metadata": {},
     "output_type": "execute_result"
    },
    {
     "data": {
      "image/png": "[encoded data removed]",
      "text/plain": [
       "<Figure size 432x288 with 1 Axes>"
      ]
     },
     "metadata": {
      "image/png": {
       "height": 247,
       "width": 231
      },
      "needs_background": "light"
     },
     "output_type": "display_data"
    }
   ],
   "source": [
    "# Visualize first image of batch\n",
    "title = 'Dog'\n",
    "id = 4\n",
    "if labels[id].item() == 0:\n",
    "    title = 'Cat'\n",
    "hnn.imshow(images[id,:], title=title)"
   ]
  },
  {
   "cell_type": "markdown",
   "metadata": {},
   "source": [
    "## 4. Additional\n",
    "\n",
    "This section covers some additional features that can be useful:\n",
    "- Manual network/model definition using `nn.Sequential()`\n",
    "- Model layer bias & weight value access"
   ]
  },
  {
   "cell_type": "code",
   "execution_count": 13,
   "metadata": {},
   "outputs": [
    {
     "name": "stdout",
     "output_type": "stream",
     "text": [
      "Sequential(\n",
      "  (fc1): Linear(in_features=784, out_features=128, bias=True)\n",
      "  (relu1): ReLU()\n",
      "  (fc2): Linear(in_features=128, out_features=64, bias=True)\n",
      "  (relu2): ReLU()\n",
      "  (output): Linear(in_features=64, out_features=10, bias=True)\n",
      "  (softmax): Softmax(dim=1)\n",
      ")\n"
     ]
    }
   ],
   "source": [
    "# It is also possible to create amodel with nn.Sequential()\n",
    "input_size = 1*28*28\n",
    "hidden_sizes = [128, 64]\n",
    "output_size = 10\n",
    "from collections import OrderedDict\n",
    "new_model = nn.Sequential(OrderedDict([\n",
    "                      ('fc1', nn.Linear(input_size, hidden_sizes[0])),\n",
    "                      ('relu1', nn.ReLU()),\n",
    "                      ('fc2', nn.Linear(hidden_sizes[0], hidden_sizes[1])),\n",
    "                      ('relu2', nn.ReLU()),\n",
    "                      ('output', nn.Linear(hidden_sizes[1], output_size)),\n",
    "                      ('softmax', nn.Softmax(dim=1))]))\n",
    "print(new_model)"
   ]
  },
  {
   "cell_type": "code",
   "execution_count": 14,
   "metadata": {},
   "outputs": [
    {
     "data": {
      "text/plain": [
       "Parameter containing:\n",
       "tensor([ 0.0205, -0.0114,  0.0061, -0.0309,  0.0355,  0.0207,  0.0199,  0.0146,\n",
       "         0.0036,  0.0356, -0.0143, -0.0288,  0.0217, -0.0321, -0.0242,  0.0329,\n",
       "         0.0169, -0.0142,  0.0324,  0.0121, -0.0157, -0.0150, -0.0257, -0.0163,\n",
       "        -0.0334,  0.0282,  0.0353, -0.0031, -0.0249, -0.0327,  0.0098,  0.0316,\n",
       "         0.0302,  0.0246,  0.0344,  0.0264, -0.0013, -0.0263,  0.0188, -0.0353,\n",
       "        -0.0133,  0.0201,  0.0230,  0.0058,  0.0102, -0.0010, -0.0208,  0.0150,\n",
       "        -0.0294,  0.0102,  0.0347,  0.0197,  0.0021, -0.0204,  0.0267, -0.0170,\n",
       "         0.0158,  0.0112, -0.0077, -0.0261, -0.0227,  0.0165, -0.0036, -0.0347,\n",
       "        -0.0266,  0.0271, -0.0242, -0.0202, -0.0300,  0.0069,  0.0222, -0.0137,\n",
       "         0.0104, -0.0128, -0.0047, -0.0063, -0.0109, -0.0216,  0.0137, -0.0159,\n",
       "         0.0094, -0.0048,  0.0356, -0.0343, -0.0282, -0.0099,  0.0017,  0.0288,\n",
       "        -0.0269,  0.0253, -0.0292, -0.0120, -0.0036,  0.0018, -0.0150,  0.0057,\n",
       "         0.0199, -0.0127, -0.0288,  0.0345, -0.0119, -0.0063, -0.0011, -0.0325,\n",
       "         0.0045,  0.0335, -0.0217,  0.0227,  0.0190, -0.0049, -0.0059, -0.0136,\n",
       "         0.0316, -0.0038,  0.0228,  0.0333,  0.0114,  0.0312,  0.0196,  0.0277,\n",
       "        -0.0072, -0.0068, -0.0320, -0.0025,  0.0120, -0.0108, -0.0149, -0.0285],\n",
       "       requires_grad=True)"
      ]
     },
     "execution_count": 14,
     "metadata": {},
     "output_type": "execute_result"
    }
   ],
   "source": [
    "# We can read weights and biases of any layer\n",
    "new_model.fc1.weight\n",
    "new_model.fc1.bias"
   ]
  },
  {
   "cell_type": "code",
   "execution_count": 15,
   "metadata": {},
   "outputs": [
    {
     "data": {
      "text/plain": [
       "tensor([[ 0.0079, -0.0078,  0.0028,  ...,  0.0194,  0.0254, -0.0086],\n",
       "        [-0.0120, -0.0139, -0.0115,  ...,  0.0136, -0.0214, -0.0136],\n",
       "        [-0.0018,  0.0111, -0.0122,  ..., -0.0109,  0.0240,  0.0054],\n",
       "        ...,\n",
       "        [ 0.0054,  0.0035,  0.0059,  ..., -0.0139,  0.0061, -0.0063],\n",
       "        [ 0.0010, -0.0092,  0.0070,  ...,  0.0046, -0.0026, -0.0008],\n",
       "        [ 0.0125,  0.0158, -0.0054,  ..., -0.0031, -0.0029, -0.0080]])"
      ]
     },
     "execution_count": 15,
     "metadata": {},
     "output_type": "execute_result"
    }
   ],
   "source": [
    "# We could set biases to all zeros\n",
    "new_model.fc1.bias.data.fill_(0)\n",
    "# We could sample from random normal (mean = 0) with standard dev = 0.01\n",
    "new_model.fc1.weight.data.normal_(std=0.01)"
   ]
  },
  {
   "cell_type": "code",
   "execution_count": null,
   "metadata": {},
   "outputs": [],
   "source": []
  }
 ],
 "metadata": {
  "kernelspec": {
   "display_name": "Python 3",
   "language": "python",
   "name": "python3"
  },
  "language_info": {
   "codemirror_mode": {
    "name": "ipython",
    "version": 3
   },
   "file_extension": ".py",
   "mimetype": "text/x-python",
   "name": "python",
   "nbconvert_exporter": "python",
   "pygments_lexer": "ipython3",
   "version": "3.6.10"
  },
  "varInspector": {
   "cols": {
    "lenName": 16,
    "lenType": 16,
    "lenVar": 40
   },
   "kernels_config": {
    "python": {
     "delete_cmd_postfix": "",
     "delete_cmd_prefix": "del ",
     "library": "var_list.py",
     "varRefreshCmd": "print(var_dic_list())"
    },
    "r": {
     "delete_cmd_postfix": ") ",
     "delete_cmd_prefix": "rm(",
     "library": "var_list.r",
     "varRefreshCmd": "cat(var_dic_list()) "
    }
   },
   "position": {
    "height": "319px",
    "left": "785px",
    "right": "20px",
    "top": "120px",
    "width": "394px"
   },
   "types_to_exclude": [
    "module",
    "function",
    "builtin_function_or_method",
    "instance",
    "_Feature"
   ],
   "window_display": false
  }
 },
 "nbformat": 4,
 "nbformat_minor": 4
}
