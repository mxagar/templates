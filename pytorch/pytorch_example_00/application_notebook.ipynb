{
 "cells": [
  {
   "source": [
    "# Neural Networks with Pytorch\n",
    "\n",
    "This notebook implements the utilities from `fullyconnected_neuralnetwork.py` in an easy example.\n",
    "All in all, the basic use of Pytorch is showcased: dataset loading, model definition, model training, image inferece & visualization.\n",
    "The notebook is divided in 4 sections:\n",
    "\n",
    "1. Tensors: basic usage of the tensor structure is explained\n",
    "2. Main Exemplary Application: `fullyconnected_neuralnetwork.py` is employed in an easy application\n",
    "3. Custom datasets: how to prepare our images to generate a dataset\n",
    "4. Additional features: manually defined networks, weight & bias access"
   ],
   "cell_type": "markdown",
   "metadata": {}
  },
  {
   "source": [
    "## 1. Tensors"
   ],
   "cell_type": "markdown",
   "metadata": {}
  },
  {
   "source": [
    "To have an idea of the concept of tensor structures, see `tensors.py`."
   ],
   "cell_type": "markdown",
   "metadata": {}
  },
  {
   "source": [
    "## 2. Main Exemplary Application\n",
    "In this section, the generic utility script for neural network training and use `fullyconnected_neuralnetwork.py` is employed in an easy application in which the Fashion-MNIST dataset is used. What is done:\n",
    "- Dataset is loaded and briefly checked\n",
    "- Network is created\n",
    "- Network is trained\n",
    "- Network is saved and loaded again\n",
    "- Network is inferred\n"
   ],
   "cell_type": "markdown",
   "metadata": {}
  },
  {
   "cell_type": "code",
   "execution_count": 25,
   "metadata": {},
   "outputs": [],
   "source": [
    "# IMPORTS\n",
    "import matplotlib.pyplot as plt\n",
    "import torch\n",
    "from torch import nn\n",
    "from torch import optim\n",
    "import torch.nn.functional as F\n",
    "from torchvision import datasets, transforms\n",
    "import helper_nn as hnn\n",
    "import fullyconnected_neuralnetwork as fc_nn\n",
    "\n",
    "%matplotlib inline\n",
    "%config InlineBackend.figure_format = 'retina'"
   ]
  },
  {
   "cell_type": "code",
   "execution_count": null,
   "metadata": {},
   "outputs": [],
   "source": [
    "# LOAD DATASET: example, Fashion-MNIST (28x28 pixels, 1 channel, 10 classes)\n",
    "transform = transforms.Compose([transforms.ToTensor(),\n",
    "                                transforms.Normalize((0.5,), (0.5,))])\n",
    "trainset = datasets.FashionMNIST('../../../DL_PyTorch/F_MNIST_data/', download=True, train=True, transform=transform)\n",
    "trainloader = torch.utils.data.DataLoader(trainset, batch_size=64, shuffle=True)\n",
    "testset = datasets.FashionMNIST('../../../DL_PyTorch/F_MNIST_data/', download=True, train=False, transform=transform)\n",
    "testloader = torch.utils.data.DataLoader(testset, batch_size=64, shuffle=True)"
   ]
  },
  {
   "cell_type": "code",
   "execution_count": null,
   "metadata": {},
   "outputs": [],
   "source": [
    "# CHECK DATSET\n",
    "image, label = next(iter(trainloader))\n",
    "print(trainset.classes)\n",
    "hnn.imshow(image[0,:])"
   ]
  },
  {
   "cell_type": "code",
   "execution_count": null,
   "metadata": {},
   "outputs": [],
   "source": [
    "# Have a clear idea of the image tensor shape\n",
    "# [Batch size, channels, width, height]\n",
    "image.shape"
   ]
  },
  {
   "cell_type": "code",
   "execution_count": null,
   "metadata": {},
   "outputs": [],
   "source": [
    "# CREATE NETWORK\n",
    "#input_size = 1*28*28 = 728\n",
    "input_size = images.size()[1]*image.shape[2]*image.shape[3]\n",
    "#output_size = 10\n",
    "output_size = len(trainset.classes)\n",
    "# Select desired number of hidden layers and their sizes\n",
    "hidden_sizes = [512, 256, 128]\n",
    "model = fc_nn.Network(input_size, output_size, hidden_sizes)\n",
    "criterion = nn.NLLLoss() # Alternatives: nn.CrossEntropyLoss(), nn.MSELoss()\n",
    "optimizer = optim.Adam(model.parameters(), lr=0.001) # Alternatives: optim.SGD()"
   ]
  },
  {
   "cell_type": "code",
   "execution_count": null,
   "metadata": {},
   "outputs": [],
   "source": [
    "# TRAIN\n",
    "fc_nn.train(model, trainloader, testloader, criterion, optimizer, epochs=2)"
   ]
  },
  {
   "cell_type": "code",
   "execution_count": null,
   "metadata": {},
   "outputs": [],
   "source": [
    "# SAVE\n",
    "filename = 'my_model_checkpoint.pth'\n",
    "fc_nn.save_model(filename, model, input_size, output_size, hidden_sizes)"
   ]
  },
  {
   "cell_type": "code",
   "execution_count": 26,
   "metadata": {},
   "outputs": [
    {
     "output_type": "stream",
     "name": "stdout",
     "text": [
      "Network(\n  (hidden_layers): ModuleList(\n    (0): Linear(in_features=784, out_features=512, bias=True)\n    (1): Linear(in_features=512, out_features=256, bias=True)\n    (2): Linear(in_features=256, out_features=128, bias=True)\n  )\n  (output): Linear(in_features=128, out_features=10, bias=True)\n  (dropout): Dropout(p=0.5, inplace=False)\n)\n"
     ]
    }
   ],
   "source": [
    "# LOAD\n",
    "filename = 'my_model_checkpoint.pth'\n",
    "model = fc_nn.load_model(filename)\n",
    "print(model)"
   ]
  },
  {
   "cell_type": "code",
   "execution_count": 27,
   "metadata": {},
   "outputs": [
    {
     "output_type": "display_data",
     "data": {
      "text/plain": "<matplotlib.figure.Figure at 0x7fb3ea5cff98>",
      "image/png": "[encoded data removed]"
     },
     "metadata": {
      "image/png": {
       "width": 423,
       "height": 201
      },
      "needs_background": "light"
     }
    }
   ],
   "source": [
    "# INFER & VISUALIZE\n",
    "model.eval()\n",
    "images, labels = next(iter(testloader))\n",
    "img = images[0]\n",
    "#img = img.view(1, 28*28)\n",
    "img = img.view(1, images.shape[2]*images.shape[3]) # Note: visualization for one channel\n",
    "with torch.no_grad():\n",
    "    output = model.forward(img)\n",
    "ps = torch.exp(output)\n",
    "hnn.view_classify(img.view(1, images.shape[2], images.shape[3]), ps, trainset.classes)"
   ]
  },
  {
   "cell_type": "code",
   "execution_count": null,
   "metadata": {},
   "outputs": [],
   "source": []
  },
  {
   "source": [
    "## 3. Custom Datasets\n",
    "\n",
    "We might want to create our own dataset from images. This section shows how this works."
   ],
   "cell_type": "markdown",
   "metadata": {}
  },
  {
   "cell_type": "code",
   "execution_count": null,
   "metadata": {},
   "outputs": [],
   "source": []
  },
  {
   "source": [
    "## 4. Additional\n",
    "\n",
    "This section covers some additional features that can be useful:\n",
    "- Manual network/model definition using `nn.Sequential()`\n",
    "- Model layer bias & weight value access"
   ],
   "cell_type": "markdown",
   "metadata": {}
  },
  {
   "cell_type": "code",
   "execution_count": 22,
   "metadata": {},
   "outputs": [
    {
     "output_type": "stream",
     "name": "stdout",
     "text": [
      "Sequential(\n  (fc1): Linear(in_features=784, out_features=128, bias=True)\n  (relu1): ReLU()\n  (fc2): Linear(in_features=128, out_features=64, bias=True)\n  (relu2): ReLU()\n  (output): Linear(in_features=64, out_features=10, bias=True)\n  (softmax): Softmax(dim=1)\n)\n"
     ]
    }
   ],
   "source": [
    "# It is also possible to create amodel with nn.Sequential()\n",
    "input_size = 1*28*28\n",
    "hidden_sizes = [128, 64]\n",
    "output_size = 10\n",
    "from collections import OrderedDict\n",
    "new_model = nn.Sequential(OrderedDict([\n",
    "                      ('fc1', nn.Linear(input_size, hidden_sizes[0])),\n",
    "                      ('relu1', nn.ReLU()),\n",
    "                      ('fc2', nn.Linear(hidden_sizes[0], hidden_sizes[1])),\n",
    "                      ('relu2', nn.ReLU()),\n",
    "                      ('output', nn.Linear(hidden_sizes[1], output_size)),\n",
    "                      ('softmax', nn.Softmax(dim=1))]))\n",
    "print(new_model)"
   ]
  },
  {
   "cell_type": "code",
   "execution_count": 23,
   "metadata": {},
   "outputs": [
    {
     "output_type": "execute_result",
     "data": {
      "text/plain": [
       "Parameter containing:\n",
       "tensor([ 1.2624e-02, -8.4310e-03,  3.5508e-02, -3.0586e-02, -2.2860e-02,\n",
       "        -3.2882e-02, -2.2698e-02, -2.6738e-02, -3.0339e-02,  2.9266e-02,\n",
       "        -1.0604e-03,  2.7388e-02, -6.3977e-03,  3.4504e-02, -3.1466e-02,\n",
       "        -3.4643e-02, -1.1987e-02,  2.1415e-02, -1.1425e-02,  6.0434e-03,\n",
       "        -3.4202e-02, -3.3327e-02, -1.5326e-02, -4.4273e-03, -3.0222e-02,\n",
       "         2.3461e-02, -2.7730e-02, -5.2601e-04,  1.4731e-02, -2.4910e-02,\n",
       "         6.9448e-03, -3.3250e-02,  3.0766e-03,  1.1618e-02,  2.8924e-02,\n",
       "         1.2337e-02, -6.7883e-03,  2.0544e-02, -3.0393e-02,  7.8684e-03,\n",
       "         3.4199e-03, -1.4367e-02,  1.2098e-02,  1.3723e-02, -1.3008e-03,\n",
       "        -2.5963e-02,  2.0062e-02, -1.4476e-02, -6.6730e-03, -2.0808e-02,\n",
       "         3.4846e-02, -5.4765e-03,  3.3624e-02,  1.3993e-02,  1.1734e-02,\n",
       "         1.6752e-02, -3.4175e-02,  2.0446e-02,  2.0644e-02, -1.0824e-02,\n",
       "        -5.4581e-03, -1.7550e-02, -3.0841e-02, -2.4895e-02,  3.5111e-02,\n",
       "        -3.7993e-03,  5.8977e-03,  2.8688e-02,  1.8983e-02,  8.0841e-04,\n",
       "         1.9184e-02, -2.6058e-05,  2.0289e-02, -1.1058e-02,  6.0427e-03,\n",
       "        -2.0413e-03,  8.4746e-03,  6.6261e-03,  3.4066e-02, -6.5122e-03,\n",
       "         3.4214e-02, -3.3458e-02,  1.1535e-02, -2.6438e-02,  1.0780e-02,\n",
       "         2.4650e-02,  3.1258e-02, -5.1644e-03, -2.8048e-02, -3.3595e-02,\n",
       "         4.4806e-03, -1.5538e-02, -2.5643e-02, -9.8327e-03,  1.8887e-02,\n",
       "        -9.4820e-03,  6.0581e-03,  1.3304e-02,  3.3096e-02,  6.3038e-03,\n",
       "        -1.2940e-02,  5.2995e-03, -1.5829e-02, -2.5877e-02, -9.9820e-03,\n",
       "        -2.6832e-02, -3.3305e-02,  2.3766e-02, -1.1683e-02,  1.9330e-02,\n",
       "        -2.3742e-02, -5.7765e-04,  1.0102e-02, -1.8716e-02,  3.1965e-02,\n",
       "         3.1105e-02, -3.3610e-02, -3.5173e-02, -9.4210e-03, -2.7649e-02,\n",
       "         1.0256e-03,  3.4079e-02, -3.0057e-02, -3.4072e-02,  3.3616e-02,\n",
       "         1.7388e-02, -2.4161e-02,  2.4946e-02], requires_grad=True)"
      ]
     },
     "metadata": {},
     "execution_count": 23
    }
   ],
   "source": [
    "# We can read weights and biases of any layer\n",
    "new_model.fc1.weight\n",
    "new_model.fc1.bias"
   ]
  },
  {
   "cell_type": "code",
   "execution_count": 24,
   "metadata": {},
   "outputs": [
    {
     "output_type": "execute_result",
     "data": {
      "text/plain": [
       "tensor([[-6.3898e-03, -1.0709e-03,  9.4034e-03,  ..., -2.1064e-03,\n",
       "          9.3746e-03,  1.4077e-03],\n",
       "        [-4.3538e-03, -1.2296e-02,  1.0225e-02,  ...,  1.2385e-02,\n",
       "         -4.8327e-03, -2.1808e-04],\n",
       "        [ 7.7910e-03,  1.2422e-02,  6.7108e-03,  ..., -1.9733e-03,\n",
       "          1.3427e-02,  4.1075e-03],\n",
       "        ...,\n",
       "        [ 3.8032e-03, -1.6118e-02,  1.1719e-02,  ...,  3.9777e-03,\n",
       "         -1.6107e-02, -4.9561e-03],\n",
       "        [ 2.9052e-02,  1.7483e-03,  1.0133e-03,  ...,  1.0154e-02,\n",
       "          1.0634e-02,  7.5390e-03],\n",
       "        [-1.1239e-02,  1.7839e-03,  9.9018e-06,  ...,  1.2776e-02,\n",
       "         -7.9045e-03, -4.2083e-04]])"
      ]
     },
     "metadata": {},
     "execution_count": 24
    }
   ],
   "source": [
    "# We could set biases to all zeros\n",
    "new_model.fc1.bias.data.fill_(0)\n",
    "# We could sample from random normal (mean = 0) with standard dev = 0.01\n",
    "new_model.fc1.weight.data.normal_(std=0.01)"
   ]
  },
  {
   "cell_type": "code",
   "execution_count": null,
   "metadata": {},
   "outputs": [],
   "source": []
  }
 ],
 "metadata": {
  "kernelspec": {
   "display_name": "Python 3",
   "language": "python",
   "name": "python3"
  },
  "language_info": {
   "codemirror_mode": {
    "name": "ipython",
    "version": 3
   },
   "file_extension": ".py",
   "mimetype": "text/x-python",
   "name": "python",
   "nbconvert_exporter": "python",
   "pygments_lexer": "ipython3",
   "version": "3.6.10-final"
  },
  "varInspector": {
   "cols": {
    "lenName": 16,
    "lenType": 16,
    "lenVar": 40
   },
   "kernels_config": {
    "python": {
     "delete_cmd_postfix": "",
     "delete_cmd_prefix": "del ",
     "library": "var_list.py",
     "varRefreshCmd": "print(var_dic_list())"
    },
    "r": {
     "delete_cmd_postfix": ") ",
     "delete_cmd_prefix": "rm(",
     "library": "var_list.r",
     "varRefreshCmd": "cat(var_dic_list()) "
    }
   },
   "types_to_exclude": [
    "module",
    "function",
    "builtin_function_or_method",
    "instance",
    "_Feature"
   ],
   "window_display": false
  }
 },
 "nbformat": 4,
 "nbformat_minor": 4
}