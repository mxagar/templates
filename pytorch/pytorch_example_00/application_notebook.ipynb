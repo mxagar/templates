{
 "cells": [
  {
   "cell_type": "markdown",
   "metadata": {},
   "source": [
    "# Neural Networks with Pytorch\n",
    "\n",
    "This notebook implements the utilities from `fullyconnected_neuralnetwork.py` in an easy example.\n",
    "All in all, the basic use of Pytorch is showcased: dataset loading, model definition, model training, image inferece & visualization.\n",
    "The notebook is divided in 4 sections:\n",
    "\n",
    "1. Tensors: basic usage of the tensor structure is explained\n",
    "2. Main Exemplary Application: `fullyconnected_neuralnetwork.py` is employed in an easy application\n",
    "3. Custom datasets: how to prepare our images to generate a dataset\n",
    "4. Additional features: manually defined networks, weight & bias access"
   ]
  },
  {
   "cell_type": "markdown",
   "metadata": {},
   "source": [
    "## 1. Tensors"
   ]
  },
  {
   "cell_type": "markdown",
   "metadata": {},
   "source": [
    "To have an idea of the concept of tensor structures, see `tensors.py`."
   ]
  },
  {
   "cell_type": "markdown",
   "metadata": {},
   "source": [
    "## 2. Main Exemplary Application\n",
    "In this section, the generic utility script for neural network training and use `fullyconnected_neuralnetwork.py` is employed in an easy application in which the Fashion-MNIST dataset is used. What is done:\n",
    "- Dataset is loaded and briefly checked\n",
    "- Network is created\n",
    "- Network is trained\n",
    "- Network is saved and loaded again\n",
    "- Network is inferred\n"
   ]
  },
  {
   "cell_type": "code",
   "execution_count": 9,
   "metadata": {},
   "outputs": [],
   "source": [
    "# IMPORTS\n",
    "import matplotlib.pyplot as plt\n",
    "import numpy as np\n",
    "import torch\n",
    "from torch import nn\n",
    "from torch import optim\n",
    "import torch.nn.functional as F\n",
    "from torchvision import datasets, transforms\n",
    "import helper_nn as hnn\n",
    "import fullyconnected_neuralnetwork as fc_nn\n",
    "\n",
    "%matplotlib inline\n",
    "%config InlineBackend.figure_format = 'retina'"
   ]
  },
  {
   "cell_type": "code",
   "execution_count": null,
   "metadata": {},
   "outputs": [],
   "source": [
    "# LOAD DATASET: example, Fashion-MNIST (28x28 pixels, 1 channel, 10 classes)\n",
    "transform = transforms.Compose([transforms.ToTensor(),\n",
    "                                transforms.Normalize((0.5,), (0.5,))])\n",
    "trainset = datasets.FashionMNIST('../../../DL_PyTorch/F_MNIST_data/', download=True, train=True, transform=transform)\n",
    "trainloader = torch.utils.data.DataLoader(trainset, batch_size=64, shuffle=True)\n",
    "testset = datasets.FashionMNIST('../../../DL_PyTorch/F_MNIST_data/', download=True, train=False, transform=transform)\n",
    "testloader = torch.utils.data.DataLoader(testset, batch_size=64, shuffle=True)"
   ]
  },
  {
   "cell_type": "code",
   "execution_count": null,
   "metadata": {},
   "outputs": [],
   "source": [
    "# CHECK DATSET\n",
    "image, label = next(iter(trainloader))\n",
    "print(trainset.classes)\n",
    "hnn.imshow(image[0,:])"
   ]
  },
  {
   "cell_type": "code",
   "execution_count": null,
   "metadata": {},
   "outputs": [],
   "source": [
    "# Have a clear idea of the image tensor shape\n",
    "# [Batch size, channels, width, height]\n",
    "image.shape"
   ]
  },
  {
   "cell_type": "code",
   "execution_count": null,
   "metadata": {},
   "outputs": [],
   "source": [
    "# CREATE NETWORK\n",
    "#input_size = 1*28*28 = 728\n",
    "input_size = image.size()[1]*image.shape[2]*image.shape[3]\n",
    "#output_size = 10\n",
    "output_size = len(trainset.classes)\n",
    "# Select desired number of hidden layers and their sizes\n",
    "hidden_sizes = [512, 256, 128]\n",
    "model = fc_nn.Network(input_size, output_size, hidden_sizes)\n",
    "criterion = nn.NLLLoss() # Alternatives: nn.CrossEntropyLoss(), nn.MSELoss()\n",
    "optimizer = optim.Adam(model.parameters(), lr=0.001) # Alternatives: optim.SGD()"
   ]
  },
  {
   "cell_type": "code",
   "execution_count": null,
   "metadata": {},
   "outputs": [],
   "source": [
    "# TRAIN\n",
    "fc_nn.train(model, trainloader, testloader, criterion, optimizer, epochs=2)"
   ]
  },
  {
   "cell_type": "code",
   "execution_count": null,
   "metadata": {},
   "outputs": [],
   "source": [
    "# SAVE\n",
    "filename = 'my_model_checkpoint.pth'\n",
    "fc_nn.save_model(filename, model, input_size, output_size, hidden_sizes)"
   ]
  },
  {
   "cell_type": "code",
   "execution_count": null,
   "metadata": {},
   "outputs": [],
   "source": [
    "# LOAD\n",
    "filename = 'my_model_checkpoint.pth'\n",
    "model = fc_nn.load_model(filename)\n",
    "print(model)"
   ]
  },
  {
   "cell_type": "code",
   "execution_count": null,
   "metadata": {},
   "outputs": [],
   "source": [
    "# INFER & VISUALIZE\n",
    "model.eval()\n",
    "images, labels = next(iter(testloader))\n",
    "img = images[0]\n",
    "#img = img.view(1, 28*28)\n",
    "img = img.view(1, images.shape[2]*images.shape[3]) # Note: visualization for one channel\n",
    "with torch.no_grad():\n",
    "    output = model.forward(img)\n",
    "ps = torch.exp(output)\n",
    "hnn.view_classify(img.view(1, images.shape[2], images.shape[3]), ps, trainset.classes)"
   ]
  },
  {
   "cell_type": "code",
   "execution_count": null,
   "metadata": {},
   "outputs": [],
   "source": []
  },
  {
   "cell_type": "markdown",
   "metadata": {},
   "source": [
    "## 3. Custom Datasets\n",
    "\n",
    "We might want to create our own dataset from images. This section shows how this works. There are 3 elements to take into account:\n",
    "- The folder which contains the images from which the **dataset** is constructed: `datasets.ImageFolder()`\n",
    "- The preprocessing **transformations** we apply to the images of the dataset: `transforms.Compose()`\n",
    "- The **dataset loader** which delivers the transformed and preprocessed batch from the dataset: `torch.utils.data.DataLoader()`\n",
    "\n",
    "Additionally, note that `datasets.ImageFolder()` expects the images to be structured class folders:\n",
    "```bash\n",
    "    dataset/\n",
    "        train/\n",
    "            cats/\n",
    "                cat_01.jpeg\n",
    "                cat_02.jpeg\n",
    "                ...\n",
    "            dogs/\n",
    "        test\n",
    "            cats/\n",
    "            dogs/\n",
    "```\n",
    "If not, we might have an Excel sheet or similar that annotates the classes of each images instead; in that case, we need to write a script that re-organizes the images into that folder structure. See file `organize_dataset.py` from `../pytorch_example_01/`"
   ]
  },
  {
   "cell_type": "code",
   "execution_count": 1,
   "metadata": {},
   "outputs": [],
   "source": [
    "import torch\n",
    "from torchvision import datasets, transforms\n",
    "import helper_nn as hnn"
   ]
  },
  {
   "cell_type": "code",
   "execution_count": 2,
   "metadata": {},
   "outputs": [],
   "source": [
    "# Define image folder: inside data_dir, each class should have a subfolder, eg\n",
    "# path/train/dog, path/train/cat...\n",
    "data_dir = '../../../DL_PyTorch/Cat_Dog_data/train'\n",
    "# Compose transforms: Select transformations to squentially apply to dataset\n",
    "# Resize: w (x h)\n",
    "# CenterCrop: center crop with w (x h) - many pre-trained models accept 224x224 inputs\n",
    "# Grayscale: convert to one channel\n",
    "# We can also apply transformations for data augmentation: RandomRotation, RandomResizedCrop, RandomHorizontalFlip\n",
    "# ToTensor: convert into a pytorch tensor\n",
    "# Normalize: list of means & list of stds passed, so that\n",
    "#   input[channel] = (input[channel] - mean[channel]) / std[channel]\n",
    "#   a very typical normalization is:\n",
    "#   transforms.Normalize([0.485, 0.456, 0.406], [0.229, 0.224, 0.225])\n",
    "transform = transforms.Compose([transforms.Resize(125),\n",
    "                                 transforms.CenterCrop(124),\n",
    "                                 transforms.Grayscale(num_output_channels=3),                                \n",
    "                                 transforms.ToTensor()\n",
    "                               ])\n",
    "# Specify the ImageFolder object\n",
    "dataset = datasets.ImageFolder(data_dir, transform=transform)\n",
    "# Create the DataLoader from ImageFolder: DataLoader is an iterator of the dataset\n",
    "dataloader = torch.utils.data.DataLoader(dataset, batch_size=64, shuffle=True)"
   ]
  },
  {
   "cell_type": "code",
   "execution_count": 3,
   "metadata": {},
   "outputs": [],
   "source": [
    "# Images from dataset can be extracted in two main ways:\n",
    "# 1) Looping through it, get a batch on each loop \n",
    "for images, labels in dataloader:\n",
    "    break\n",
    "# 2) # Get one batch\n",
    "images, labels = next(iter(dataloader))"
   ]
  },
  {
   "cell_type": "code",
   "execution_count": 4,
   "metadata": {},
   "outputs": [
    {
     "output_type": "execute_result",
     "data": {
      "text/plain": [
       "torch.Size([64, 3, 124, 124])"
      ]
     },
     "metadata": {},
     "execution_count": 4
    }
   ],
   "source": [
    "# Have clear size of images\n",
    "images.size()"
   ]
  },
  {
   "cell_type": "code",
   "execution_count": 5,
   "metadata": {},
   "outputs": [
    {
     "output_type": "execute_result",
     "data": {
      "text/plain": [
       "torch.Size([64])"
      ]
     },
     "metadata": {},
     "execution_count": 5
    }
   ],
   "source": [
    "labels.size()"
   ]
  },
  {
   "cell_type": "code",
   "execution_count": 6,
   "metadata": {},
   "outputs": [
    {
     "output_type": "execute_result",
     "data": {
      "text/plain": [
       "<matplotlib.axes._subplots.AxesSubplot at 0x7f9af73ca748>"
      ]
     },
     "metadata": {},
     "execution_count": 6
    },
    {
     "output_type": "display_data",
     "data": {
      "text/plain": "<matplotlib.figure.Figure at 0x7f9af73ca0b8>",
      "image/svg+xml": "<?xml version=\"1.0\" encoding=\"utf-8\" standalone=\"no\"?>\n<!DOCTYPE svg PUBLIC \"-//W3C//DTD SVG 1.1//EN\"\n  \"http://www.w3.org/Graphics/SVG/1.1/DTD/svg11.dtd\">\n<!-- Created with matplotlib (http://matplotlib.org/) -->\n<svg height=\"248pt\" version=\"1.1\" viewBox=\"0 0 235 248\" width=\"235pt\" xmlns=\"http://www.w3.org/2000/svg\" xmlns:xlink=\"http://www.w3.org/1999/xlink\">\n <defs>\n  <style type=\"text/css\">\n*{stroke-linecap:butt;stroke-linejoin:round;}\n  </style>\n </defs>\n <g id=\"figure_1\">\n  <g id=\"patch_1\">\n   <path d=\"M 0 248.958125 \nL 235.84 248.958125 \nL 235.84 0 \nL 0 0 \nz\n\" style=\"fill:none;\"/>\n  </g>\n  <g id=\"axes_1\">\n   <g id=\"patch_2\">\n    <path d=\"M 9.2 239.758125 \nL 226.64 239.758125 \nL 226.64 22.318125 \nL 9.2 22.318125 \nz\n\" style=\"fill:#ffffff;\"/>\n   </g>\n   <g clip-path=\"url(#p95242faf7f)\">\n    <image height=\"218\" id=\"image31b866309e\" transform=\"scale(1 -1)translate(0 -218)\" width=\"218\" x=\"9.2\" xlink:href=\"data:image/png;base64,\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\" y=\"-21.758125\"/>\n   </g>\n   <g id=\"matplotlib.axis_1\">\n    <g id=\"xtick_1\">\n     <g id=\"line2d_1\"/>\n    </g>\n    <g id=\"xtick_2\">\n     <g id=\"line2d_2\"/>\n    </g>\n    <g id=\"xtick_3\">\n     <g id=\"line2d_3\"/>\n    </g>\n    <g id=\"xtick_4\">\n     <g id=\"line2d_4\"/>\n    </g>\n    <g id=\"xtick_5\">\n     <g id=\"line2d_5\"/>\n    </g>\n    <g id=\"xtick_6\">\n     <g id=\"line2d_6\"/>\n    </g>\n    <g id=\"xtick_7\">\n     <g id=\"line2d_7\"/>\n    </g>\n   </g>\n   <g id=\"matplotlib.axis_2\">\n    <g id=\"ytick_1\">\n     <g id=\"line2d_8\"/>\n    </g>\n    <g id=\"ytick_2\">\n     <g id=\"line2d_9\"/>\n    </g>\n    <g id=\"ytick_3\">\n     <g id=\"line2d_10\"/>\n    </g>\n    <g id=\"ytick_4\">\n     <g id=\"line2d_11\"/>\n    </g>\n    <g id=\"ytick_5\">\n     <g id=\"line2d_12\"/>\n    </g>\n    <g id=\"ytick_6\">\n     <g id=\"line2d_13\"/>\n    </g>\n    <g id=\"ytick_7\">\n     <g id=\"line2d_14\"/>\n    </g>\n   </g>\n   <g id=\"text_1\">\n    <!-- Dog -->\n    <defs>\n     <path d=\"M 19.671875 64.796875 \nL 19.671875 8.109375 \nL 31.59375 8.109375 \nQ 46.6875 8.109375 53.6875 14.9375 \nQ 60.6875 21.78125 60.6875 36.53125 \nQ 60.6875 51.171875 53.6875 57.984375 \nQ 46.6875 64.796875 31.59375 64.796875 \nz\nM 9.8125 72.90625 \nL 30.078125 72.90625 \nQ 51.265625 72.90625 61.171875 64.09375 \nQ 71.09375 55.28125 71.09375 36.53125 \nQ 71.09375 17.671875 61.125 8.828125 \nQ 51.171875 0 30.078125 0 \nL 9.8125 0 \nz\n\" id=\"DejaVuSans-44\"/>\n     <path d=\"M 30.609375 48.390625 \nQ 23.390625 48.390625 19.1875 42.75 \nQ 14.984375 37.109375 14.984375 27.296875 \nQ 14.984375 17.484375 19.15625 11.84375 \nQ 23.34375 6.203125 30.609375 6.203125 \nQ 37.796875 6.203125 41.984375 11.859375 \nQ 46.1875 17.53125 46.1875 27.296875 \nQ 46.1875 37.015625 41.984375 42.703125 \nQ 37.796875 48.390625 30.609375 48.390625 \nz\nM 30.609375 56 \nQ 42.328125 56 49.015625 48.375 \nQ 55.71875 40.765625 55.71875 27.296875 \nQ 55.71875 13.875 49.015625 6.21875 \nQ 42.328125 -1.421875 30.609375 -1.421875 \nQ 18.84375 -1.421875 12.171875 6.21875 \nQ 5.515625 13.875 5.515625 27.296875 \nQ 5.515625 40.765625 12.171875 48.375 \nQ 18.84375 56 30.609375 56 \nz\n\" id=\"DejaVuSans-6f\"/>\n     <path d=\"M 45.40625 27.984375 \nQ 45.40625 37.75 41.375 43.109375 \nQ 37.359375 48.484375 30.078125 48.484375 \nQ 22.859375 48.484375 18.828125 43.109375 \nQ 14.796875 37.75 14.796875 27.984375 \nQ 14.796875 18.265625 18.828125 12.890625 \nQ 22.859375 7.515625 30.078125 7.515625 \nQ 37.359375 7.515625 41.375 12.890625 \nQ 45.40625 18.265625 45.40625 27.984375 \nz\nM 54.390625 6.78125 \nQ 54.390625 -7.171875 48.1875 -13.984375 \nQ 42 -20.796875 29.203125 -20.796875 \nQ 24.46875 -20.796875 20.265625 -20.09375 \nQ 16.0625 -19.390625 12.109375 -17.921875 \nL 12.109375 -9.1875 \nQ 16.0625 -11.328125 19.921875 -12.34375 \nQ 23.78125 -13.375 27.78125 -13.375 \nQ 36.625 -13.375 41.015625 -8.765625 \nQ 45.40625 -4.15625 45.40625 5.171875 \nL 45.40625 9.625 \nQ 42.625 4.78125 38.28125 2.390625 \nQ 33.9375 0 27.875 0 \nQ 17.828125 0 11.671875 7.65625 \nQ 5.515625 15.328125 5.515625 27.984375 \nQ 5.515625 40.671875 11.671875 48.328125 \nQ 17.828125 56 27.875 56 \nQ 33.9375 56 38.28125 53.609375 \nQ 42.625 51.21875 45.40625 46.390625 \nL 45.40625 54.6875 \nL 54.390625 54.6875 \nz\n\" id=\"DejaVuSans-67\"/>\n    </defs>\n    <g transform=\"translate(105.819688 16.318125)scale(0.12 -0.12)\">\n     <use xlink:href=\"#DejaVuSans-44\"/>\n     <use x=\"77.001953\" xlink:href=\"#DejaVuSans-6f\"/>\n     <use x=\"138.183594\" xlink:href=\"#DejaVuSans-67\"/>\n    </g>\n   </g>\n  </g>\n </g>\n <defs>\n  <clipPath id=\"p95242faf7f\">\n   <rect height=\"217.44\" width=\"217.44\" x=\"9.2\" y=\"22.318125\"/>\n  </clipPath>\n </defs>\n</svg>\n",
      "image/png": "[encoded data removed]"
     },
     "metadata": {
      "needs_background": "light"
     }
    }
   ],
   "source": [
    "# Visualize first image of batch\n",
    "title = 'Dog'\n",
    "id = 4\n",
    "if labels[id].item() == 0:\n",
    "    title = 'Cat'\n",
    "hnn.imshow(images[id,:], title=title)"
   ]
  },
  {
   "cell_type": "markdown",
   "metadata": {},
   "source": [
    "## 4. Additional\n",
    "\n",
    "This section covers some additional features that can be useful:\n",
    "- Manual network/model definition using `nn.Sequential()`\n",
    "- Model layer bias & weight value access"
   ]
  },
  {
   "cell_type": "code",
   "execution_count": null,
   "metadata": {},
   "outputs": [],
   "source": [
    "# It is also possible to create amodel with nn.Sequential()\n",
    "input_size = 1*28*28\n",
    "hidden_sizes = [128, 64]\n",
    "output_size = 10\n",
    "from collections import OrderedDict\n",
    "new_model = nn.Sequential(OrderedDict([\n",
    "                      ('fc1', nn.Linear(input_size, hidden_sizes[0])),\n",
    "                      ('relu1', nn.ReLU()),\n",
    "                      ('fc2', nn.Linear(hidden_sizes[0], hidden_sizes[1])),\n",
    "                      ('relu2', nn.ReLU()),\n",
    "                      ('output', nn.Linear(hidden_sizes[1], output_size)),\n",
    "                      ('softmax', nn.Softmax(dim=1))]))\n",
    "print(new_model)"
   ]
  },
  {
   "cell_type": "code",
   "execution_count": null,
   "metadata": {},
   "outputs": [],
   "source": [
    "# We can read weights and biases of any layer\n",
    "new_model.fc1.weight\n",
    "new_model.fc1.bias"
   ]
  },
  {
   "cell_type": "code",
   "execution_count": null,
   "metadata": {},
   "outputs": [],
   "source": [
    "# We could set biases to all zeros\n",
    "new_model.fc1.bias.data.fill_(0)\n",
    "# We could sample from random normal (mean = 0) with standard dev = 0.01\n",
    "new_model.fc1.weight.data.normal_(std=0.01)"
   ]
  }
 ],
 "metadata": {
  "kernelspec": {
   "display_name": "Python 3",
   "language": "python",
   "name": "python3"
  },
  "language_info": {
   "codemirror_mode": {
    "name": "ipython",
    "version": 3
   },
   "file_extension": ".py",
   "mimetype": "text/x-python",
   "name": "python",
   "nbconvert_exporter": "python",
   "pygments_lexer": "ipython3",
   "version": "3.6.10-final"
  },
  "varInspector": {
   "cols": {
    "lenName": 16,
    "lenType": 16,
    "lenVar": 40
   },
   "kernels_config": {
    "python": {
     "delete_cmd_postfix": "",
     "delete_cmd_prefix": "del ",
     "library": "var_list.py",
     "varRefreshCmd": "print(var_dic_list())"
    },
    "r": {
     "delete_cmd_postfix": ") ",
     "delete_cmd_prefix": "rm(",
     "library": "var_list.r",
     "varRefreshCmd": "cat(var_dic_list()) "
    }
   },
   "position": {
    "height": "319px",
    "left": "785px",
    "right": "20px",
    "top": "120px",
    "width": "394px"
   },
   "types_to_exclude": [
    "module",
    "function",
    "builtin_function_or_method",
    "instance",
    "_Feature"
   ],
   "window_display": false
  }
 },
 "nbformat": 4,
 "nbformat_minor": 4
}