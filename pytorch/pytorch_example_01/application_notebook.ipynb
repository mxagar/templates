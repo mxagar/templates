{
 "cells": [
  {
   "cell_type": "markdown",
   "metadata": {},
   "source": [
    "# Transfer Learning with Pytorch"
   ]
  },
  {
   "cell_type": "markdown",
   "metadata": {},
   "source": [
    "This notebook showcases how to perform transfer learning with pytorch.\n",
    "Two sections are provided:\n",
    "1. Training: pre-trained DenseNet121 model is loaded and trained with a reduced Cats & Dogs dataset after re-organizing it.\n",
    "2. Inference: saved trained model is used to perform inference."
   ]
  },
  {
   "cell_type": "markdown",
   "metadata": {},
   "source": [
    "## 1. Training"
   ]
  },
  {
   "cell_type": "markdown",
   "metadata": {},
   "source": [
    "First, dataset needs to be re-organized in a `train/` forlder with a subfolder for each class. This is done with the script `organize_dataset.py`. As example, the reduced dataset in `../data/cat_dog_small/` is used, only with 25 cat and 25 dog images (the dataset is originally from Kaggle)."
   ]
  },
  {
   "cell_type": "code",
   "execution_count": 5,
   "metadata": {},
   "outputs": [],
   "source": [
    "import organize_dataset"
   ]
  },
  {
   "cell_type": "code",
   "execution_count": 6,
   "metadata": {},
   "outputs": [
    {
     "name": "stdout",
     "output_type": "stream",
     "text": [
      "Samples in each class:  [25, 25]\n"
     ]
    }
   ],
   "source": [
    "# Move sample files to their class folders in train/\n",
    "dataset_dir = '../data/cat_dog_small/all'\n",
    "annotations = '../data/cat_dog_small/cat_dog_small_annotations.xlsx'\n",
    "num_images = -1\n",
    "organize_dataset.reorganize_samples(dataset_dir = dataset_dir, annotations = annotations, num_samples = num_images)"
   ]
  },
  {
   "cell_type": "code",
   "execution_count": 7,
   "metadata": {},
   "outputs": [
    {
     "name": "stdout",
     "output_type": "stream",
     "text": [
      "../data/cat_dog_small/test\n",
      "Moving 7 / 25 files from ../data/cat_dog_small/train/Cat to ../data/cat_dog_small/test/Cat\n",
      "Moving 7 / 25 files from ../data/cat_dog_small/train/Dog to ../data/cat_dog_small/test/Dog\n"
     ]
    },
    {
     "data": {
      "text/plain": [
       "'../data/cat_dog_small/test'"
      ]
     },
     "execution_count": 7,
     "metadata": {},
     "output_type": "execute_result"
    }
   ],
   "source": [
    "# Create train/ and test/ splits\n",
    "fraction = 0.3\n",
    "trainpath = '../data/cat_dog_small/train'\n",
    "organize_dataset.split_dataset(trainpath = trainpath, fraction = fraction)"
   ]
  },
  {
   "cell_type": "code",
   "execution_count": null,
   "metadata": {},
   "outputs": [],
   "source": []
  }
 ],
 "metadata": {
  "kernelspec": {
   "display_name": "Python 3",
   "language": "python",
   "name": "python3"
  },
  "language_info": {
   "codemirror_mode": {
    "name": "ipython",
    "version": 3
   },
   "file_extension": ".py",
   "mimetype": "text/x-python",
   "name": "python",
   "nbconvert_exporter": "python",
   "pygments_lexer": "ipython3",
   "version": "3.6.10"
  },
  "varInspector": {
   "cols": {
    "lenName": 16,
    "lenType": 16,
    "lenVar": 40
   },
   "kernels_config": {
    "python": {
     "delete_cmd_postfix": "",
     "delete_cmd_prefix": "del ",
     "library": "var_list.py",
     "varRefreshCmd": "print(var_dic_list())"
    },
    "r": {
     "delete_cmd_postfix": ") ",
     "delete_cmd_prefix": "rm(",
     "library": "var_list.r",
     "varRefreshCmd": "cat(var_dic_list()) "
    }
   },
   "types_to_exclude": [
    "module",
    "function",
    "builtin_function_or_method",
    "instance",
    "_Feature"
   ],
   "window_display": false
  }
 },
 "nbformat": 4,
 "nbformat_minor": 4
}
