{
 "cells": [
  {
   "cell_type": "markdown",
   "metadata": {},
   "source": [
    "# 8 Deep Learning with Keras"
   ]
  },
  {
   "cell_type": "markdown",
   "metadata": {},
   "source": [
    "## 8.5 YOLO: Object Detection"
   ]
  },
  {
   "cell_type": "markdown",
   "metadata": {},
   "source": [
    "YOLO = You Only Look Once. Version v3 is analyzed here, v1 was published in 2016 by FAIR.\n",
    "\n",
    "The model receives an image and outputs AABBs of detected object classes known to it.\n",
    "\n",
    "Prior object detection models used to apply several models to different regions and scales. YOLO applies one model to each image (thus, You Only Look Once). The network divides the imge into regions and predicts bounding boxes and probabilities for each region.\n",
    "\n",
    "As a result, YOLO is much faster (100x-1000x) than alternatives.\n",
    "\n",
    "#### COCO Dataset and pre-trained weights\n",
    "\n",
    "- 80 different object categories\n",
    "- 1.5M object instances\n",
    "- We use the pretrained YOLO model, because training it from the scratch would take many hours\n",
    "    - Download the YOLO v3 weights used in the course:\n",
    "https://drive.google.com/file/d/1yT2-zmNFymMgY42Z72LIuqMaiWvYEUQR/view?usp=sharing\n",
    "    - The model is very complex: 200 MB!!"
   ]
  },
  {
   "cell_type": "code",
   "execution_count": null,
   "metadata": {},
   "outputs": [],
   "source": []
  }
 ],
 "metadata": {
  "kernelspec": {
   "display_name": "Python 3",
   "language": "python",
   "name": "python3"
  },
  "language_info": {
   "codemirror_mode": {
    "name": "ipython",
    "version": 3
   },
   "file_extension": ".py",
   "mimetype": "text/x-python",
   "name": "python",
   "nbconvert_exporter": "python",
   "pygments_lexer": "ipython3",
   "version": "3.6.6"
  }
 },
 "nbformat": 4,
 "nbformat_minor": 2
}
