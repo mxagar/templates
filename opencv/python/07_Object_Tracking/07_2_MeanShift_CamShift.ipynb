{
 "cells": [
  {
   "cell_type": "markdown",
   "metadata": {},
   "source": [
    "# 7 Object Tracking"
   ]
  },
  {
   "cell_type": "markdown",
   "metadata": {},
   "source": [
    "**MeanShift** Algorithm: clustering algorithm similar to k-means, that finds local maxima of any number of clusters present in the feature space. Main steps of the algorithm:\n",
    "- for each data point/sample, we open a window and compute a weighted mean of all the samples within it\n",
    "- we move the point to the computed mean, and we repeat\n",
    "- eventually, all points will converge to cluster centroids!\n",
    "\n",
    "While with k-means thenumber of clusters is selected, with mean-shift the number of clusters is computed automatically -- that might result in a non-intuitive number clusters, too...\n",
    "\n",
    "How to apply it to tracking? We select a target area and compute its hue color histogram; then, we keep sliding the tracking window to the closest match (the cluster center): the movement is basically the shift of the window of the previous iteration on the new/current frame in the direction where the centroid of the intensities of the window is.\n",
    "\n",
    "**CamShift** = Continuously Adaptive (window) Mean Shift. It is a mean-shift where the window changes its size according to the object size, which can actually vary if we move away or towards the camera. The size is updated after converging: we basically update the window size and its ellipsoid orientation."
   ]
  },
  {
   "cell_type": "markdown",
   "metadata": {},
   "source": [
    "## 7.2 Mean-Shift Tracking"
   ]
  },
  {
   "cell_type": "code",
   "execution_count": 2,
   "metadata": {},
   "outputs": [],
   "source": [
    "import numpy as np\n",
    "import cv2\n",
    "import matplotlib.pyplot as plt\n",
    "%matplotlib inline"
   ]
  },
  {
   "cell_type": "code",
   "execution_count": 1,
   "metadata": {},
   "outputs": [],
   "source": [
    "import numpy as np\n",
    "import cv2 \n",
    "\n",
    "cap = cv2.VideoCapture(0) # cam input\n",
    "#cap = cv2.VideoCapture('../../data/hand_move.mp4') # recorded video\n",
    "\n",
    "# Take first frame of the video\n",
    "ret,frame = cap.read()\n",
    "\n",
    "# Set Up the Initial Tracking Window: the first face detected on first cam frame\n",
    "# We will first detect the face and set that as our starting box.\n",
    "face_cascade = cv2.CascadeClassifier('../../data/haarcascades/haarcascade_frontalface_default.xml')\n",
    "face_rects = face_cascade.detectMultiScale(frame) \n",
    "# Convert this list of a single array to a tuple of (x,y,w,h)\n",
    "(face_x,face_y,w,h) = tuple(face_rects[0]) # we take the first face, which is presumably the best guess \n",
    "track_window = (face_x,face_y,w,h)\n",
    "# Set up the ROI for tracking: rows & cols = y & x\n",
    "roi = frame[face_y:face_y+h, face_x:face_x+w]\n",
    "\n",
    "# Use the HSV Color Mapping\n",
    "hsv_roi =  cv2.cvtColor(roi, cv2.COLOR_BGR2HSV)\n",
    "\n",
    "# Find histogram to backproject the target on each frame for calculation of meanshit\n",
    "roi_hist = cv2.calcHist([hsv_roi],[0],None,[180],[0,180])\n",
    "\n",
    "# Normalize the histogram array values given a min of 0 and max of 255\n",
    "cv2.normalize(roi_hist,roi_hist,0,255,cv2.NORM_MINMAX)\n",
    "\n",
    "# Setup the termination criteria, either 10 iteration or move by at least 1 pt\n",
    "term_crit = (cv2.TERM_CRITERIA_EPS | cv2.TERM_CRITERIA_COUNT, 10, 1)\n",
    "\n",
    "ret = True\n",
    "while ret:\n",
    "    ret ,frame = cap.read()\n",
    "    if ret == True:\n",
    "        \n",
    "        # Grab the Frame in HSV\n",
    "        hsv = cv2.cvtColor(frame, cv2.COLOR_BGR2HSV)\n",
    "        \n",
    "        # Calculate the Back Projection based off the roi_hist created earlier\n",
    "        # Backprojection is a kind of matching approach:\n",
    "        # - The Hue-Saturation 2D histogram of a template image is computed, eg., a hand\n",
    "        # - We take anothe (hand) image, and define a BackProjection image, still empty\n",
    "        # - The pixel values are the probability that the pixel in test image belongs to a skin area\n",
    "        # - These are computed as follows:\n",
    "        #     - Pixel Hue-Saturation is read and its bin in the templatete histogram visited\n",
    "        #     - BackProjection pixel value = normalized histogram value\n",
    "        dst = cv2.calcBackProject([hsv],[0],roi_hist,[0,180],1)\n",
    "        \n",
    "        # Apply meanshift to get the new coordinates of the rectangle\n",
    "        # We pass the backprojection probability image to find the window to track with mean-shift\n",
    "        ret, track_window = cv2.meanShift(dst, track_window, term_crit)\n",
    "        \n",
    "        # Draw the new rectangle on the image\n",
    "        x,y,w,h = track_window\n",
    "        img2 = cv2.rectangle(frame, (x,y), (x+w,y+h), (0,0,255),5)\n",
    "        \n",
    "        # Display image\n",
    "        cv2.imshow('img2',img2)\n",
    "        \n",
    "        # Wait for ESC\n",
    "        k = cv2.waitKey(1) & 0xff\n",
    "        if k == 27:\n",
    "            break        \n",
    "    else:\n",
    "        break\n",
    "# Clear\n",
    "cv2.destroyAllWindows()\n",
    "cap.release()"
   ]
  },
  {
   "cell_type": "markdown",
   "metadata": {},
   "source": [
    "**Observations**:\n",
    "- The size of the tracked window/square doesn't resize as we come forward or go away\n",
    "- We can trick the tracking by covering our face; when we show it again within the window, it continues to track"
   ]
  },
  {
   "cell_type": "markdown",
   "metadata": {},
   "source": [
    "## 7.3 CamShift Tracking"
   ]
  },
  {
   "cell_type": "markdown",
   "metadata": {},
   "source": [
    "Basically, we use the same code, only few lines changed:\n",
    "- `cv2.CamShift()` is used instead of `cv2.meanShift()`\n",
    "- drawing functions are changed, since now we get an OBB that varies in size and orientation"
   ]
  },
  {
   "cell_type": "code",
   "execution_count": 1,
   "metadata": {},
   "outputs": [],
   "source": [
    "import numpy as np\n",
    "import cv2\n",
    "import matplotlib.pyplot as plt\n",
    "%matplotlib inline"
   ]
  },
  {
   "cell_type": "code",
   "execution_count": null,
   "metadata": {},
   "outputs": [],
   "source": [
    "import numpy as np\n",
    "import cv2 \n",
    "\n",
    "cap = cv2.VideoCapture(0) # cam input\n",
    "#cap = cv2.VideoCapture('../../data/hand_move.mp4') # recorded video\n",
    "\n",
    "# Take first frame of the video\n",
    "ret,frame = cap.read()\n",
    "\n",
    "# Set Up the Initial Tracking Window: the first face detected on first cam frame\n",
    "# We will first detect the face and set that as our starting box.\n",
    "face_cascade = cv2.CascadeClassifier('../../data/haarcascades/haarcascade_frontalface_default.xml')\n",
    "face_rects = face_cascade.detectMultiScale(frame) \n",
    "# Convert this list of a single array to a tuple of (x,y,w,h)\n",
    "(face_x,face_y,w,h) = tuple(face_rects[0]) # we take the first face, which is presumably the best guess \n",
    "track_window = (face_x,face_y,w,h)\n",
    "# Set up the ROI for tracking: rows & cols = y & x\n",
    "roi = frame[face_y:face_y+h, face_x:face_x+w]\n",
    "\n",
    "# Use the HSV Color Mapping\n",
    "hsv_roi =  cv2.cvtColor(roi, cv2.COLOR_BGR2HSV)\n",
    "\n",
    "# Find histogram to backproject the target on each frame for calculation of meanshit\n",
    "roi_hist = cv2.calcHist([hsv_roi],[0],None,[180],[0,180])\n",
    "\n",
    "# Normalize the histogram array values given a min of 0 and max of 255\n",
    "cv2.normalize(roi_hist,roi_hist,0,255,cv2.NORM_MINMAX)\n",
    "\n",
    "# Setup the termination criteria, either 10 iteration or move by at least 1 pt\n",
    "term_crit = (cv2.TERM_CRITERIA_EPS | cv2.TERM_CRITERIA_COUNT, 10, 1)\n",
    "\n",
    "ret = True\n",
    "while ret:\n",
    "    ret ,frame = cap.read()\n",
    "    if ret == True:\n",
    "        \n",
    "        # Grab the Frame in HSV\n",
    "        hsv = cv2.cvtColor(frame, cv2.COLOR_BGR2HSV)\n",
    "        \n",
    "        # Calculate the Back Projection based off the roi_hist created earlier\n",
    "        dst = cv2.calcBackProject([hsv],[0],roi_hist,[0,180],1)\n",
    "        \n",
    "        ##########\n",
    "        # Apply camshift to get the new coordinates of the rectangle\n",
    "        ret, track_window = cv2.CamShift(dst, track_window, term_crit)\n",
    "        \n",
    "        # Draw the OBB on the image\n",
    "        # Watch out: it varies in orientation and size\n",
    "        pts = cv2.boxPoints(ret)\n",
    "        pts = np.int0(pts)\n",
    "        img2 = cv2.polylines(frame, [pts], True, (0,0,255), 5)\n",
    "        ##########\n",
    "                \n",
    "        # Display image\n",
    "        cv2.imshow('img2',img2)\n",
    "        \n",
    "        # Wait for ESC\n",
    "        k = cv2.waitKey(1) & 0xff\n",
    "        if k == 27:\n",
    "            break        \n",
    "    else:\n",
    "        break\n",
    "# Clear\n",
    "cv2.destroyAllWindows()\n",
    "cap.release()"
   ]
  }
 ],
 "metadata": {
  "kernelspec": {
   "display_name": "Python 3",
   "language": "python",
   "name": "python3"
  },
  "language_info": {
   "codemirror_mode": {
    "name": "ipython",
    "version": 3
   },
   "file_extension": ".py",
   "mimetype": "text/x-python",
   "name": "python",
   "nbconvert_exporter": "python",
   "pygments_lexer": "ipython3",
   "version": "3.6.6"
  }
 },
 "nbformat": 4,
 "nbformat_minor": 2
}
