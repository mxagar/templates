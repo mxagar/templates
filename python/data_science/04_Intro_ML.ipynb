{
 "cells": [
  {
   "cell_type": "markdown",
   "metadata": {},
   "source": [
    "# Introduction to Machine Learning"
   ]
  },
  {
   "cell_type": "markdown",
   "metadata": {},
   "source": [
    "**Supervised learning**\n",
    "- We have labelled or annotated samples, which are split\n",
    "    - Training split: train model parameters\n",
    "    - Validation split: for adjusting hyperparameters (skipped in the course)\n",
    "    - Test split: final performance metric; nothing tested anymore\n",
    "- Usually two types of problems are solved\n",
    "    - Classification: predict the class of a new sample using a model trained with labelled samples\n",
    "    - Regression: predict the continuous value of a sample using a model trained with labelled samples\n",
    "\n",
    "**Unsupervised learning**\n",
    "- We don't have labelled data.\n",
    "- Usually these kind of problems are solved:\n",
    "    - Clustering: data points are grouped due to their similarity; since data is not labelled, the grouping can result to be artificial, if not correctly done\n",
    "    - Anomaly detection: we detect outliers in a dataset, eg, fraud detection; usually we don't have outliers as data, but we recognize them when they appear\n",
    "    - Dimensionality reduction: the number of features of each sample can be reduced either to compress or to better understand the dataset\n",
    "- Since we don't have labels (ground truth), we cannot evaluate the methods taht easily.\n",
    "\n",
    "**Performance evaluation for classification (categorical values)**\n",
    "- Metrics\n",
    "    - Accuracy\n",
    "    - Recall\n",
    "    - Precission\n",
    "    - F1-score\n",
    "- Confusion matrix; Type I & II errors\n",
    "\n",
    "**Performance evaulation for regression (continuoues values)**\n",
    "- Mean absolute error: avg(abs(y-y_hat)); large errors not punished\n",
    "- (Root) Mean squared error: sqrt(avg((y-y_hat)^2))"
   ]
  },
  {
   "cell_type": "markdown",
   "metadata": {},
   "source": [
    "### Scikit Learn: Overview of pipeline"
   ]
  },
  {
   "cell_type": "markdown",
   "metadata": {},
   "source": [
    "#### 0. Install it\n",
    "\n",
    "```python\n",
    "conda install scikit-learn\n",
    "pip install scikit-learn\n",
    "```"
   ]
  },
  {
   "cell_type": "markdown",
   "metadata": {},
   "source": [
    "#### 1. Import model estimator and instantiate it (with or without params)\n",
    "\n",
    "`from sklearn.family import Model`\n",
    "\n",
    "Example (family = linear_model, Model = LinearRegression):"
   ]
  },
  {
   "cell_type": "code",
   "execution_count": 1,
   "metadata": {},
   "outputs": [],
   "source": [
    "from sklearn.linear_model import LinearRegression"
   ]
  },
  {
   "cell_type": "code",
   "execution_count": 2,
   "metadata": {},
   "outputs": [],
   "source": [
    "model = LinearRegression()"
   ]
  },
  {
   "cell_type": "markdown",
   "metadata": {},
   "source": [
    "#### 2. Create training and test splits with the data"
   ]
  },
  {
   "cell_type": "code",
   "execution_count": 12,
   "metadata": {},
   "outputs": [],
   "source": [
    "from sklearn.model_selection import train_test_split"
   ]
  },
  {
   "cell_type": "code",
   "execution_count": 4,
   "metadata": {},
   "outputs": [],
   "source": [
    "import numpy as np"
   ]
  },
  {
   "cell_type": "code",
   "execution_count": 5,
   "metadata": {},
   "outputs": [],
   "source": [
    "X, y = np.arange(10).reshape(5, 2), range(5)"
   ]
  },
  {
   "cell_type": "code",
   "execution_count": 6,
   "metadata": {},
   "outputs": [],
   "source": [
    "X_train, X_test, y_train, y_test = train_test_split(X, y, test_size=0.3)"
   ]
  },
  {
   "cell_type": "markdown",
   "metadata": {},
   "source": [
    "#### 3. Train/Fit model"
   ]
  },
  {
   "cell_type": "markdown",
   "metadata": {},
   "source": [
    "Supervised **estimators**:\n",
    "\n",
    "`model.fit(X_train, y_train)`\n",
    "\n",
    "Unsupervised **estimators**:\n",
    "\n",
    "`model.fit(X_train)`\n",
    "\n",
    "Many models can compute a fitting score [0,1]:\n",
    "\n",
    "`model.score()`"
   ]
  },
  {
   "cell_type": "code",
   "execution_count": 7,
   "metadata": {},
   "outputs": [
    {
     "data": {
      "text/plain": [
       "LinearRegression(copy_X=True, fit_intercept=True, n_jobs=1, normalize=False)"
      ]
     },
     "execution_count": 7,
     "metadata": {},
     "output_type": "execute_result"
    }
   ],
   "source": [
    "model.fit(X_train, y_train)"
   ]
  },
  {
   "cell_type": "markdown",
   "metadata": {},
   "source": [
    "#### 4. Inference/Prediction"
   ]
  },
  {
   "cell_type": "markdown",
   "metadata": {},
   "source": [
    "Supervised, classification (categorical values) & regression (continuous values):\n",
    "\n",
    "`predictions = model.predict(X_new)`\n",
    "\n",
    "Supervised, classification (probabilities):\n",
    "\n",
    "`probabilities = model.predict_proba(X_new)`\n",
    "\n",
    "Unsupervised:\n",
    "\n",
    "`predictions = model.predict(X_new)`\n",
    "\n",
    "`X_trans = model.transform(X_new)`\n"
   ]
  },
  {
   "cell_type": "code",
   "execution_count": 9,
   "metadata": {},
   "outputs": [],
   "source": [
    "predictions = model.predict(X_test)"
   ]
  },
  {
   "cell_type": "code",
   "execution_count": 10,
   "metadata": {},
   "outputs": [
    {
     "data": {
      "text/plain": [
       "array([ 1.,  3.])"
      ]
     },
     "execution_count": 10,
     "metadata": {},
     "output_type": "execute_result"
    }
   ],
   "source": [
    "predictions"
   ]
  },
  {
   "cell_type": "markdown",
   "metadata": {},
   "source": [
    "## Which method/estimator should we use?"
   ]
  },
  {
   "cell_type": "markdown",
   "metadata": {},
   "source": [
    "![Choosing the appropriate ML method](_scikit_learn_ml_map_choose_method.png \"Choosing the appropriate ML method\")"
   ]
  },
  {
   "cell_type": "code",
   "execution_count": null,
   "metadata": {},
   "outputs": [],
   "source": []
  }
 ],
 "metadata": {
  "kernelspec": {
   "display_name": "Python 3",
   "language": "python",
   "name": "python3"
  },
  "language_info": {
   "codemirror_mode": {
    "name": "ipython",
    "version": 3
   },
   "file_extension": ".py",
   "mimetype": "text/x-python",
   "name": "python",
   "nbconvert_exporter": "python",
   "pygments_lexer": "ipython3",
   "version": "3.6.8"
  }
 },
 "nbformat": 4,
 "nbformat_minor": 2
}
