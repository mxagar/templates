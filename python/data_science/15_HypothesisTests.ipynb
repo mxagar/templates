{
 "cells": [
  {
   "cell_type": "markdown",
   "metadata": {},
   "source": [
    "# Statistical Hypothesis Tests"
   ]
  },
  {
   "cell_type": "markdown",
   "metadata": {},
   "source": [
    "This notebook is a summary of the most important statistical tests in python:\n",
    "1. T-Test\n",
    "    - Independet samples\n",
    "    - Related samples\n",
    "    - One sample\n",
    "2. ANOVA\n",
    "3. Goodness of Fit, $\\chi^2$\n",
    "4. Acceptance sampling\n",
    "\n",
    "For continuous variables, different relationship cheks are:\n",
    "\n",
    "5. Correlation\n",
    "    - Spearman\n",
    "    - Kendall\n",
    "\n",
    "Necessary assumption tests and plots are covered too:\n",
    "\n",
    "6. Assumption checks\n",
    "    - Normality\n",
    "        - QQ plots\n",
    "        - Boxplots\n",
    "        - Shapiro-Wilk test\n",
    "    - Homoscedasticity = Equal variances\n",
    "        - Rule of Thumb Varince Check\n",
    "        - Boxplots\n",
    "        - Bartlett's test\n",
    "        - Levine's test\n",
    "\n",
    "Some alternative tests for the case in which assumptions are not met are provided too:\n",
    "\n",
    "7. Non-parametric test\n",
    "    - Wilcoxon signed rank (vs. Related Samples T test)\n",
    "    - Mann-Whitney / Wilcoxon ranked sum (vs. Independent Samples T test)\n",
    "    - Kruskall Wallis (vs. Independent/Between One-Way ANOVA)\n",
    "    - Friedman (vs. Repeated Measures/Within One-Way ANOVA)\n",
    "\n",
    "Finally, an appendix of some important statistical descriptives is provided: \n",
    "\n",
    "8. Descriptive statistic values\n",
    "    - Mean, Variance, Standard Deviation\n",
    "    - Kurtosis\n",
    "    - Skewness\n",
    "    - Effect size\n",
    "    - Condifence intervals (page 15 of my notes)\n",
    "\n",
    "Sources:\n",
    "\n",
    "https://medium.com/@rrfd/f-tests-and-anovas-examples-with-the-iris-dataset-fe7caa3e21d0\n",
    "\n",
    "https://www.statisticshowto.com/probability-and-statistics/t-test/#PairedTTest\n",
    "\n",
    "https://towardsdatascience.com/inferential-statistics-series-t-test-using-numpy-2718f8f9bf2f\n",
    "\n",
    "https://www.itl.nist.gov/div898/handbook/eda/section3/eda35f.htm\n",
    "\n",
    "https://www.statology.org/chi-square-goodness-of-fit-test-python/"
   ]
  },
  {
   "cell_type": "markdown",
   "metadata": {},
   "source": [
    "## Hypothesis Testing"
   ]
  },
  {
   "cell_type": "markdown",
   "metadata": {},
   "source": [
    "Let's say we have a theory that explains some relationship between variables. Hypothesis testing helps determining how plausible that theory is. We basically compare our theory/hypothesis to the default explanation, i.e., there is no relationship. For that, we collect some outcome measures under the effects of our hypothesis factors and define:\n",
    "\n",
    "- `H0`: Null hypothesis, the one we usually want to reject. Example: *\"The new drug has no effect on the recovery time, e.g. mean recovery time of placebo = drug\"*.\n",
    "- `Ha`: Alternate hypothesis (aka `H1`, `HA`), the one we usually want to confirm. *\"The new drug does have an effect on the recovery time, e.g. mean recovery time of drug is different/shorter than that of the placebo\"*.\n",
    "- `alpha` (threshold significance, or significance level): typically set to `0.05`, p-value threshold below which we can reject `H0` and take `Ha` as probable. We basically acknowledge that there is an `alpha` chance of `H0` being correct, thus, wrongly rejected. Therefore, `alpha` is the **Type-I error**, i.e., the **false positive** error. We usually compute the p-value of `H0` and check that it is below the threshold `alpha`. We can also compute the critical statistic for `alpha` and check that our statistic is in the limits.\n",
    "\n",
    "Important concepts in hypothesis testing:\n",
    "- Factor: independent variable that we vary and expect effects in the dependent variables we measure\n",
    "- Treatment, Condition, Level, Group: especially in the medical context, a factor can be understood as a treatment, e.g. a new drug, which can be administered in different dossages or levels and still be the same factor. Each treatment level can be understood as a condition which can be assigned to a group. However, the mapping between different factor-levels and groups can vary. The important thing is to differentiate: dependent variables (measured) and dependent variables (factors and their levels),\n",
    "- Assumptions: each hypothesis test makes its assumptions, which need to be checked. If not fullfilled, another test must be carried out, eventually a non-parametric test.\n",
    "- Degree of freedom, `df`: parameters for the probability distributions used in the hypothesis tests. They often refer to the number of groups or samples.\n",
    "- Between vs within variation: by analyzing the difference (ratio) of the variance (error) for different groups and inside each group we can determine if the factor has really an effect on the measured outcome. Therefore, most tests compute some ratio between the differences between the groups and the differences within the groups.\n",
    "- Repeated measures: a study is a repeated measures or within-subject (as opposed to between) if we use the same group of people/objects for all different treatments; the dependent variables are measured at different point in time.\n",
    "- Parametric vs. non-parametric tests: parametric hypothesis tests use condituous distributions to check whether the computed statistic is associated to significantly different groups or not. However, parametric tests are based on some assumptions. If these are not fullfilled, non-parametric tests can be used (usually less powerfull, though). Non-parametric tests do not use continuous distributions and are sometimes based on some ranking strategies.\n",
    "- PDF, CDF, PPF\n",
    "    - PDF = Probability density function: the distribution function curve with area 1 \n",
    "    - CDF = Cummulative distribution funcion: integral of PDF; CDF(x) = int(PDF,0,x). Basically, it is used to get the area (accumulated probability) below the distribution curve\n",
    "    - PPF = Percent point function: inverse of CDF, we get the x value of the RV for a given at q (% of accumulated area)\n",
    "- `beta` (`1-beta` = Power): **Type-II error**, i.e., the **false negative** error, the worst of the errors and the one we'd like to avoid. A typical value for the power is `1-beta = 0.8`. We can build a `2x2`confusion matrix with `H0` and `HA` being chosen/rejected. In the cells, we would have `alpha` and `beta`\n",
    "    - p(choose `Ha`|`Ha` is true) = `1-beta` = power\n",
    "    - p(choose `H0`|`H0` is true) = `1-alpha`\n",
    "    - p(choose `Ha`|`H0` is true) = `beta` = p(type II error)\n",
    "    - p(choose `H0`|`Ha` is true) = `alpha` = p(type I error)\n",
    "- Sample size (`N`): how many samples do we need to draw meaningful conclusions? Usually that is studied in a **power analysis**, when studying the **experimental design** (see below).\n",
    "- Effect size (`ES`): magnitude of the effect that is significant; in addition to the significance of the treatment (p-value), we compute how big that effect is. Depending on the statistical test, different `ES` computations can be done. A typical one is Cohen's d. Given two samples A and B for which variable x is measured:\n",
    "    - $d = ES = \\frac{mean(x_A) - mean(x_B)}{S_{AB}}$\n",
    "    - $S_{AB} = \\sqrt{\\frac{(N_A-1)*S_A^2 + (N_B-1)*S_B^2}{N_A+N_B-2}}$, pooled standard deviation\n",
    "    - Then:\n",
    "        d < 0.2: small effect,\n",
    "        0.2 < d < 0.5 medium,\n",
    "        d > 0.5 large"
   ]
  },
  {
   "cell_type": "markdown",
   "metadata": {},
   "source": [
    "## Experimental Design\n",
    "\n",
    "- We need to maintain all possible influences constant when we administer any treatment, i.e., maintain any known factors constant, as well as any cicumstances that might hide unknown factors\n",
    "- Good practices\n",
    "    - Randomization: systematically alter order of treatments\n",
    "    - Use groups of similar people\n",
    "    - Use control groups: groups that do not receive any treatment\n",
    "    - Use blind trials: single-blind (participant is agnostic), double-blind (participant & tester agnostic), triple-blind (participant, tester, statiscian agnostic)\n",
    "- Consider **power analysis**\n",
    "    - These four parameters are inter-related, so we can obtain one given the other three:\n",
    "        - effect size `ES` (magnitude of the effect),\n",
    "        - `alpha` (type I error),\n",
    "        - `beta` (type II error),\n",
    "        - sample size `N` (number of measurements)\n",
    "    - Typical power analyses done:\n",
    "        - A priori or before the study: given `ES`, `alpha`, `beta`, compute the sample size `N` required for them. While `alpha` and `beta` are set as requirements, `ES` is computed with pilot studies or looking at similar studies.\n",
    "        - Post-hoc or after the study: given `ES`, `alpha`, sample size `N`, compute the type II error `beta` or power (`1-beta`) of the study."
   ]
  },
  {
   "cell_type": "markdown",
   "metadata": {},
   "source": [
    "## 1. T-Test"
   ]
  },
  {
   "cell_type": "markdown",
   "metadata": {},
   "source": [
    "A T-Test compares two **averages** (means) and determines the likelyhood that they belog to the same or different distributions. The differences between means can be due to the fact that they belong to different distributions, or they could happen by chance.\n",
    "\n",
    "Typical example: The efficiency of a drug is tested: a control group receives a placebo and the other group the drug; the recovery time is measured. Are the means of both sampled groups effectively the same, i.e., do they belong to the same distribution?\n",
    "\n",
    "Types of T-Tests:\n",
    "1. **One sample T-test**: the mean of the samples is compared to a known (theoretical) population mean.\n",
    "2. **Independent samples T-test**: the means of two independent sample sets are compared.\n",
    "3. **Paired/Related/Repeated samples T-test**: the means of the same group (samples) are compared at different times or treatments.\n",
    "\n",
    "The T score or statistic is computed and its associated probability evaluated in the Student's T distribution.\n",
    "- The T score is the ration between the difference between the groups and the difference within the groups\n",
    "- The larger the T score, the more likely we have two different distributions\n",
    "- The T distirbution is similar in shape to the normal distribution, but with fatter tails for smaller sample sizes\n",
    "- Unique parameter of the T distribution: Defree-of-freedom: `df = N - 1`, sample size; `T(df->inf) = Normal(0,1)`\n",
    "\n",
    "**T statistic computation**:\n",
    "- One sample with $x_i$ measurements:\n",
    "    - $T = \\frac{mean(x) - m}{\\frac{s}{\\sqrt{N}}}$\n",
    "    - $m$: population mean\n",
    "    - $N$: sample size\n",
    "    - $s$: sample standard deviation: $s^2 = \\frac{\\sum{x-mean(x)}}{N-1}$\n",
    "    - $mean(x)$: sample mean\n",
    "    - `df` = N-1\n",
    "\n",
    "- Two samples (independent):\n",
    "    - $T = \\frac{mean(x_A) - mean(x_B)}{s_{AB}*\\sqrt{\\frac{1}{N_A}+\\frac{1}{N_B}}}$\n",
    "    - $s_{AB} = \\sqrt{\\frac{(N_A-1)*s_A^2 + (N_B-1)*s_B^2}{N_A+N_B-2}}$, pooled standard deviation\n",
    "    - `df` = $N_A + N_B - 2$\n",
    "\n",
    "**Two-sided/tailed vs one-sided/tailed**:\n",
    "- Test distributions can be symmetrical (e.g., Student's T distribution) or asymmetrical (e.g. F distribution for ANOVAs, or Chi-square tests)\n",
    "    - Tests based on asymmetrical distributions are always one-sided\n",
    "    - Tests based on symmetrical distributions can be one-sided or two-sided\n",
    "- **One-sided** tests check if there is a difference between groups **in a specific direction**, e.g., one mean is expected bigger than the other.\n",
    "- **Two-sided** tests check if there is a difference between groups **in any direction**, e.g., means expected to belong to different distributions.\n",
    "- When we manually check the p-value given a statistic, we check the area under the curve in one extreme tail: 1-CDF(t). That is a one-sided test and p-value.\n",
    "    - The two-sided p-value is 2x the one-sided one.\n",
    "    - Why? because a value of t comes from the difference of means in one direction; we have an equivalent -t for the other direction, which takes the area of the other tail. Since the distribution is symmetrical, both areas are the same, thus, the complete p-value area is 2x one tail.\n",
    "- Usually, the two-sided check is the go, which is also more conservative: higher p-value -> more difficult to reject `H0`.\n",
    "\n",
    "**Assumptions**: \n",
    "- Measurements normally distributed: tested with boxplots, QQ-plots and Shapiro-Wilks test \n",
    "- Same variance; if not, it must be entered as `equal_var=False` and Welch's T-test is performed\n",
    "- For the independent samples test: independent sampling of the population between groups\n",
    "\n",
    "**IMPORTANT note**: do not use T-tests repeteadly in groups pairwise without corrections, because it leads to false positives (it increases type I error). Instead, use ANOVA."
   ]
  },
  {
   "cell_type": "markdown",
   "metadata": {},
   "source": [
    "### 1.1 Plotting the Student's T Distribution"
   ]
  },
  {
   "cell_type": "code",
   "execution_count": 1,
   "metadata": {},
   "outputs": [],
   "source": [
    "import numpy as np\n",
    "from scipy.stats import norm,t\n",
    "import scipy.stats as stats\n",
    "from matplotlib import pyplot as plt\n",
    "import seaborn as sns\n",
    "%matplotlib inline"
   ]
  },
  {
   "cell_type": "code",
   "execution_count": 2,
   "metadata": {},
   "outputs": [],
   "source": [
    "df_values = [1, 10, 100]\n",
    "linestyles = [':', '--', '-']\n",
    "linecolors = ['red', 'green', 'blue']\n",
    "x = np.arange(-10, 10, 0.01)"
   ]
  },
  {
   "cell_type": "code",
   "execution_count": 3,
   "metadata": {},
   "outputs": [
    {
     "data": {
      "image/png": "[encoded data removed]",
      "text/plain": [
       "<Figure size 576x360 with 1 Axes>"
      ]
     },
     "metadata": {
      "needs_background": "light"
     },
     "output_type": "display_data"
    }
   ],
   "source": [
    "# Student's T Distribution: Probability Density Function\n",
    "fig, ax = plt.subplots(figsize=(8, 5))\n",
    "for (df,ls,lc) in zip(df_values, linestyles, linecolors):\n",
    "    dist = t(df)\n",
    "    # NOTE: if we have a discrete distribution, use plt.step(), not plt.plot()\n",
    "    plt.plot(x, dist.pdf(x), color=lc, linestyle=ls, label='$df={}$'.format(df))\n",
    "plt.xlabel('$x$')\n",
    "plt.ylabel('$p(x|df)$')\n",
    "plt.title(\"Student's T Distribution\")\n",
    "plt.legend()\n",
    "plt.show()"
   ]
  },
  {
   "cell_type": "markdown",
   "metadata": {},
   "source": [
    "### 1.2 Performing the Tests"
   ]
  },
  {
   "cell_type": "markdown",
   "metadata": {},
   "source": [
    "#### Data"
   ]
  },
  {
   "cell_type": "code",
   "execution_count": 4,
   "metadata": {},
   "outputs": [],
   "source": [
    "# Sythetic measurements\n",
    "N = 100\n",
    "# Gaussian distributed data with mean = 2 and var = 1\n",
    "a = np.random.randn(N) + 2\n",
    "# Gaussian distributed data with with mean = 0 and var = 1\n",
    "b = np.random.randn(N)"
   ]
  },
  {
   "cell_type": "code",
   "execution_count": 5,
   "metadata": {},
   "outputs": [
    {
     "data": {
      "text/plain": [
       "<matplotlib.axes._subplots.AxesSubplot at 0x25e7aac77f0>"
      ]
     },
     "execution_count": 5,
     "metadata": {},
     "output_type": "execute_result"
    },
    {
     "data": {
      "image/png": "[encoded data removed]",
      "text/plain": [
       "<Figure size 720x432 with 1 Axes>"
      ]
     },
     "metadata": {
      "needs_background": "light"
     },
     "output_type": "display_data"
    }
   ],
   "source": [
    "plt.figure(figsize=(10,6))\n",
    "sns.histplot(data=a,color='red',kde=True,bins=20)\n",
    "sns.histplot(data=b,color='green',kde=True,bins=20)"
   ]
  },
  {
   "cell_type": "markdown",
   "metadata": {},
   "source": [
    "#### Tests\n",
    "\n",
    "After we check the assumptions (**normality**, see below), we can perform the tests."
   ]
  },
  {
   "cell_type": "code",
   "execution_count": 6,
   "metadata": {},
   "outputs": [],
   "source": [
    "# Several T-Tests are available, given arrays of measurement a and b:\n",
    "# scipy.stats\n",
    "# .ttest_1samp(a, popmean): mean of the sample compared to a population mean; two-sided\n",
    "# .ttest_ind(a, b): two independent sample means compared; two-sided\n",
    "# .ttest_rel(a, b): two related/repeated sample means compared; two-sided\n",
    "# .ttest_ind_from_stats(ma, sa, na, mb, sb, nb): means of two independent samples from descriptive statistics compared; two-sided"
   ]
  },
  {
   "cell_type": "code",
   "execution_count": 7,
   "metadata": {},
   "outputs": [],
   "source": [
    "# Two independent samples\n",
    "t, p = stats.ttest_ind(a,b)"
   ]
  },
  {
   "cell_type": "code",
   "execution_count": 8,
   "metadata": {},
   "outputs": [
    {
     "name": "stdout",
     "output_type": "stream",
     "text": [
      "t = 14.624417862969958\n",
      "p = 2.5211409939190387e-33\n"
     ]
    }
   ],
   "source": [
    "# p < 0.05 -> H0 can be rejected, both samples belong to two different distributions\n",
    "print(\"t = \" + str(t))\n",
    "print(\"p = \" + str(p))"
   ]
  },
  {
   "cell_type": "code",
   "execution_count": 9,
   "metadata": {},
   "outputs": [],
   "source": [
    "# Two repeated samples\n",
    "t, p = stats.ttest_rel(a,b)"
   ]
  },
  {
   "cell_type": "code",
   "execution_count": 10,
   "metadata": {},
   "outputs": [
    {
     "name": "stdout",
     "output_type": "stream",
     "text": [
      "t = 14.010460754041388\n",
      "p = 3.1330509334213255e-25\n"
     ]
    }
   ],
   "source": [
    "# p < 0.05 -> H0 can be rejected, both samples belong to two different distributions\n",
    "print(\"t = \" + str(t))\n",
    "print(\"p = \" + str(p))"
   ]
  },
  {
   "cell_type": "markdown",
   "metadata": {},
   "source": [
    "Observations:\n",
    "- For both independent and paired/repeated samples, the T statistic and the `df`s vary, so the T distribution is different and the value check in there too, thus, a different p-value is obtained\n",
    "- For larger sample sizes, the results are more conclusive"
   ]
  },
  {
   "cell_type": "markdown",
   "metadata": {},
   "source": [
    "### 1.3 Alternative: Manual Computations"
   ]
  },
  {
   "cell_type": "code",
   "execution_count": 11,
   "metadata": {},
   "outputs": [],
   "source": [
    "# Variance s^2 of each sample scaled with N-1 (ddof=1)\n",
    "var_a = a.var(ddof=1) # (s_A)^2\n",
    "var_b = b.var(ddof=1) # (s_B)^2\n",
    "\n",
    "# Pooled standard deviation: standard deviation of both samples together\n",
    "s_ab = np.sqrt(((len(a)-1)*var_a + (len(b)-1)*var_b)/(len(a)+len(b)-2))\n",
    "\n",
    "# T statistic\n",
    "t = (a.mean() - b.mean())/(s_ab*np.sqrt((1/len(a))+(1/len(b))))"
   ]
  },
  {
   "cell_type": "code",
   "execution_count": 12,
   "metadata": {},
   "outputs": [
    {
     "name": "stdout",
     "output_type": "stream",
     "text": [
      "t = 14.624417862969958\n"
     ]
    }
   ],
   "source": [
    "print(\"t = \" + str(t))"
   ]
  },
  {
   "cell_type": "code",
   "execution_count": 13,
   "metadata": {},
   "outputs": [
    {
     "name": "stdout",
     "output_type": "stream",
     "text": [
      "t = 14.624417862969958\n",
      "p = 0.0\n"
     ]
    }
   ],
   "source": [
    "# With T and df, we can get the p-value from the T distribution\n",
    "df = len(a) + len(b) - 2\n",
    "# p-value is obtained form the cummulative density function (CDF) with the given df\n",
    "# since we want the remaining are under the PDF, we need to compute 1-CDF(t)\n",
    "p = 1 - stats.t.cdf(t,df=df)\n",
    "# Since we usually compute a 2-sided test (differences in any direction tested)\n",
    "# we need to 2x the p-value\n",
    "p *= 2.0\n",
    "# Display\n",
    "print(\"t = \" + str(t))\n",
    "print(\"p = \" + str(p))"
   ]
  },
  {
   "cell_type": "markdown",
   "metadata": {},
   "source": [
    "### 1.4 Plotting the Critical Value t_crit"
   ]
  },
  {
   "cell_type": "markdown",
   "metadata": {},
   "source": [
    "The value of t for which the two distributions or groups start being different is determined by the significance level `alpha`."
   ]
  },
  {
   "cell_type": "code",
   "execution_count": 14,
   "metadata": {},
   "outputs": [],
   "source": [
    "from scipy.stats import t, norm\n",
    "import matplotlib.pyplot as plt\n",
    "%matplotlib inline"
   ]
  },
  {
   "cell_type": "code",
   "execution_count": 15,
   "metadata": {},
   "outputs": [],
   "source": [
    "def plot_t_critical(df,alpha=0.05):\n",
    "    # Set figure \n",
    "    plt.figure(figsize=(8, 4))\n",
    "    # T distribution with df\n",
    "    dist = t(df)\n",
    "    # t range (x)\n",
    "    x = np.linspace(dist.ppf(0.0001), dist.ppf(0.9999), 100)\n",
    "    # Critical value; PPF is the inverse of CDF\n",
    "    t_crit = dist.ppf(1-alpha)\n",
    "    # Plot values\n",
    "    plt.plot(x, dist.pdf(x), alpha=0.6, label=' X ~ T({})'.format(df))\n",
    "    plt.vlines(t_crit, 0.0, 1.0, color='red', linestyles=\"dashdot\", label=\"Crit. Value: {:.2f}\\nalpha: {:.2f}\".format(t_crit,alpha))\n",
    "    plt.legend()\n",
    "    plt.title('T-Distribution df:{}'.format(df))\n",
    "    plt.xlabel('X=t')"
   ]
  },
  {
   "cell_type": "code",
   "execution_count": 16,
   "metadata": {},
   "outputs": [
    {
     "data": {
      "image/png": "[encoded data removed]",
      "text/plain": [
       "<Figure size 576x288 with 1 Axes>"
      ]
     },
     "metadata": {
      "needs_background": "light"
     },
     "output_type": "display_data"
    }
   ],
   "source": [
    "plot_t_critical(df=df)"
   ]
  },
  {
   "cell_type": "markdown",
   "metadata": {},
   "source": [
    "## 2. ANOVA\n",
    "\n",
    "A T test determines if two groups belong to the same distribution by comparing their means. When we have >2 groups, T tests between pairs without any correction are not a good idea, because they increase the type I error. Instead, we can use ANOVAs = Analysis of Variance. In ANOVAs, the significance of a factor is determined by comparing the variances of the groups, not the means.\n",
    "\n",
    "**Key ideas**:\n",
    "- If >2 groups -> ANOVA\n",
    "- Factors / independent variables:\n",
    "    - 1: One-way ANOVA\n",
    "    - 2: Two-way ANOVA\n",
    "    - Avoid more than 2-3 factors, since results are difficult to interpret later...\n",
    "    - Keep in mind that each factor can have >=2 groups or levels\n",
    "- Note on the dependent variables (the ones measured):\n",
    "    - If one at a time: ANOVA\n",
    "    - If more than one are analyzed together: MANOVA (multivariate)\n",
    "- General procedure: \n",
    "\n",
    "**Typical examples**:\n",
    "- We want to check the effect of a new drug admnistered in 3 different dossages (low, medium, high): one-way ANOVA (one factor) with 3 levels\n",
    "- We want to check the effect of school scores depending on cell usage time (low, medium, high) and gender (boys, girls): two-way ANOVA (2 factors: cell usage and gender) with 3 and 2 levels, respectively.\n",
    "\n",
    "**Types of ANOVAs**:\n",
    "- Number of factors: depending on the number of independent variables or factors chosen, we can have one-way, two-way, etc. ANOVAS.\n",
    "    - Avoid performing studies with more than 3 factors, because these are difficult to interpret\n",
    "    - If we have 1+ factor, ANOVAs are called multiple factor ANOVAs\n",
    "    - Multi-factor ANOVAs require\n",
    "        - Main effect significance analysis for each factor\n",
    "        - Interaction effects between factors pairwise\n",
    "        - So, for a two-way ANOVA, 3 one-way ANOVAs are really performed:\n",
    "            - 2 for main effects of each factor\n",
    "            - 1 for interaction effects between the 2 factors\n",
    "        - Interaction plots are useful for multi-factor ANOVAs: means plotted for each factor-level combination\n",
    "- Between vs. within\n",
    "    - Between studies work with independent samples, i.e., groups of participants or objets measured are different ans are note related\n",
    "    - Within studies (aka. repeated measures) have related groups, e.g., the same sample of participants carries out the same set of experiments.\n",
    "    - By default, between studies are considered.\n",
    "    - If a within study is carried out, the tests must be modified, because the computation of variances within & between groups is different, thus, the statistic checked in the F distribution is different.\n",
    "\n",
    "**Computation steps and the F distribution** (usually that's done automatically):\n",
    "- We define groups (k) and observations (N = sum(n_k))\n",
    "    - a group (k, eg: 1, 2, 3) is a set of measurements with a determined set of levels for the factors\n",
    "    - an observation is a data point or measurement in a group; we can have different amounts of observations per group n_k (n_1, n_2, n_3), and all observations amount to N = sum(n_k)\n",
    "- For each group, its mean and variance are computed with their observations; additionally the total mean is computed\n",
    "- Then, the within-groups and between-groups variances are computed:\n",
    "    - Var_b (MSB, mean square between): Between-groups variance: variance of the group means wrt the total mean\n",
    "    - Var_w (MSE, mean square error/within): Withing-groups variance: weighted sum of all group variances (weighted with the number of observations)\n",
    "- The quotient of both variances is the statistic F = Var_b / Var_w = MSB / MSE\n",
    "    - A higher F value means the variance between the groups is higher, thus groups are significantly different\n",
    "    - We check if the value F leads to significant differences in the F distribution\n",
    "- The F distribution gives the p-value of significance for each factor, given\n",
    "    - The F statistic\n",
    "    - `df1` = `k - 1`, groups (between)\n",
    "    - `df2` = `N - k`, observations (within)    \n",
    "- The F distribution changes in shape depending on the de grees of freedom and it's asymmetrical = only one-sided tests can be performed, i.e., we check that distirbutions are different in any direction, not a specific direction (bigger, smaller).\n",
    "\n",
    "A factor has a significant effect. Now what?\n",
    "**Compare levels pairwise in a post-hoc analysis**:\n",
    "- Once we have a factor which is significant, we can check whether there are differences between the levels or groups in the factor\n",
    "- We cannot apply a simple T test between levels, because that increases the type I error\n",
    "- Instead, we could apply the Bonferroni correction with which we decrease the significance level: `alpha'` = `alpha / k`, `k`; number of levels\n",
    "- However, there are many other alternatives to the rather conservative Bonferroni procedure\n",
    "- A very good choice is the Tukey Honestly Significant Difference (HSD) test\n",
    "\n",
    "**Assumptions**:\n",
    "- Random sampling\n",
    "- Normality: Within each group, dependent variable must be normally distributed\n",
    "- Homoscedaticity: group standard deviations must be equal, although means can be different; rule of thumb: max(s)/min(s) < 2\n",
    "- For within studies / repeated measures: sphericity (see below)\n",
    "\n",
    "**Notes on repeated measures studies**:\n",
    "- Repeated measures analyses require modified computations and tests\n",
    "    - Means of subjects or repeated objects are added as an extra measurement\n",
    "    - The error or variance introduced by the subjects is computed and substracted to the within-groups variance (MSE)\n",
    "    - Since F = MSB/ MSE, F increases -> more probable significances appear (lower p-values)\n",
    "- All this is not done manually - see for instance `statsmodels.stats.anova.AnovaRM`\n",
    "- Additionally, spherecity must be checked: sphericity is met when the variances of all the differences between levels are similar\n",
    "    - We basically compute the differences between levels and then obtain their variances: these must be similar\n",
    "    - Thus, spherecity can be checked only iff we have 3 or more levels (no matter how many factors)\n",
    "    - Test for checking sphericity: Maulchy's test, W\n",
    "    - If sphericity is violated, we can either perform MANOVA, or continue with ANOVA but correcting the `df`s with `epsilon`\n",
    "        - `epsilon` in [1/(k-1),1], a value is chosen according to Greehouse-Geisser or Huynd-Feldt\n",
    "        - `df`' = `epsilon` * `df`\n",
    "        - F statistic does not change (because `epsilon` cancels in the quotient), but the distribution F does!"
   ]
  },
  {
   "cell_type": "markdown",
   "metadata": {},
   "source": [
    "### 2.1 One-Way ANOVA"
   ]
  },
  {
   "cell_type": "markdown",
   "metadata": {},
   "source": [
    "#### Data"
   ]
  },
  {
   "cell_type": "code",
   "execution_count": 17,
   "metadata": {},
   "outputs": [],
   "source": [
    "import numpy as np\n",
    "from scipy.stats import norm,f\n",
    "import scipy.stats as stats\n",
    "from matplotlib import pyplot as plt\n",
    "import seaborn as sns\n",
    "%matplotlib inline"
   ]
  },
  {
   "cell_type": "code",
   "execution_count": 18,
   "metadata": {},
   "outputs": [],
   "source": [
    "# We could use a popular available dataset, eg. iris\n",
    "# We have 1 factor: species\n",
    "# We choose a dependent variable, eg, petal_length\n",
    "# We end up having a one-way ANOVA (factor species) with 3 levels (setosa, versicolor, virginica)\n",
    "iris = sns.load_dataset('iris')"
   ]
  },
  {
   "cell_type": "code",
   "execution_count": 19,
   "metadata": {},
   "outputs": [
    {
     "data": {
      "text/plain": [
       "array(['setosa', 'versicolor', 'virginica'], dtype=object)"
      ]
     },
     "execution_count": 19,
     "metadata": {},
     "output_type": "execute_result"
    }
   ],
   "source": [
    "iris['species'].unique()"
   ]
  },
  {
   "cell_type": "code",
   "execution_count": 20,
   "metadata": {},
   "outputs": [
    {
     "data": {
      "text/plain": [
       "<matplotlib.axes._subplots.AxesSubplot at 0x25e0245c6a0>"
      ]
     },
     "execution_count": 20,
     "metadata": {},
     "output_type": "execute_result"
    },
    {
     "data": {
      "image/png": "[encoded data removed]",
      "text/plain": [
       "<Figure size 432x288 with 1 Axes>"
      ]
     },
     "metadata": {
      "needs_background": "light"
     },
     "output_type": "display_data"
    }
   ],
   "source": [
    "sns.histplot(data=iris,x='petal_length',hue='species',bins=30,kde=True)"
   ]
  },
  {
   "cell_type": "code",
   "execution_count": 21,
   "metadata": {},
   "outputs": [],
   "source": [
    "# But I use synthetically generated data\n",
    "# Same pattern: one-way ANOVA with 3 levels\n",
    "N = 100\n",
    "# Gaussian distributed data with mean = 0 and var = 1\n",
    "a = np.random.randn(N)\n",
    "# Gaussian distributed data with with mean = 2 and var = 1\n",
    "b = np.random.randn(N) + 2\n",
    "# Gaussian distributed data with with mean = 4 and var = 1\n",
    "c = np.random.randn(N) + 4"
   ]
  },
  {
   "cell_type": "code",
   "execution_count": 22,
   "metadata": {},
   "outputs": [
    {
     "data": {
      "text/plain": [
       "<matplotlib.axes._subplots.AxesSubplot at 0x25e025fd198>"
      ]
     },
     "execution_count": 22,
     "metadata": {},
     "output_type": "execute_result"
    },
    {
     "data": {
      "image/png": "[encoded data removed]",
      "text/plain": [
       "<Figure size 720x432 with 1 Axes>"
      ]
     },
     "metadata": {
      "needs_background": "light"
     },
     "output_type": "display_data"
    }
   ],
   "source": [
    "plt.figure(figsize=(10,6))\n",
    "sns.histplot(data=a,color='red',kde=True,bins=20)\n",
    "sns.histplot(data=b,color='green',kde=True,bins=20)\n",
    "sns.histplot(data=c,color='blue',kde=True,bins=20)"
   ]
  },
  {
   "cell_type": "markdown",
   "metadata": {},
   "source": [
    "#### Test\n",
    "\n",
    "After we check the assumptions (**normality** and **equal variances**), we can perform the tests."
   ]
  },
  {
   "cell_type": "code",
   "execution_count": 23,
   "metadata": {},
   "outputs": [],
   "source": [
    "import scipy.stats as stats"
   ]
  },
  {
   "cell_type": "code",
   "execution_count": 24,
   "metadata": {},
   "outputs": [],
   "source": [
    "# The one-way ANOVA tests the null hypothesis that two or more groups have the same population mean.\n",
    "# The test is applied to samples from two or more groups, possibly with differing sizes.\n",
    "# Returned: F statistic, p-value\n",
    "# Iff p-value < alpha = 0.05 -> groups are significantly different\n",
    "F, p = stats.f_oneway(a,b,c)"
   ]
  },
  {
   "cell_type": "code",
   "execution_count": 27,
   "metadata": {},
   "outputs": [
    {
     "name": "stdout",
     "output_type": "stream",
     "text": [
      "F = 391.8633782376389, p-value = 4.983345626198808e-84\n"
     ]
    }
   ],
   "source": [
    "print('F = {}, p-value = {}'.format(F,p))"
   ]
  },
  {
   "cell_type": "markdown",
   "metadata": {},
   "source": [
    "#### More Tests: statsmodels\n",
    "\n",
    "The package `statsmodels` provides verz useful resources to obtain more details on the ANOVA.\n",
    "We can also perfor two-way ANOVAs.\n",
    "\n",
    "```bash\n",
    "conda install statsmodels\n",
    "```\n",
    "\n",
    "**Warning:** I have some dependencz issues on my mac."
   ]
  },
  {
   "cell_type": "code",
   "execution_count": 2,
   "metadata": {},
   "outputs": [
    {
     "ename": "ImportError",
     "evalue": "cannot import name 'datetools'",
     "output_type": "error",
     "traceback": [
      "\u001b[0;31m---------------------------------------------------------------------------\u001b[0m",
      "\u001b[0;31mModuleNotFoundError\u001b[0m                       Traceback (most recent call last)",
      "\u001b[0;32m~/anaconda3/lib/python3.6/site-packages/statsmodels/compat/pandas.py\u001b[0m in \u001b[0;36m<module>\u001b[0;34m\u001b[0m\n\u001b[1;32m     52\u001b[0m \u001b[0;32mtry\u001b[0m\u001b[0;34m:\u001b[0m\u001b[0;34m\u001b[0m\u001b[0;34m\u001b[0m\u001b[0m\n\u001b[0;32m---> 53\u001b[0;31m     \u001b[0;32mimport\u001b[0m \u001b[0mpandas\u001b[0m\u001b[0;34m.\u001b[0m\u001b[0mtseries\u001b[0m\u001b[0;34m.\u001b[0m\u001b[0mtools\u001b[0m \u001b[0;32mas\u001b[0m \u001b[0mdatetools\u001b[0m\u001b[0;34m\u001b[0m\u001b[0;34m\u001b[0m\u001b[0m\n\u001b[0m\u001b[1;32m     54\u001b[0m     \u001b[0;32mimport\u001b[0m \u001b[0mpandas\u001b[0m\u001b[0;34m.\u001b[0m\u001b[0mtseries\u001b[0m\u001b[0;34m.\u001b[0m\u001b[0mfrequencies\u001b[0m \u001b[0;32mas\u001b[0m \u001b[0mfrequencies\u001b[0m\u001b[0;34m\u001b[0m\u001b[0;34m\u001b[0m\u001b[0m\n",
      "\u001b[0;31mModuleNotFoundError\u001b[0m: No module named 'pandas.tseries.tools'",
      "\nDuring handling of the above exception, another exception occurred:\n",
      "\u001b[0;31mImportError\u001b[0m                               Traceback (most recent call last)",
      "\u001b[0;32m<ipython-input-2-22766003f56d>\u001b[0m in \u001b[0;36m<module>\u001b[0;34m\u001b[0m\n\u001b[1;32m      1\u001b[0m \u001b[0;32mimport\u001b[0m \u001b[0mpandas\u001b[0m \u001b[0;32mas\u001b[0m \u001b[0mpd\u001b[0m\u001b[0;34m\u001b[0m\u001b[0;34m\u001b[0m\u001b[0m\n\u001b[0;32m----> 2\u001b[0;31m \u001b[0;32mimport\u001b[0m \u001b[0mstatsmodels\u001b[0m\u001b[0;34m.\u001b[0m\u001b[0mapi\u001b[0m \u001b[0;32mas\u001b[0m \u001b[0msm\u001b[0m\u001b[0;34m\u001b[0m\u001b[0;34m\u001b[0m\u001b[0m\n\u001b[0m\u001b[1;32m      3\u001b[0m \u001b[0;32mfrom\u001b[0m \u001b[0mstatsmodels\u001b[0m\u001b[0;34m.\u001b[0m\u001b[0mformula\u001b[0m\u001b[0;34m.\u001b[0m\u001b[0mapi\u001b[0m \u001b[0;32mimport\u001b[0m \u001b[0mols\u001b[0m\u001b[0;34m\u001b[0m\u001b[0;34m\u001b[0m\u001b[0m\n",
      "\u001b[0;32m~/anaconda3/lib/python3.6/site-packages/statsmodels/api.py\u001b[0m in \u001b[0;36m<module>\u001b[0;34m\u001b[0m\n\u001b[1;32m      5\u001b[0m \u001b[0;32mfrom\u001b[0m \u001b[0;34m.\u001b[0m \u001b[0;32mimport\u001b[0m \u001b[0mregression\u001b[0m\u001b[0;34m\u001b[0m\u001b[0;34m\u001b[0m\u001b[0m\n\u001b[1;32m      6\u001b[0m \u001b[0;32mfrom\u001b[0m \u001b[0;34m.\u001b[0m\u001b[0mregression\u001b[0m\u001b[0;34m.\u001b[0m\u001b[0mlinear_model\u001b[0m \u001b[0;32mimport\u001b[0m \u001b[0mOLS\u001b[0m\u001b[0;34m,\u001b[0m \u001b[0mGLS\u001b[0m\u001b[0;34m,\u001b[0m \u001b[0mWLS\u001b[0m\u001b[0;34m,\u001b[0m \u001b[0mGLSAR\u001b[0m\u001b[0;34m\u001b[0m\u001b[0;34m\u001b[0m\u001b[0m\n\u001b[0;32m----> 7\u001b[0;31m \u001b[0;32mfrom\u001b[0m \u001b[0;34m.\u001b[0m\u001b[0mregression\u001b[0m\u001b[0;34m.\u001b[0m\u001b[0mrecursive_ls\u001b[0m \u001b[0;32mimport\u001b[0m \u001b[0mRecursiveLS\u001b[0m\u001b[0;34m\u001b[0m\u001b[0;34m\u001b[0m\u001b[0m\n\u001b[0m\u001b[1;32m      8\u001b[0m \u001b[0;32mfrom\u001b[0m \u001b[0;34m.\u001b[0m\u001b[0mregression\u001b[0m\u001b[0;34m.\u001b[0m\u001b[0mquantile_regression\u001b[0m \u001b[0;32mimport\u001b[0m \u001b[0mQuantReg\u001b[0m\u001b[0;34m\u001b[0m\u001b[0;34m\u001b[0m\u001b[0m\n\u001b[1;32m      9\u001b[0m \u001b[0;32mfrom\u001b[0m \u001b[0;34m.\u001b[0m\u001b[0mregression\u001b[0m\u001b[0;34m.\u001b[0m\u001b[0mmixed_linear_model\u001b[0m \u001b[0;32mimport\u001b[0m \u001b[0mMixedLM\u001b[0m\u001b[0;34m\u001b[0m\u001b[0;34m\u001b[0m\u001b[0m\n",
      "\u001b[0;32m~/anaconda3/lib/python3.6/site-packages/statsmodels/regression/recursive_ls.py\u001b[0m in \u001b[0;36m<module>\u001b[0;34m\u001b[0m\n\u001b[1;32m     14\u001b[0m \u001b[0;32mfrom\u001b[0m \u001b[0mstatsmodels\u001b[0m\u001b[0;34m.\u001b[0m\u001b[0mregression\u001b[0m\u001b[0;34m.\u001b[0m\u001b[0mlinear_model\u001b[0m \u001b[0;32mimport\u001b[0m \u001b[0mOLS\u001b[0m\u001b[0;34m\u001b[0m\u001b[0;34m\u001b[0m\u001b[0m\n\u001b[1;32m     15\u001b[0m \u001b[0;32mfrom\u001b[0m \u001b[0mstatsmodels\u001b[0m\u001b[0;34m.\u001b[0m\u001b[0mtools\u001b[0m\u001b[0;34m.\u001b[0m\u001b[0mdata\u001b[0m \u001b[0;32mimport\u001b[0m \u001b[0m_is_using_pandas\u001b[0m\u001b[0;34m\u001b[0m\u001b[0;34m\u001b[0m\u001b[0m\n\u001b[0;32m---> 16\u001b[0;31m from statsmodels.tsa.statespace.mlemodel import (\n\u001b[0m\u001b[1;32m     17\u001b[0m     MLEModel, MLEResults, MLEResultsWrapper)\n\u001b[1;32m     18\u001b[0m \u001b[0;32mfrom\u001b[0m \u001b[0mstatsmodels\u001b[0m\u001b[0;34m.\u001b[0m\u001b[0mtools\u001b[0m\u001b[0;34m.\u001b[0m\u001b[0mtools\u001b[0m \u001b[0;32mimport\u001b[0m \u001b[0mBunch\u001b[0m\u001b[0;34m\u001b[0m\u001b[0;34m\u001b[0m\u001b[0m\n",
      "\u001b[0;32m~/anaconda3/lib/python3.6/site-packages/statsmodels/tsa/statespace/mlemodel.py\u001b[0m in \u001b[0;36m<module>\u001b[0;34m\u001b[0m\n\u001b[1;32m     15\u001b[0m from .kalman_filter import (KalmanFilter, FilterResults, INVERT_UNIVARIATE,\n\u001b[1;32m     16\u001b[0m                             SOLVE_LU)\n\u001b[0;32m---> 17\u001b[0;31m \u001b[0;32mimport\u001b[0m \u001b[0mstatsmodels\u001b[0m\u001b[0;34m.\u001b[0m\u001b[0mtsa\u001b[0m\u001b[0;34m.\u001b[0m\u001b[0mbase\u001b[0m\u001b[0;34m.\u001b[0m\u001b[0mtsa_model\u001b[0m \u001b[0;32mas\u001b[0m \u001b[0mtsbase\u001b[0m\u001b[0;34m\u001b[0m\u001b[0;34m\u001b[0m\u001b[0m\n\u001b[0m\u001b[1;32m     18\u001b[0m \u001b[0;32mimport\u001b[0m \u001b[0mstatsmodels\u001b[0m\u001b[0;34m.\u001b[0m\u001b[0mbase\u001b[0m\u001b[0;34m.\u001b[0m\u001b[0mwrapper\u001b[0m \u001b[0;32mas\u001b[0m \u001b[0mwrap\u001b[0m\u001b[0;34m\u001b[0m\u001b[0;34m\u001b[0m\u001b[0m\n\u001b[1;32m     19\u001b[0m from statsmodels.tools.numdiff import (_get_epsilon, approx_hess_cs,\n",
      "\u001b[0;32m~/anaconda3/lib/python3.6/site-packages/statsmodels/tsa/base/tsa_model.py\u001b[0m in \u001b[0;36m<module>\u001b[0;34m\u001b[0m\n\u001b[1;32m      1\u001b[0m \u001b[0;32mfrom\u001b[0m \u001b[0mstatsmodels\u001b[0m\u001b[0;34m.\u001b[0m\u001b[0mcompat\u001b[0m\u001b[0;34m.\u001b[0m\u001b[0mpython\u001b[0m \u001b[0;32mimport\u001b[0m \u001b[0mlrange\u001b[0m\u001b[0;34m,\u001b[0m \u001b[0mlong\u001b[0m\u001b[0;34m\u001b[0m\u001b[0;34m\u001b[0m\u001b[0m\n\u001b[0;32m----> 2\u001b[0;31m \u001b[0;32mfrom\u001b[0m \u001b[0mstatsmodels\u001b[0m\u001b[0;34m.\u001b[0m\u001b[0mcompat\u001b[0m\u001b[0;34m.\u001b[0m\u001b[0mpandas\u001b[0m \u001b[0;32mimport\u001b[0m \u001b[0mis_numeric_dtype\u001b[0m\u001b[0;34m\u001b[0m\u001b[0;34m\u001b[0m\u001b[0m\n\u001b[0m\u001b[1;32m      3\u001b[0m \u001b[0;34m\u001b[0m\u001b[0m\n\u001b[1;32m      4\u001b[0m \u001b[0;32mimport\u001b[0m \u001b[0mdatetime\u001b[0m\u001b[0;34m\u001b[0m\u001b[0;34m\u001b[0m\u001b[0m\n\u001b[1;32m      5\u001b[0m \u001b[0;34m\u001b[0m\u001b[0m\n",
      "\u001b[0;32m~/anaconda3/lib/python3.6/site-packages/statsmodels/compat/pandas.py\u001b[0m in \u001b[0;36m<module>\u001b[0;34m\u001b[0m\n\u001b[1;32m     54\u001b[0m     \u001b[0;32mimport\u001b[0m \u001b[0mpandas\u001b[0m\u001b[0;34m.\u001b[0m\u001b[0mtseries\u001b[0m\u001b[0;34m.\u001b[0m\u001b[0mfrequencies\u001b[0m \u001b[0;32mas\u001b[0m \u001b[0mfrequencies\u001b[0m\u001b[0;34m\u001b[0m\u001b[0;34m\u001b[0m\u001b[0m\n\u001b[1;32m     55\u001b[0m \u001b[0;32mexcept\u001b[0m \u001b[0mImportError\u001b[0m\u001b[0;34m:\u001b[0m\u001b[0;34m\u001b[0m\u001b[0;34m\u001b[0m\u001b[0m\n\u001b[0;32m---> 56\u001b[0;31m     \u001b[0;32mfrom\u001b[0m \u001b[0mpandas\u001b[0m\u001b[0;34m.\u001b[0m\u001b[0mcore\u001b[0m \u001b[0;32mimport\u001b[0m \u001b[0mdatetools\u001b[0m\u001b[0;34m\u001b[0m\u001b[0;34m\u001b[0m\u001b[0m\n\u001b[0m\u001b[1;32m     57\u001b[0m     \u001b[0mfrequencies\u001b[0m \u001b[0;34m=\u001b[0m \u001b[0mdatetools\u001b[0m\u001b[0;34m\u001b[0m\u001b[0;34m\u001b[0m\u001b[0m\n",
      "\u001b[0;31mImportError\u001b[0m: cannot import name 'datetools'"
     ]
    }
   ],
   "source": [
    "import pandas as pd\n",
    "import statsmodels.api as sm\n",
    "from statsmodels.formula.api import ols"
   ]
  },
  {
   "cell_type": "code",
   "execution_count": 101,
   "metadata": {},
   "outputs": [],
   "source": [
    "# We need to create a data dataframe with the data\n",
    "columns = ['target']\n",
    "dfa = pd.DataFrame(a,columns=columns)\n",
    "dfa['type'] = 'a'\n",
    "dfb = pd.DataFrame(b,columns=columns)\n",
    "dfb['type'] = 'b'\n",
    "dfc = pd.DataFrame(c,columns=columns)\n",
    "dfc['type'] = 'c'\n",
    "df = pd.concat([dfa,dfb,dfc],axis=0)\n",
    "#df.reset_index()"
   ]
  },
  {
   "cell_type": "code",
   "execution_count": 102,
   "metadata": {},
   "outputs": [],
   "source": [
    "# Statsmodels takes formulas in R style: 'target ~ variable1 + variable2 + variable1*variable2'\n",
    "# variable1*variable2 accounts for the interaction component\n",
    "# string variables are treated automatically as cetegorical values;\n",
    "# if we have integers that should be categorical, we use them in the formula with C():\n",
    "# C(variable1)\n",
    "# OLS: Ordinary Least Squares\n",
    "# OLS performs also an ANOVA: Dfs, F-statistic, Prob(F), etc. are listed!\n",
    "model = ols('target ~ type',data=df)\n",
    "results = model.fit()"
   ]
  },
  {
   "cell_type": "code",
   "execution_count": 103,
   "metadata": {},
   "outputs": [
    {
     "name": "stdout",
     "output_type": "stream",
     "text": [
      "                            OLS Regression Results                            \n",
      "==============================================================================\n",
      "Dep. Variable:                 target   R-squared:                       0.725\n",
      "Model:                            OLS   Adj. R-squared:                  0.723\n",
      "Method:                 Least Squares   F-statistic:                     391.9\n",
      "Date:                Tue, 16 Feb 2021   Prob (F-statistic):           4.98e-84\n",
      "Time:                        17:47:23   Log-Likelihood:                -428.31\n",
      "No. Observations:                 300   AIC:                             862.6\n",
      "Df Residuals:                     297   BIC:                             873.7\n",
      "Df Model:                           2                                         \n",
      "Covariance Type:            nonrobust                                         \n",
      "==============================================================================\n",
      "                 coef    std err          t      P>|t|      [0.025      0.975]\n",
      "------------------------------------------------------------------------------\n",
      "Intercept     -0.0128      0.101     -0.126      0.899      -0.212       0.187\n",
      "type[T.b]      2.0765      0.143     14.482      0.000       1.794       2.359\n",
      "type[T.c]      4.0133      0.143     27.989      0.000       3.731       4.295\n",
      "==============================================================================\n",
      "Omnibus:                        1.788   Durbin-Watson:                   2.162\n",
      "Prob(Omnibus):                  0.409   Jarque-Bera (JB):                1.513\n",
      "Skew:                           0.110   Prob(JB):                        0.469\n",
      "Kurtosis:                       3.269   Cond. No.                         3.73\n",
      "==============================================================================\n",
      "\n",
      "Notes:\n",
      "[1] Standard Errors assume that the covariance matrix of the errors is correctly specified.\n"
     ]
    }
   ],
   "source": [
    "print(results.summary())"
   ]
  },
  {
   "cell_type": "markdown",
   "metadata": {},
   "source": [
    "Some intepretation hints of the `results.summary()` table:\n",
    "- Durbin-Watson (DB) checks whether errors are normally distributed with mean 0 and statationary; DB should be in [1.5, 2.5]\n",
    "- The column `coef` contains the\n",
    "    - intercept: mean of our first condition `a`\n",
    "    - the difference to add of each additional condition to obtain its mean: mean(b) = coef(a) + coef(b)"
   ]
  },
  {
   "cell_type": "code",
   "execution_count": 104,
   "metadata": {},
   "outputs": [
    {
     "name": "stdout",
     "output_type": "stream",
     "text": [
      "              sum_sq     df           F        PR(>F)\n",
      "type      805.655509    2.0  391.863378  4.983346e-84\n",
      "Residual  305.310089  297.0         NaN           NaN\n"
     ]
    }
   ],
   "source": [
    "# With the results, we can obtain the ANOVA table too\n",
    "# F-statistic = variance between groups / variance within groups\n",
    "# Variance Between: Mean Squared Between = MSB / (k-1)\n",
    "# Variance Within: Mean Squared Error = MSE / (N-k)\n",
    "# MSB = sum of the squared error between each group mean and the overall mean\n",
    "# MSE = sum of the squared error between each observation and its own group mean\n",
    "# k = number of groups (degrees of freedom)\n",
    "# N = number of observations\n",
    "# -- In our example\n",
    "# MSB = sum_sq type / df groups\n",
    "# MSE = sum_sq Residual / df observations\n",
    "aov_table = sm.stats.anova_lm(results, typ=2)\n",
    "print(aov_table)"
   ]
  },
  {
   "cell_type": "markdown",
   "metadata": {},
   "source": [
    "### 2.2 Post-hoc Analysis: Tukey Honestly Significant Difference (HSD)"
   ]
  },
  {
   "cell_type": "code",
   "execution_count": 106,
   "metadata": {},
   "outputs": [],
   "source": [
    "from statsmodels.stats.multicomp import pairwise_tukeyhsd"
   ]
  },
  {
   "cell_type": "code",
   "execution_count": 109,
   "metadata": {},
   "outputs": [
    {
     "name": "stdout",
     "output_type": "stream",
     "text": [
      "Multiple Comparison of Means - Tukey HSD, FWER=0.05\n",
      "=================================================\n",
      "group1 group2 meandiff p-adj lower  upper  reject\n",
      "-------------------------------------------------\n",
      "     a      b   2.0765 0.001 1.7388 2.4143   True\n",
      "     a      c   4.0133 0.001 3.6755 4.3511   True\n",
      "     b      c   1.9368 0.001  1.599 2.2745   True\n",
      "-------------------------------------------------\n"
     ]
    }
   ],
   "source": [
    "# Tukey HSD can be used only when a factor is significant\n",
    "# In that case, we compare whether there are differences between the levels or groups in the factor\n",
    "# Another option would be using the Bonferroni correction, but Bonferroni is more conservative, thus less powerful\n",
    "# Tukey uses as H0 that the means of level pairs are the same\n",
    "# Thus, if a pair has 'rejecet = True', their means are different!\n",
    "tukey = pairwise_tukeyhsd(df['target'],df['type'],alpha=0.05)\n",
    "print(tukey)"
   ]
  },
  {
   "cell_type": "markdown",
   "metadata": {},
   "source": [
    "### 2.3 Plotting the F Distribution"
   ]
  },
  {
   "cell_type": "markdown",
   "metadata": {},
   "source": [
    "#### Shape of the F Distribution Depending on Its dfs"
   ]
  },
  {
   "cell_type": "code",
   "execution_count": 27,
   "metadata": {},
   "outputs": [],
   "source": [
    "from scipy.stats import f, norm"
   ]
  },
  {
   "cell_type": "code",
   "execution_count": 28,
   "metadata": {},
   "outputs": [],
   "source": [
    "df1_values = [2, 5, 10]\n",
    "df2_values = [10, 20, 100]\n",
    "linecolors = ['red', 'green', 'blue']\n",
    "x = np.linspace(0.01, 10, 100)"
   ]
  },
  {
   "cell_type": "code",
   "execution_count": 29,
   "metadata": {},
   "outputs": [
    {
     "data": {
      "text/plain": [
       "<matplotlib.legend.Legend at 0x7fd1b2eb8f28>"
      ]
     },
     "execution_count": 29,
     "metadata": {},
     "output_type": "execute_result"
    },
    {
     "data": {
      "image/png": "[encoded data removed]",
      "text/plain": [
       "<Figure size 720x576 with 1 Axes>"
      ]
     },
     "metadata": {
      "needs_background": "light"
     },
     "output_type": "display_data"
    }
   ],
   "source": [
    "fig, ax = plt.subplots(figsize=(10, 8))\n",
    "for (df1, df2, lc) in zip(df1_values, df2_values, linecolors):\n",
    "    dist = f(df1, df2)\n",
    "    plt.plot(x, dist.pdf(x), color=lc, label='$df1={},\\ df2={}$'.format(df1, df2))\n",
    "plt.xlabel('$X=f$')\n",
    "plt.ylabel('$p(X|df1, df2)$')\n",
    "plt.title('F Distribution')\n",
    "plt.legend()"
   ]
  },
  {
   "cell_type": "markdown",
   "metadata": {},
   "source": [
    "#### Critical F"
   ]
  },
  {
   "cell_type": "code",
   "execution_count": 61,
   "metadata": {},
   "outputs": [],
   "source": [
    "def plot_f_critical(df1,df2,alpha=0.05):\n",
    "    # Set figure \n",
    "    plt.figure(figsize=(8, 4))\n",
    "    # T distribution with df\n",
    "    dist = f(df1,df2)\n",
    "    # f range (x)\n",
    "    x = np.linspace(dist.ppf(0.0001), dist.ppf(0.9999), 100)\n",
    "    # Critical value; PPF is the inverse of CDF\n",
    "    f_crit = dist.ppf(1-alpha)\n",
    "    # Plot values\n",
    "    plt.plot(x, dist.pdf(x), alpha=0.6, label=' X ~ F({},{})'.format(df1,df2))\n",
    "    plt.vlines(f_crit, 0.0, 1.0, color='red', linestyles=\"dashdot\", label=\"Crit. Value: {:.2f}\\nalpha: {:.2f}\".format(f_crit,alpha))\n",
    "    plt.legend()\n",
    "    plt.title('F-Distribution, df1 = {}, df2 = {}'.format(df1,df2))\n",
    "    plt.xlabel('X=f')"
   ]
  },
  {
   "cell_type": "code",
   "execution_count": 62,
   "metadata": {},
   "outputs": [],
   "source": [
    "# df1 = groups = 3 = k\n",
    "# df2 = observations = sum(n-1) = N - k\n",
    "df1 = 3\n",
    "df2 = len(a) + len(b) + len(c) - df1"
   ]
  },
  {
   "cell_type": "code",
   "execution_count": 63,
   "metadata": {},
   "outputs": [
    {
     "data": {
      "image/png": "[encoded data removed]",
      "text/plain": [
       "<Figure size 576x288 with 1 Axes>"
      ]
     },
     "metadata": {
      "needs_background": "light"
     },
     "output_type": "display_data"
    }
   ],
   "source": [
    "plot_f_critical(df1,df2)"
   ]
  },
  {
   "cell_type": "markdown",
   "metadata": {},
   "source": [
    "### 2.4 Two-Way ANOVA\n",
    "\n",
    "The procedure is equivalent, but we use the `statsmodels` package."
   ]
  },
  {
   "cell_type": "code",
   "execution_count": 86,
   "metadata": {},
   "outputs": [],
   "source": [
    "import pandas as pd\n",
    "import statsmodels.api as sm\n",
    "from statsmodels.formula.api import ols"
   ]
  },
  {
   "cell_type": "code",
   "execution_count": 87,
   "metadata": {},
   "outputs": [],
   "source": [
    "# Synthetic data\n",
    "# 2 factors, 2 levels each\n",
    "# Factor1: a, b\n",
    "# Factor2: 1, 2\n",
    "N = 100\n",
    "# Gaussian distributed data with mean = 0 and var = 1\n",
    "a1 = np.random.randn(N)\n",
    "# Gaussian distributed data with with mean = 2 and var = 1\n",
    "a2 = np.random.randn(N) + 2\n",
    "# Gaussian distributed data with with mean = 4 and var = 1\n",
    "b1 = np.random.randn(N) + 4\n",
    "# Gaussian distributed data with with mean = 6 and var = 1\n",
    "b2 = np.random.randn(N) + 6"
   ]
  },
  {
   "cell_type": "code",
   "execution_count": 88,
   "metadata": {},
   "outputs": [],
   "source": [
    "# We need to create a data dataframe with the data\n",
    "columns = ['Measurement']\n",
    "dfa1 = pd.DataFrame(a1,columns=columns)\n",
    "dfa1['Factor1'] = 'a'\n",
    "dfa1['Factor2'] = '1'\n",
    "dfa2 = pd.DataFrame(a2,columns=columns)\n",
    "dfa2['Factor1'] = 'a'\n",
    "dfa2['Factor2'] = '2'\n",
    "dfb1 = pd.DataFrame(b1,columns=columns)\n",
    "dfb1['Factor1'] = 'b'\n",
    "dfb1['Factor2'] = '1'\n",
    "dfb2 = pd.DataFrame(b2,columns=columns)\n",
    "dfb2['Factor1'] = 'b'\n",
    "dfb2['Factor2'] = '2'\n",
    "df = pd.concat([dfa1,dfa2,dfb1,dfb2],axis=0)\n",
    "#df.reset_index()"
   ]
  },
  {
   "cell_type": "code",
   "execution_count": 89,
   "metadata": {},
   "outputs": [
    {
     "data": {
      "text/html": [
       "<div>\n",
       "<style scoped>\n",
       "    .dataframe tbody tr th:only-of-type {\n",
       "        vertical-align: middle;\n",
       "    }\n",
       "\n",
       "    .dataframe tbody tr th {\n",
       "        vertical-align: top;\n",
       "    }\n",
       "\n",
       "    .dataframe thead th {\n",
       "        text-align: right;\n",
       "    }\n",
       "</style>\n",
       "<table border=\"1\" class=\"dataframe\">\n",
       "  <thead>\n",
       "    <tr style=\"text-align: right;\">\n",
       "      <th></th>\n",
       "      <th>Measurement</th>\n",
       "      <th>Factor1</th>\n",
       "      <th>Factor2</th>\n",
       "    </tr>\n",
       "  </thead>\n",
       "  <tbody>\n",
       "    <tr>\n",
       "      <th>0</th>\n",
       "      <td>-1.007363</td>\n",
       "      <td>a</td>\n",
       "      <td>1</td>\n",
       "    </tr>\n",
       "    <tr>\n",
       "      <th>1</th>\n",
       "      <td>0.093136</td>\n",
       "      <td>a</td>\n",
       "      <td>1</td>\n",
       "    </tr>\n",
       "    <tr>\n",
       "      <th>2</th>\n",
       "      <td>-0.393508</td>\n",
       "      <td>a</td>\n",
       "      <td>1</td>\n",
       "    </tr>\n",
       "    <tr>\n",
       "      <th>3</th>\n",
       "      <td>0.965901</td>\n",
       "      <td>a</td>\n",
       "      <td>1</td>\n",
       "    </tr>\n",
       "    <tr>\n",
       "      <th>4</th>\n",
       "      <td>-0.034732</td>\n",
       "      <td>a</td>\n",
       "      <td>1</td>\n",
       "    </tr>\n",
       "  </tbody>\n",
       "</table>\n",
       "</div>"
      ],
      "text/plain": [
       "   Measurement Factor1 Factor2\n",
       "0    -1.007363       a       1\n",
       "1     0.093136       a       1\n",
       "2    -0.393508       a       1\n",
       "3     0.965901       a       1\n",
       "4    -0.034732       a       1"
      ]
     },
     "execution_count": 89,
     "metadata": {},
     "output_type": "execute_result"
    }
   ],
   "source": [
    "df.head()"
   ]
  },
  {
   "cell_type": "code",
   "execution_count": 93,
   "metadata": {},
   "outputs": [],
   "source": [
    "# Statsmodels takes formulas in R style: 'target ~ variable1 + variable2 + variable1*variable2'\n",
    "# variable1*variable2 accounts for the interaction component\n",
    "# string variables are treated automatically as cetegorical values;\n",
    "# if we have integers that should be categorical, we use them in the formula with C():\n",
    "# C(variable1)\n",
    "# OLS: Ordinary Least Squares\n",
    "# OLS performs also an ANOVA: Dfs, F-statistic, Prob(F), etc. are listed!\n",
    "model = ols('Measurement ~ Factor1 + Factor2 + Factor1*Factor2',data=df)\n",
    "results = model.fit()"
   ]
  },
  {
   "cell_type": "code",
   "execution_count": 94,
   "metadata": {},
   "outputs": [
    {
     "name": "stdout",
     "output_type": "stream",
     "text": [
      "                            OLS Regression Results                            \n",
      "==============================================================================\n",
      "Dep. Variable:            Measurement   R-squared:                       0.835\n",
      "Model:                            OLS   Adj. R-squared:                  0.834\n",
      "Method:                 Least Squares   F-statistic:                     666.9\n",
      "Date:                Tue, 16 Feb 2021   Prob (F-statistic):          2.18e-154\n",
      "Time:                        16:35:33   Log-Likelihood:                -583.57\n",
      "No. Observations:                 400   AIC:                             1175.\n",
      "Df Residuals:                     396   BIC:                             1191.\n",
      "Df Model:                           3                                         \n",
      "Covariance Type:            nonrobust                                         \n",
      "=============================================================================================\n",
      "                                coef    std err          t      P>|t|      [0.025      0.975]\n",
      "---------------------------------------------------------------------------------------------\n",
      "Intercept                    -0.1168      0.105     -1.117      0.265      -0.322       0.089\n",
      "Factor1[T.b]                  4.1345      0.148     27.948      0.000       3.844       4.425\n",
      "Factor2[T.2]                  2.1405      0.148     14.469      0.000       1.850       2.431\n",
      "Factor1[T.b]:Factor2[T.2]     0.0345      0.209      0.165      0.869      -0.377       0.446\n",
      "==============================================================================\n",
      "Omnibus:                        1.201   Durbin-Watson:                   2.149\n",
      "Prob(Omnibus):                  0.548   Jarque-Bera (JB):                1.264\n",
      "Skew:                           0.082   Prob(JB):                        0.531\n",
      "Kurtosis:                       2.779   Cond. No.                         6.85\n",
      "==============================================================================\n",
      "\n",
      "Notes:\n",
      "[1] Standard Errors assume that the covariance matrix of the errors is correctly specified.\n"
     ]
    }
   ],
   "source": [
    "print(results.summary())"
   ]
  },
  {
   "cell_type": "code",
   "execution_count": 95,
   "metadata": {},
   "outputs": [
    {
     "name": "stdout",
     "output_type": "stream",
     "text": [
      "                      sum_sq     df            F         PR(>F)\n",
      "Factor1          1723.714823    1.0  1575.281278  4.311856e-140\n",
      "Factor2           465.595686    1.0   425.502037   9.903696e-65\n",
      "Factor1:Factor2     0.029839    1.0     0.027270   8.689215e-01\n",
      "Residual          433.313770  396.0          NaN            NaN\n"
     ]
    }
   ],
   "source": [
    "# With the results, we can obtain the ANOVA table too\n",
    "# F-statistic = variance between groups / variance within groups\n",
    "# Variance Between: Mean Squared Between = MSB / (k-1)\n",
    "# Variance Within: Mean Squared Error = MSE / (N-k)\n",
    "# MSB = sum of the squared error between each group mean and the overall mean\n",
    "# MSE = sum of the squared error between each observation and its own group mean\n",
    "# k = number of groups (degrees of freedom)\n",
    "# N = number of observations\n",
    "# -- In our example\n",
    "# MSB = sum_sq Factor / df groups\n",
    "# MSE = sum_sq Residual / df observations\n",
    "aov_table = sm.stats.anova_lm(results, typ=2)\n",
    "print(aov_table)"
   ]
  },
  {
   "cell_type": "markdown",
   "metadata": {},
   "source": [
    "## 3. Goodness of Fit"
   ]
  },
  {
   "cell_type": "markdown",
   "metadata": {},
   "source": [
    "## 4. Acceptance sampling"
   ]
  },
  {
   "cell_type": "markdown",
   "metadata": {},
   "source": [
    "## 5. Correlation"
   ]
  },
  {
   "cell_type": "markdown",
   "metadata": {},
   "source": [
    "## 6. Assumption Checks"
   ]
  },
  {
   "cell_type": "markdown",
   "metadata": {},
   "source": [
    "### 6.1 Normality\n",
    "\n",
    "Normality is assumed by\n",
    "- T tests\n",
    "- ANOVA\n",
    "\n",
    "It can be visually inspected using QQ plots or with normality tests."
   ]
  },
  {
   "cell_type": "code",
   "execution_count": 57,
   "metadata": {},
   "outputs": [],
   "source": [
    "# Sythetic measurements\n",
    "N = 50\n",
    "# Gaussian distributed data with mean = 2 and var = 1\n",
    "a = np.random.randn(N) + 2\n",
    "# Gaussian distributed data with with mean = 0 and var = 1\n",
    "b = np.random.randn(N)"
   ]
  },
  {
   "cell_type": "markdown",
   "metadata": {},
   "source": [
    "#### Boxplots and Histograms\n",
    "\n",
    "It always makes sense plotting histograms and boxplots."
   ]
  },
  {
   "cell_type": "code",
   "execution_count": 61,
   "metadata": {},
   "outputs": [
    {
     "data": {
      "text/plain": [
       "<AxesSubplot:ylabel='Count'>"
      ]
     },
     "execution_count": 61,
     "metadata": {},
     "output_type": "execute_result"
    },
    {
     "data": {
      "image/png": "[encoded data removed]",
      "text/plain": [
       "<Figure size 720x432 with 1 Axes>"
      ]
     },
     "metadata": {
      "needs_background": "light"
     },
     "output_type": "display_data"
    }
   ],
   "source": [
    "plt.figure(figsize=(10,6))\n",
    "sns.histplot(data=a,color='red',kde=True,bins=20)\n",
    "sns.histplot(data=b,color='green',kde=True,bins=20)"
   ]
  },
  {
   "cell_type": "code",
   "execution_count": 74,
   "metadata": {},
   "outputs": [
    {
     "data": {
      "image/png": "[encoded data removed]",
      "text/plain": [
       "<Figure size 504x360 with 1 Axes>"
      ]
     },
     "metadata": {
      "needs_background": "light"
     },
     "output_type": "display_data"
    }
   ],
   "source": [
    "plt.figure(figsize=(7,5))\n",
    "plt.boxplot((a,b),labels=['a','b'])\n",
    "plt.show()"
   ]
  },
  {
   "cell_type": "markdown",
   "metadata": {},
   "source": [
    "#### QQ Plots"
   ]
  },
  {
   "cell_type": "markdown",
   "metadata": {},
   "source": [
    "In QQ or quantile-quantile plots data points x_i are ordered and their quantile q_i is computed according to their ordered position. Then the z_i statistic (the variable of the normal distribution) of each q_i computed.\n",
    "Finally, z_i vs x_i is plotted in a scatterplot.\n",
    "**Ideally all points should lie in the central line.**\n",
    "\n",
    "**Important note**: we can use any comparison distribution, not only the normal with z; this way, we can visually inspect how well our data fits any given distribution."
   ]
  },
  {
   "cell_type": "code",
   "execution_count": 91,
   "metadata": {},
   "outputs": [],
   "source": [
    "from matplotlib import pyplot as plt\n",
    "import numpy as np \n",
    "import scipy.stats as stats\n",
    "%matplotlib inline"
   ]
  },
  {
   "cell_type": "code",
   "execution_count": 92,
   "metadata": {},
   "outputs": [
    {
     "data": {
      "image/png": "[encoded data removed]",
      "text/plain": [
       "<Figure size 432x288 with 1 Axes>"
      ]
     },
     "metadata": {
      "needs_background": "light"
     },
     "output_type": "display_data"
    }
   ],
   "source": [
    "stats.probplot(a, dist=\"norm\", plot=plt)\n",
    "plt.title('QQ plot of a against normal distribution')\n",
    "plt.show()"
   ]
  },
  {
   "cell_type": "code",
   "execution_count": 93,
   "metadata": {},
   "outputs": [
    {
     "data": {
      "image/png": "[encoded data removed]",
      "text/plain": [
       "<Figure size 432x288 with 1 Axes>"
      ]
     },
     "metadata": {
      "needs_background": "light"
     },
     "output_type": "display_data"
    }
   ],
   "source": [
    "stats.probplot(b, dist=\"norm\", plot=plt)\n",
    "plt.title('QQ plot of b against normal distribution')\n",
    "plt.show()"
   ]
  },
  {
   "cell_type": "markdown",
   "metadata": {},
   "source": [
    "#### Shapiro-Wilk Normality Test\n",
    "\n",
    "The Shapiro-Wilk test tests the null hypothesis that the data was drawn from a normal distribution."
   ]
  },
  {
   "cell_type": "code",
   "execution_count": 89,
   "metadata": {},
   "outputs": [],
   "source": [
    "# The Shapiro-Wilk test tests the null hypothesis that the data was drawn from a normal distribution.\n",
    "# Since H0 is normality, in contrast to other tests, here normality is rejected iff p < 0.05\n",
    "# Statistic W and p returned\n",
    "W, p = stats.shapiro(a)"
   ]
  },
  {
   "cell_type": "code",
   "execution_count": 90,
   "metadata": {},
   "outputs": [
    {
     "name": "stdout",
     "output_type": "stream",
     "text": [
      "Shapiro-Wilk W, p = 0.9807938933372498, 0.5858984589576721\n"
     ]
    }
   ],
   "source": [
    "print('Shapiro-Wilk W, p = {}, {}'.format(W,p))"
   ]
  },
  {
   "cell_type": "code",
   "execution_count": null,
   "metadata": {},
   "outputs": [],
   "source": []
  },
  {
   "cell_type": "code",
   "execution_count": null,
   "metadata": {},
   "outputs": [],
   "source": []
  },
  {
   "cell_type": "code",
   "execution_count": null,
   "metadata": {},
   "outputs": [],
   "source": []
  },
  {
   "cell_type": "code",
   "execution_count": null,
   "metadata": {},
   "outputs": [],
   "source": []
  },
  {
   "cell_type": "markdown",
   "metadata": {},
   "source": [
    "### 6.2 Homoscedaticity = Equal Variances\n",
    "\n",
    "The assumption of equal variances is done by ANOVA tests."
   ]
  },
  {
   "cell_type": "code",
   "execution_count": 128,
   "metadata": {},
   "outputs": [],
   "source": [
    "# Sythetic measurements\n",
    "N = 50\n",
    "# Gaussian distributed data with mean = 0 and var = 1\n",
    "a = np.random.randn(N)\n",
    "# Gaussian distributed data with with mean = 2 and var = 1\n",
    "b = np.random.randn(N) + 2\n",
    "# Gaussian distributed data with with mean = 4 and var = 1\n",
    "c = np.random.randn(N) + 4"
   ]
  },
  {
   "cell_type": "markdown",
   "metadata": {},
   "source": [
    "#### Rule of Thumb Variance Check"
   ]
  },
  {
   "cell_type": "code",
   "execution_count": 122,
   "metadata": {},
   "outputs": [
    {
     "data": {
      "text/plain": [
       "0.97200725011461"
      ]
     },
     "execution_count": 122,
     "metadata": {},
     "output_type": "execute_result"
    }
   ],
   "source": [
    "a.var()"
   ]
  },
  {
   "cell_type": "code",
   "execution_count": 123,
   "metadata": {},
   "outputs": [
    {
     "data": {
      "text/plain": [
       "0.8475387096724285"
      ]
     },
     "execution_count": 123,
     "metadata": {},
     "output_type": "execute_result"
    }
   ],
   "source": [
    "b.var()"
   ]
  },
  {
   "cell_type": "code",
   "execution_count": 124,
   "metadata": {},
   "outputs": [
    {
     "data": {
      "text/plain": [
       "0.6644109387835125"
      ]
     },
     "execution_count": 124,
     "metadata": {},
     "output_type": "execute_result"
    }
   ],
   "source": [
    "c.var()"
   ]
  },
  {
   "cell_type": "code",
   "execution_count": 125,
   "metadata": {},
   "outputs": [],
   "source": [
    "# A quick rule of thumb can be to check that max(s)/min(s) < 2"
   ]
  },
  {
   "cell_type": "code",
   "execution_count": 127,
   "metadata": {},
   "outputs": [
    {
     "data": {
      "text/plain": [
       "1.2095292215738713"
      ]
     },
     "execution_count": 127,
     "metadata": {},
     "output_type": "execute_result"
    }
   ],
   "source": [
    "max(a.std(), b.std(), c.std()) / min(a.std(), b.std(), c.std())"
   ]
  },
  {
   "cell_type": "markdown",
   "metadata": {},
   "source": [
    "#### Boxplot"
   ]
  },
  {
   "cell_type": "code",
   "execution_count": 129,
   "metadata": {},
   "outputs": [
    {
     "data": {
      "image/png": "[encoded data removed]",
      "text/plain": [
       "<Figure size 504x360 with 1 Axes>"
      ]
     },
     "metadata": {
      "needs_background": "light"
     },
     "output_type": "display_data"
    }
   ],
   "source": [
    "plt.figure(figsize=(7,5))\n",
    "plt.boxplot((a,b,c),labels=['a','b','c'])\n",
    "plt.show()"
   ]
  },
  {
   "cell_type": "markdown",
   "metadata": {},
   "source": [
    "#### Bartlett's test & Levene's test\n",
    "\n",
    "Bartlett's test tests the null hypothesis that all input samples are from populations with equal variances. For samples\n",
    "from significantly non-normal populations, Levene's test is more robust."
   ]
  },
  {
   "cell_type": "code",
   "execution_count": 132,
   "metadata": {},
   "outputs": [
    {
     "data": {
      "text/plain": [
       "BartlettResult(statistic=0.2416770870819695, pvalue=0.8861770270478303)"
      ]
     },
     "execution_count": 132,
     "metadata": {},
     "output_type": "execute_result"
    }
   ],
   "source": [
    "# The Bartlett's test tests the null hypothesis that the data was drawn from populations with equal variances.\n",
    "# Since H0 is homoscedasticity, in contrast to other tests, here equal variances are rejected iff p < 0.05\n",
    "stats.bartlett(a,b,c)"
   ]
  },
  {
   "cell_type": "code",
   "execution_count": 133,
   "metadata": {},
   "outputs": [
    {
     "data": {
      "text/plain": [
       "LeveneResult(statistic=0.1721065106363276, pvalue=0.8420588924888823)"
      ]
     },
     "execution_count": 133,
     "metadata": {},
     "output_type": "execute_result"
    }
   ],
   "source": [
    "# The Levene's test tests the null hypothesis that the data was drawn from populations with equal variances.\n",
    "# Since H0 is homoscedasticity, in contrast to other tests, here equal variances are rejected iff p < 0.05\n",
    "# Levene's test is more robust that Bartlett's if samples from significantly non-normal populations.\n",
    "stats.levene(a,b,c)"
   ]
  },
  {
   "cell_type": "code",
   "execution_count": null,
   "metadata": {},
   "outputs": [],
   "source": []
  }
 ],
 "metadata": {
  "kernelspec": {
   "display_name": "Python 3",
   "language": "python",
   "name": "python3"
  },
  "language_info": {
   "codemirror_mode": {
    "name": "ipython",
    "version": 3
   },
   "file_extension": ".py",
   "mimetype": "text/x-python",
   "name": "python",
   "nbconvert_exporter": "python",
   "pygments_lexer": "ipython3",
   "version": "3.6.8"
  }
 },
 "nbformat": 4,
 "nbformat_minor": 4
}
