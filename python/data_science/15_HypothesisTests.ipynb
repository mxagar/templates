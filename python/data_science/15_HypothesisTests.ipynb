{
 "cells": [
  {
   "cell_type": "markdown",
   "metadata": {},
   "source": [
    "# Statistical Hypothesis Tests"
   ]
  },
  {
   "cell_type": "markdown",
   "metadata": {},
   "source": [
    "This notebook is a summary of the most important statistical tests in python\n",
    "1. T-Test\n",
    "2. ANOVA\n",
    "3. Goodness of Fit, $\\chi^2$\n",
    "4. Acceptance sampling\n",
    "\n",
    "Necessary assumption tests and plots are covered too:\n",
    "5. Normality\n",
    "6. \n",
    "7. \n",
    "\n",
    "Some alternative tests for the case in which assumptions are not met are provided too:\n",
    "8. \n",
    "9. \n",
    "10. \n",
    "\n",
    "Sources:\n",
    "\n",
    "https://medium.com/@rrfd/f-tests-and-anovas-examples-with-the-iris-dataset-fe7caa3e21d0\n",
    "\n",
    "https://www.statisticshowto.com/probability-and-statistics/t-test/#PairedTTest\n",
    "\n",
    "https://towardsdatascience.com/inferential-statistics-series-t-test-using-numpy-2718f8f9bf2f\n",
    "\n",
    "https://www.itl.nist.gov/div898/handbook/eda/section3/eda35f.htm\n",
    "\n",
    "https://www.statology.org/chi-square-goodness-of-fit-test-python/"
   ]
  },
  {
   "cell_type": "markdown",
   "metadata": {},
   "source": [
    "## Hypothesis Testing"
   ]
  },
  {
   "cell_type": "markdown",
   "metadata": {},
   "source": [
    "Brief explanation.\n",
    "\n",
    "- `H0`: Null hypothesis, the one we usually want to reject. Example: *\"The new drug has no effect on the recovery time, e.g. mean recovery time of placebo = drug\"*.\n",
    "- `Ha`: Alternate hypothesis (aka `H1`, `HA`), the one we usually want to confirm. *\"The new drug does have an effect on the recovery time, e.g. mean recovery time of drug is different/shorter than that of the placebo\"*.\n",
    "- `alpha` (threshold significance, or significance level): typically set to `0.05`, p-value threshold below which we can reject `H0` and take `Ha` as probable. We basically acknowledge that there is an `alpha` chance of `H0` being correct, thus, wrongly rejected. Therefore, `alpha` is the **Type-I error**, i.e., the **false positive** error. We usually compute the p-value of `H0` and check that it is below the threshold `alpha`. We can also compute the critical statistic for `alpha` and check that our statistic is in the limits.\n",
    "\n",
    "Other important concepts:\n",
    "- Factor\n",
    "- Treatment\n",
    "- Condition\n",
    "- Assumptions\n",
    "- Degree of freedom, `df`\n",
    "- Between vs within studies\n",
    "- Repeated measures\n",
    "- Parametric vs. non-parametric tests\n",
    "- PDF, CDF\n",
    "- `beta` (`1-beta` = Power): **Type-II error**, i.e., the **false negative** error, the worst of the errors and the one we'd like to avoid. A typical value for the power is `1-beta = 0.8`. We can build a `2x2`confusion matrix with `H0` and `HA` being chosen/rejected. In the cells, we would have `alpha` and `beta`\n",
    "    - p(choose `Ha`|`Ha` is true) = `1-beta` = power\n",
    "    - p(choose `H0`|`H0` is true) = `1-alpha`\n",
    "    - p(choose `Ha`|`H0` is true) = `beta` = p(type II error)\n",
    "    - p(choose `H0`|`Ha` is true) = `alpha` = p(type I error)\n",
    "- Sample size (`N`): how many samples do we need to draw meaningful conclusions? Usually that is studied in a **power analysis**, when studying the **experimental design** (see below).\n",
    "- Effect size (`ES`): magnitude of the effect that is significant; in addition to the significance of the treatment (p-value), we compute how big that effect is. Depending on the statistical test, different `ES` computations can be done. A typical one is Cohen's d. Given two samples A and B for which variable x is measured:\n",
    "    - $d = ES = \\frac{mean(x_A) - mean(x_B)}{S_{AB}}$\n",
    "    - $S_{AB} = \\sqrt{\\frac{(N_A-1)*S_A^2 + (N_B-1)*S_B^2}{N_A+N_B-2}}$, pooled standard deviation\n",
    "    - Then:\n",
    "        d < 0.2: small effect,\n",
    "        0.2 < d < 0.5 medium,\n",
    "        d > 0.5 large"
   ]
  },
  {
   "cell_type": "markdown",
   "metadata": {},
   "source": [
    "## Experimental Design\n",
    "\n",
    "- We need to maintain all possible influences constant when we administer any treatment, i.e., maintain any known factors constant, as well as any cicumstances that might hide unknown factors\n",
    "- Good practices\n",
    "    - Randomization: systematically alter order of treatments\n",
    "    - Use groups of similar people\n",
    "    - Use control groups: groups that do not receive any treatment\n",
    "    - Use blind trials: single-blind (participant is agnostic), double-blind (participant & tester agnostic), triple-blind (participant, tester, statiscian agnostic)\n",
    "- Consider **power analysis**\n",
    "    - These four parameters are inter-related, so we can obtain one given the other three:\n",
    "        - effect size `ES` (magnitude of the effect),\n",
    "        - `alpha` (type I error),\n",
    "        - `beta` (type II error),\n",
    "        - sample size `N` (number of measurements)\n",
    "    - Typical power analyses done:\n",
    "        - A priori or before the study: given `ES`, `alpha`, `beta`, compute the sample size `N` required for them. While `alpha` and `beta` are set as requirements, `ES` is computed with pilot studies or looking at similar studies.\n",
    "        - Post-hoc or after the study: given `ES`, `alpha`, sample size `N`, compute the type II error `beta` or power (`1-beta`) of the study."
   ]
  },
  {
   "cell_type": "markdown",
   "metadata": {},
   "source": [
    "## 1. T-Test"
   ]
  },
  {
   "cell_type": "markdown",
   "metadata": {},
   "source": [
    "A T-Test compares two **averages** (means) and determines the likelyhood that they belog to the same or different distributions. The differences between means can be due to the fact that they belong to different distributions, or they could happen by chance.\n",
    "\n",
    "Typical example: The efficiency of a drug is tested: a control group receives a placebo and the other group the drug; the recovery time is measured. Are the means of both sampled groups effectively the same, i.e., do they belong to the same distribution?\n",
    "\n",
    "Types of T-Tests:\n",
    "1. **One sample T-test**: the mean of the samples is compared to a known (theoretical) population mean.\n",
    "2. **Independent samples T-test**: the means of two independent sample sets are compared.\n",
    "3. **Paired/Related/Repeated samples T-test**: the means of the same group (samples) are compared at different times or treatments.\n",
    "\n",
    "The T score or statistic is computed and its associated probability evaluated in the Student's T distribution.\n",
    "- The T score is the ration between the difference between the groups and the difference within the groups\n",
    "- The larger the T score, the more likely we have two different distributions\n",
    "- The T distirbution is similar in shape to the normal distribution, but with fatter tails for smaller sample sizes\n",
    "- Unique parameter of the T distribution: Defree-of-freedom: `df = N - 1`, sample size; `T(df->inf) = Normal(0,1)`\n",
    "\n",
    "**T statistic computation**:\n",
    "- One sample with $x_i$ measurements:\n",
    "    - $T = \\frac{mean(x) - m}{\\frac{s}{\\sqrt{N}}}$\n",
    "    - $m$: population mean\n",
    "    - $N$: sample size\n",
    "    - $s$: sample standard deviation: $s^2 = \\frac{\\sum{x-mean(x)}}{N-1}$\n",
    "    - $mean(x)$: sample mean\n",
    "    - `df` = N-1\n",
    "\n",
    "- Two samples (independent):\n",
    "    - $T = \\frac{mean(x_A) - mean(x_B)}{s_{AB}*\\sqrt{\\frac{1}{N_A}+\\frac{1}{N_B}}}$\n",
    "    - $s_{AB} = \\sqrt{\\frac{(N_A-1)*s_A^2 + (N_B-1)*s_B^2}{N_A+N_B-2}}$, pooled standard deviation\n",
    "    - `df` = $N_A + N_B - 2$\n",
    "\n",
    "**Two-sided/tailed vs one-sided/tailed**:\n",
    "- Test distributions can be symmetrical (e.g., Student's T distribution) or asymmetrical (e.g. F distribution for ANOVAs, or Chi-square tests)\n",
    "    - Tests based on asymmetrical distributions are always one-sided\n",
    "    - Tests based on symmetrical distributions can be one-sided or two-sided\n",
    "- **One-sided** tests check if there is a difference between groups **in a specific direction**, e.g., one mean is expected bigger than the other.\n",
    "- **Two-sided** tests check if there is a difference between groups **in any direction**, e.g., means expected to belong to different distributions.\n",
    "- When we manually check the p-value given a statistic, we check the area under the curve in one extreme tail: 1-CDF(t). That is a one-sided test and p-value.\n",
    "    - The two-sided p-value is 2x the one-sided one.\n",
    "    - Why? because a value of t comes from the difference of means in one direction; we have an equivalent -t for the other direction, which takes the area of the other tail. Since the distribution is symmetrical, both areas are the same, thus, the complete p-value area is 2x one tail.\n",
    "- Usually, the two-sided check is the go, which is also more conservative: higher p-value -> more difficult to reject `H0`.\n",
    "\n",
    "**Assumptions**: \n",
    "- Measurements normally distributed: tested with boxplots, QQ-plots and Shapiro-Wilks test \n",
    "- Same variance; if not, it must be entered as `equal_var=False` and Welch's T-test is performed\n",
    "- For the independent samples test: independent sampling of the population between groups\n",
    "\n",
    "**IMPORTANT note**: do not use T-tests repeteadly in groups pairwise without corrections, because it leads to false positives (it increases type I error). Instead, use ANOVA."
   ]
  },
  {
   "cell_type": "markdown",
   "metadata": {},
   "source": [
    "### 1.1 Plotting the Student's T Distribution"
   ]
  },
  {
   "cell_type": "code",
   "execution_count": 131,
   "metadata": {},
   "outputs": [],
   "source": [
    "import numpy as np\n",
    "from scipy.stats import norm,t\n",
    "import scipy.stats as stats\n",
    "from matplotlib import pyplot as plt\n",
    "import seaborn as sns\n",
    "%matplotlib inline"
   ]
  },
  {
   "cell_type": "code",
   "execution_count": 132,
   "metadata": {},
   "outputs": [],
   "source": [
    "df_values = [1, 10, 100]\n",
    "linestyles = [':', '--', '-']\n",
    "linecolors = ['red', 'green', 'blue']\n",
    "x = np.arange(-10, 10, 0.01)"
   ]
  },
  {
   "cell_type": "code",
   "execution_count": 133,
   "metadata": {},
   "outputs": [
    {
     "data": {
      "image/png": "[encoded data removed]",
      "text/plain": [
       "<Figure size 576x360 with 1 Axes>"
      ]
     },
     "metadata": {
      "needs_background": "light"
     },
     "output_type": "display_data"
    }
   ],
   "source": [
    "# Student's T Distribution: Probability Density Function\n",
    "fig, ax = plt.subplots(figsize=(8, 5))\n",
    "for (df,ls,lc) in zip(df_values, linestyles, linecolors):\n",
    "    dist = t(df)\n",
    "    # NOTE: if we have a discrete distribution, use plt.step(), not plt.plot()\n",
    "    plt.plot(x, dist.pdf(x), color=lc, linestyle=ls, label='$df={}$'.format(df))\n",
    "plt.xlabel('$x$')\n",
    "plt.ylabel('$p(x|df)$')\n",
    "plt.title(\"Student's T Distribution\")\n",
    "plt.legend()\n",
    "plt.show()"
   ]
  },
  {
   "cell_type": "markdown",
   "metadata": {},
   "source": [
    "### 1.2 Performing the Tests"
   ]
  },
  {
   "cell_type": "markdown",
   "metadata": {},
   "source": [
    "#### Data"
   ]
  },
  {
   "cell_type": "code",
   "execution_count": 134,
   "metadata": {},
   "outputs": [],
   "source": [
    "# Sythetic measurements\n",
    "N = 100\n",
    "# Gaussian distributed data with mean = 2 and var = 1\n",
    "a = np.random.randn(N) + 2\n",
    "# Gaussian distributed data with with mean = 0 and var = 1\n",
    "b = np.random.randn(N)"
   ]
  },
  {
   "cell_type": "code",
   "execution_count": 135,
   "metadata": {},
   "outputs": [
    {
     "data": {
      "text/plain": [
       "<AxesSubplot:ylabel='Count'>"
      ]
     },
     "execution_count": 135,
     "metadata": {},
     "output_type": "execute_result"
    },
    {
     "data": {
      "image/png": "[encoded data removed]",
      "text/plain": [
       "<Figure size 720x432 with 1 Axes>"
      ]
     },
     "metadata": {
      "needs_background": "light"
     },
     "output_type": "display_data"
    }
   ],
   "source": [
    "plt.figure(figsize=(10,6))\n",
    "sns.histplot(data=a,color='red',kde=True,bins=20)\n",
    "sns.histplot(data=b,color='green',kde=True,bins=20)"
   ]
  },
  {
   "cell_type": "markdown",
   "metadata": {},
   "source": [
    "#### Tests"
   ]
  },
  {
   "cell_type": "code",
   "execution_count": 136,
   "metadata": {},
   "outputs": [],
   "source": [
    "# Several T-Tests are available, given arrays of measurement a and b:\n",
    "# scipy.stats\n",
    "# .ttest_1samp(a, popmean): mean of the sample compared to a population mean; two-sided\n",
    "# .ttest_ind(a, b): two independent sample means compared; two-sided\n",
    "# .ttest_rel(a, b): two related/repeated sample means compared; two-sided\n",
    "# .ttest_ind_from_stats(ma, sa, na, mb, sb, nb): means of two independent samples from descriptive statistics compared; two-sided"
   ]
  },
  {
   "cell_type": "code",
   "execution_count": 137,
   "metadata": {},
   "outputs": [],
   "source": [
    "# Two independent samples\n",
    "t, p = stats.ttest_ind(a,b)"
   ]
  },
  {
   "cell_type": "code",
   "execution_count": 138,
   "metadata": {},
   "outputs": [
    {
     "name": "stdout",
     "output_type": "stream",
     "text": [
      "t = 12.00022883751669\n",
      "p = 2.7449121662279317e-25\n"
     ]
    }
   ],
   "source": [
    "# p < 0.05 -> H0 can be rejected, both samples belong to two different distributions\n",
    "print(\"t = \" + str(t))\n",
    "print(\"p = \" + str(p))"
   ]
  },
  {
   "cell_type": "code",
   "execution_count": 139,
   "metadata": {},
   "outputs": [],
   "source": [
    "# Two repeated samples\n",
    "t, p = stats.ttest_rel(a,b)"
   ]
  },
  {
   "cell_type": "code",
   "execution_count": 140,
   "metadata": {},
   "outputs": [
    {
     "name": "stdout",
     "output_type": "stream",
     "text": [
      "t = 13.099663938346794\n",
      "p = 2.4160444301959093e-23\n"
     ]
    }
   ],
   "source": [
    "# p < 0.05 -> H0 can be rejected, both samples belong to two different distributions\n",
    "print(\"t = \" + str(t))\n",
    "print(\"p = \" + str(p))"
   ]
  },
  {
   "cell_type": "markdown",
   "metadata": {},
   "source": [
    "Observations:\n",
    "- For both independent and paired/repeated samples, the T statistic and the `df`s vary, so the T distribution is different and the value check in there too, thus, a different p-value is obtained\n",
    "- For larger sample sizes, the results are more conclusive"
   ]
  },
  {
   "cell_type": "markdown",
   "metadata": {},
   "source": [
    "### 1.3 Alternative: Manual Computations"
   ]
  },
  {
   "cell_type": "code",
   "execution_count": 141,
   "metadata": {},
   "outputs": [],
   "source": [
    "# Variance s^2 of each sample computed with N-1 (ddof=1)\n",
    "var_a = a.var(ddof=1) # (s_A)^2\n",
    "var_b = b.var(ddof=1) # (s_B)^2\n",
    "\n",
    "# Pooled standard deviation: standard deviation of both samples together\n",
    "s_ab = np.sqrt(((len(a)-1)*var_a + (len(b)-1)*var_b)/(len(a)+len(b)-2))\n",
    "\n",
    "# T statistic\n",
    "t = (a.mean() - b.mean())/(s_ab*np.sqrt((1/len(a))+(1/len(b))))"
   ]
  },
  {
   "cell_type": "code",
   "execution_count": 142,
   "metadata": {},
   "outputs": [
    {
     "name": "stdout",
     "output_type": "stream",
     "text": [
      "t = 12.00022883751669\n"
     ]
    }
   ],
   "source": [
    "print(\"t = \" + str(t))"
   ]
  },
  {
   "cell_type": "code",
   "execution_count": 143,
   "metadata": {},
   "outputs": [
    {
     "name": "stdout",
     "output_type": "stream",
     "text": [
      "t = 12.00022883751669\n",
      "p = 0.0\n"
     ]
    }
   ],
   "source": [
    "# With T and df, we can get the p-value from the T distribution\n",
    "df = len(a) + len(b) - 1\n",
    "# p-value is obtained form the cummulative density function (CDF) with the given df\n",
    "# since we want the remaining are under the PDF, we need to compute 1-CDF(t)\n",
    "p = 1 - stats.t.cdf(t,df=df)\n",
    "# Since we usually compute a 2-sided test (differences in any direction tested)\n",
    "# we need to 2x the p-value\n",
    "p *= 2.0\n",
    "# Display\n",
    "print(\"t = \" + str(t))\n",
    "print(\"p = \" + str(p))"
   ]
  },
  {
   "cell_type": "markdown",
   "metadata": {},
   "source": [
    "## 2. ANOVA"
   ]
  },
  {
   "cell_type": "markdown",
   "metadata": {},
   "source": [
    "## 3. Goodness of Fit"
   ]
  },
  {
   "cell_type": "markdown",
   "metadata": {},
   "source": [
    "## 4. Acceptance sampling"
   ]
  },
  {
   "cell_type": "markdown",
   "metadata": {},
   "source": [
    "## 5. Assumption Checks"
   ]
  },
  {
   "cell_type": "markdown",
   "metadata": {},
   "source": [
    "### Normality"
   ]
  },
  {
   "cell_type": "code",
   "execution_count": 117,
   "metadata": {},
   "outputs": [],
   "source": [
    "# Sythetic measurements\n",
    "N = 50\n",
    "# Gaussian distributed data with mean = 2 and var = 1\n",
    "a = np.random.randn(N) + 2\n",
    "# Gaussian distributed data with with mean = 0 and var = 1\n",
    "b = np.random.randn(N)"
   ]
  },
  {
   "cell_type": "markdown",
   "metadata": {},
   "source": [
    "#### Boxplots"
   ]
  },
  {
   "cell_type": "code",
   "execution_count": null,
   "metadata": {},
   "outputs": [],
   "source": []
  },
  {
   "cell_type": "markdown",
   "metadata": {},
   "source": [
    "#### QQ Plots"
   ]
  },
  {
   "cell_type": "code",
   "execution_count": null,
   "metadata": {},
   "outputs": [],
   "source": []
  },
  {
   "cell_type": "markdown",
   "metadata": {},
   "source": [
    "#### Shapiro-Wilk"
   ]
  },
  {
   "cell_type": "code",
   "execution_count": null,
   "metadata": {},
   "outputs": [],
   "source": []
  }
 ],
 "metadata": {
  "kernelspec": {
   "display_name": "Python 3",
   "language": "python",
   "name": "python3"
  },
  "language_info": {
   "codemirror_mode": {
    "name": "ipython",
    "version": 3
   },
   "file_extension": ".py",
   "mimetype": "text/x-python",
   "name": "python",
   "nbconvert_exporter": "python",
   "pygments_lexer": "ipython3",
   "version": "3.6.8"
  }
 },
 "nbformat": 4,
 "nbformat_minor": 2
}
