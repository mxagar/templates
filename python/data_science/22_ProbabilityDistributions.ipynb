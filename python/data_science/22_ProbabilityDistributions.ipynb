{
 "cells": [
  {
   "cell_type": "markdown",
   "metadata": {},
   "source": [
    "# Probability Distributions"
   ]
  },
  {
   "cell_type": "markdown",
   "metadata": {},
   "source": [
    "Important probability distributions, their properties & applications:\n",
    "\n",
    "- Normal\n",
    "- Bernoulli\n",
    "- Binomial\n",
    "- Geometric distribution\n",
    "- Cauchy\n",
    "- Poisson\n",
    "- Weibull\n",
    "- Stundet's T\n",
    "- Chi-Squared\n",
    "- Lognormal\n",
    "- Uniform\n",
    "- Exponential\n",
    "- Gamma\n",
    "- Beta\n",
    "- F distribution\n",
    "\n",
    "Functions:\n",
    "- Probability Mass Function (discrete)\n",
    "- Probability Density Function (continuous)\n",
    "- Cummulative Distribution Function\n",
    "\n",
    "Properties:\n",
    "- Support or range\n",
    "- Mean: E\n",
    "- Variance: V\n",
    "- Median\n",
    "- Mode\n",
    "- Kurtosis\n",
    "- Skewness\n",
    "- Entropy\n",
    "\n",
    "Concepts:\n",
    "- Central Limit Theorem"
   ]
  },
  {
   "cell_type": "code",
   "execution_count": null,
   "metadata": {},
   "outputs": [],
   "source": []
  }
 ],
 "metadata": {
  "kernelspec": {
   "display_name": "Python 3",
   "language": "python",
   "name": "python3"
  },
  "language_info": {
   "codemirror_mode": {
    "name": "ipython",
    "version": 3
   },
   "file_extension": ".py",
   "mimetype": "text/x-python",
   "name": "python",
   "nbconvert_exporter": "python",
   "pygments_lexer": "ipython3",
   "version": "3.6.8"
  }
 },
 "nbformat": 4,
 "nbformat_minor": 2
}
