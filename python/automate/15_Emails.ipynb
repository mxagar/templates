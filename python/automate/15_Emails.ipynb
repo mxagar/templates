{
 "cells": [
  {
   "cell_type": "markdown",
   "metadata": {},
   "source": [
    "# Automate Boring Stuff with Python\n",
    "## Section 15: Emails"
   ]
  },
  {
   "cell_type": "markdown",
   "metadata": {},
   "source": [
    "Usecase: send email notifications if a programs finds sth in, eg, a spreadsheet.\n",
    "\n",
    "Email protocols are as old as the internet and not user friendly. That's why we get many old-fashioned byte literals `b''` and weird output."
   ]
  },
  {
   "cell_type": "markdown",
   "metadata": {},
   "source": [
    "### Send emails: SMTP"
   ]
  },
  {
   "cell_type": "code",
   "execution_count": null,
   "metadata": {},
   "outputs": [],
   "source": [
    "import smtplib"
   ]
  },
  {
   "cell_type": "code",
   "execution_count": null,
   "metadata": {},
   "outputs": [],
   "source": [
    "# Create connection to an SMTP server with port 587 (that's the usual port)\n",
    "conn = smtplib.SMTP('smtp.gmail.com', 587)"
   ]
  },
  {
   "cell_type": "code",
   "execution_count": null,
   "metadata": {},
   "outputs": [],
   "source": [
    "# Start connection (helo -> ehlo); 250 answer means connection is OK\n",
    "conn.ehlo()"
   ]
  },
  {
   "cell_type": "code",
   "execution_count": null,
   "metadata": {},
   "outputs": [],
   "source": [
    "# Start TLS encryption (for securely sending our PW); 220 answer means everything OK\n",
    "conn.starttls()"
   ]
  },
  {
   "cell_type": "code",
   "execution_count": null,
   "metadata": {},
   "outputs": [],
   "source": [
    "# In order to user the Google mail, we need to create an App Password or a Google specific password\n",
    "# https://support.google.com/accounts/answer/185833?hl=en\n",
    "# Steps\n",
    "# - go to https://myaccount.google.com/\n",
    "# - select Security\n",
    "# - activate 2-Step Verification\n",
    "# - in Signing in to Google, select App passwords\n",
    "# - create a new passoword which will be used by the script (these passwords are tied to specific devices and programs)"
   ]
  },
  {
   "cell_type": "code",
   "execution_count": null,
   "metadata": {},
   "outputs": [],
   "source": [
    "# Log in with usermail + pw\n",
    "# WARNING: DO NOT UPLOAD FILE WITH PW ANYWHERE!\n",
    "usermail = 'username@gmail.com'\n",
    "pw = '...' # DO NOT SHARE! Insert here the app-specific pw we generated\n",
    "conn.login(usermail,pw)"
   ]
  },
  {
   "cell_type": "code",
   "execution_count": null,
   "metadata": {},
   "outputs": [],
   "source": [
    "# The structure of an email fix and it should be \"Subject: <My Subject>\\n\\n<Body text>\"\n",
    "EmailText = '''Subject: My nice Subject\\n\\n\n",
    "Dear Mikel,\\n\n",
    "This is a test.\\n\n",
    "All the best,\\n\n",
    "Mikel\n",
    "'''"
   ]
  },
  {
   "cell_type": "code",
   "execution_count": null,
   "metadata": {},
   "outputs": [],
   "source": [
    "EmailText"
   ]
  },
  {
   "cell_type": "code",
   "execution_count": null,
   "metadata": {},
   "outputs": [],
   "source": [
    "# Send email; return is a dictionary with emails not sent, so an empty dict is a good signal\n",
    "# from email first\n",
    "# to emails second - we can write to several, see docs; but companies cap number of emails to 150 usually\n",
    "conn.sendmail(usermail, 'mxagar@gmail.com', EmailText)"
   ]
  },
  {
   "cell_type": "code",
   "execution_count": null,
   "metadata": {},
   "outputs": [],
   "source": [
    "conn.quit()"
   ]
  },
  {
   "cell_type": "markdown",
   "metadata": {},
   "source": [
    "### Receive/read emails: IMAP"
   ]
  },
  {
   "cell_type": "markdown",
   "metadata": {},
   "source": [
    "Email protocols are very old and not user friendly.\n",
    "Python has the library `imaplib`, but we won't use it.\n",
    "Instead, we're going to use `imapclient` and `pyzmail`."
   ]
  },
  {
   "cell_type": "code",
   "execution_count": null,
   "metadata": {},
   "outputs": [],
   "source": [
    "# Install modules\n",
    "# pip/3/conda install imapclient/pyzmail"
   ]
  },
  {
   "cell_type": "code",
   "execution_count": 4,
   "metadata": {},
   "outputs": [],
   "source": [
    "import imapclient"
   ]
  },
  {
   "cell_type": "code",
   "execution_count": 5,
   "metadata": {},
   "outputs": [],
   "source": [
    "# Connect to the IMAP server of the email provider\n",
    "conn = imapclient.IMAPClient('imap.gmail.com', ssl=True)"
   ]
  },
  {
   "cell_type": "code",
   "execution_count": null,
   "metadata": {},
   "outputs": [],
   "source": [
    "conn.login('username@gmail.com', 'app-specific-pw')"
   ]
  },
  {
   "cell_type": "code",
   "execution_count": null,
   "metadata": {},
   "outputs": [],
   "source": [
    "# List all folders we have\n",
    "conn.list_folders()"
   ]
  },
  {
   "cell_type": "code",
   "execution_count": null,
   "metadata": {},
   "outputs": [],
   "source": [
    "# Usually, we connect to the INBOX folder\n",
    "conn.select_folder('INBOX', readonly=True)"
   ]
  },
  {
   "cell_type": "code",
   "execution_count": null,
   "metadata": {},
   "outputs": [],
   "source": [
    "# Get the IDs of the emails since a spacific date\n",
    "# We select an ID from the list to get the email content\n",
    "# The search function has many keys - see the docs: BEFORE, SUBJECT/BODY/TEXT string, SEEN/UNSEEN, etc.\n",
    "UIDs = conn.search(['SINCE 20-Aug-2020'])"
   ]
  },
  {
   "cell_type": "code",
   "execution_count": null,
   "metadata": {},
   "outputs": [],
   "source": [
    "# Get the raw message of email with ID 47474\n",
    "# Although the content is cryptic, we can already understand what's inside of it\n",
    "rawMessage = conn.fetch([47474], ['BODY[]', 'FLAGS'])"
   ]
  },
  {
   "cell_type": "code",
   "execution_count": 6,
   "metadata": {},
   "outputs": [],
   "source": [
    "# Raw message needs to be parsed\n",
    "# This is done wth pyzmail"
   ]
  },
  {
   "cell_type": "code",
   "execution_count": 7,
   "metadata": {},
   "outputs": [],
   "source": [
    "import pyzmail"
   ]
  },
  {
   "cell_type": "code",
   "execution_count": null,
   "metadata": {},
   "outputs": [],
   "source": [
    "# To parse the message we need to pass its ID again and specify we want the body\n",
    "message = pyzmail.PyzMessage.factory(rawMessage[47474][b'BODY[]'])"
   ]
  },
  {
   "cell_type": "code",
   "execution_count": null,
   "metadata": {},
   "outputs": [],
   "source": [
    "# Get email subject\n",
    "message.get_subject()"
   ]
  },
  {
   "cell_type": "code",
   "execution_count": null,
   "metadata": {},
   "outputs": [],
   "source": [
    "# Get adresses\n",
    "message.get_adresses('from')"
   ]
  },
  {
   "cell_type": "code",
   "execution_count": null,
   "metadata": {},
   "outputs": [],
   "source": [
    "message.get_adresses('to')"
   ]
  },
  {
   "cell_type": "code",
   "execution_count": null,
   "metadata": {},
   "outputs": [],
   "source": [
    "message.get_adresses('bcc')"
   ]
  },
  {
   "cell_type": "code",
   "execution_count": null,
   "metadata": {},
   "outputs": [],
   "source": [
    "# Do we have plain text or HTML email?\n",
    "message.text_part == None"
   ]
  },
  {
   "cell_type": "code",
   "execution_count": null,
   "metadata": {},
   "outputs": [],
   "source": [
    "message.html_part == None"
   ]
  },
  {
   "cell_type": "code",
   "execution_count": null,
   "metadata": {},
   "outputs": [],
   "source": [
    "# Get plain text message (usually UTF-8 encoding is used)\n",
    "message.text_part.get_payload().decode('UTF-8')"
   ]
  },
  {
   "cell_type": "code",
   "execution_count": null,
   "metadata": {},
   "outputs": [],
   "source": [
    "# If we want to delete a message: open folder not in readonly mode\n",
    "# conn.select_folder('INBOX', readonly=False)\n",
    "# Select email ID and delete it\n",
    "conn.delete_messages([47474])"
   ]
  },
  {
   "cell_type": "code",
   "execution_count": null,
   "metadata": {},
   "outputs": [],
   "source": [
    "# Close session\n",
    "conn.logout()"
   ]
  }
 ],
 "metadata": {
  "kernelspec": {
   "display_name": "Python 3",
   "language": "python",
   "name": "python3"
  },
  "language_info": {
   "codemirror_mode": {
    "name": "ipython",
    "version": 3
   },
   "file_extension": ".py",
   "mimetype": "text/x-python",
   "name": "python",
   "nbconvert_exporter": "python",
   "pygments_lexer": "ipython3",
   "version": "3.6.8"
  },
  "varInspector": {
   "cols": {
    "lenName": 16,
    "lenType": 16,
    "lenVar": 40
   },
   "kernels_config": {
    "python": {
     "delete_cmd_postfix": "",
     "delete_cmd_prefix": "del ",
     "library": "var_list.py",
     "varRefreshCmd": "print(var_dic_list())"
    },
    "r": {
     "delete_cmd_postfix": ") ",
     "delete_cmd_prefix": "rm(",
     "library": "var_list.r",
     "varRefreshCmd": "cat(var_dic_list()) "
    }
   },
   "types_to_exclude": [
    "module",
    "function",
    "builtin_function_or_method",
    "instance",
    "_Feature"
   ],
   "window_display": false
  }
 },
 "nbformat": 4,
 "nbformat_minor": 4
}
