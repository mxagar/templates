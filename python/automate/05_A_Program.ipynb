{
 "cells": [
  {
   "cell_type": "markdown",
   "metadata": {},
   "source": [
    "# Automate Boring Stuff with Python\n",
    "## Section 5: Writing a Program: Guess the Number"
   ]
  },
  {
   "cell_type": "code",
   "execution_count": 3,
   "metadata": {},
   "outputs": [],
   "source": [
    "def GuessTheNumber():\n",
    "    import random\n",
    "    print('Hello, what is your name?')\n",
    "    name = input()\n",
    "    number = random.randint(1,20)\n",
    "    print('Hello ' + name + ', what number am I thinking?')\n",
    "    \n",
    "    for i in range(1,7):\n",
    "        n = int(input())\n",
    "        if n < number:\n",
    "            print('Higher!')\n",
    "        elif n > number:\n",
    "            print('Lower!')\n",
    "        else:\n",
    "            break\n",
    "    \n",
    "    if n == number:\n",
    "        print('Congrats, you guessed the number I was thinking!')\n",
    "    else:\n",
    "        print('The number I was thinking of was ' + str(number))    "
   ]
  },
  {
   "cell_type": "code",
   "execution_count": 4,
   "metadata": {},
   "outputs": [
    {
     "name": "stdout",
     "output_type": "stream",
     "text": [
      "Hello, what is your name?\n",
      "Mikel\n",
      "Hello Mikel, what number am I thinking?\n",
      "3\n",
      "Higher!\n",
      "4\n",
      "Higher!\n",
      "5\n",
      "Higher!\n",
      "6\n",
      "Higher!\n",
      "12\n",
      "Higher!\n",
      "17\n",
      "Higher!\n",
      "The number I was thinking of was 18\n"
     ]
    }
   ],
   "source": [
    "GuessTheNumber()"
   ]
  },
  {
   "cell_type": "code",
   "execution_count": null,
   "metadata": {},
   "outputs": [],
   "source": []
  }
 ],
 "metadata": {
  "kernelspec": {
   "display_name": "Python 3",
   "language": "python",
   "name": "python3"
  },
  "language_info": {
   "codemirror_mode": {
    "name": "ipython",
    "version": 3
   },
   "file_extension": ".py",
   "mimetype": "text/x-python",
   "name": "python",
   "nbconvert_exporter": "python",
   "pygments_lexer": "ipython3",
   "version": "3.6.8"
  }
 },
 "nbformat": 4,
 "nbformat_minor": 2
}
